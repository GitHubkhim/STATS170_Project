{
 "cells": [
  {
   "cell_type": "code",
   "execution_count": 7,
   "metadata": {},
   "outputs": [],
   "source": [
    "import pandas as pd\n",
    "import numpy as np\n",
    "\n",
    "import metrics_summary as ms"
   ]
  },
  {
   "cell_type": "code",
   "execution_count": 8,
   "metadata": {},
   "outputs": [],
   "source": [
    "np.random.seed(170)"
   ]
  },
  {
   "cell_type": "code",
   "execution_count": 9,
   "metadata": {},
   "outputs": [],
   "source": [
    "X_train = pd.read_csv(\"data/X_train.csv\")\n",
    "X_test = pd.read_csv(\"data/X_test.csv\")\n",
    "y_train = pd.read_csv(\"data/y_train.csv\").values.ravel()\n",
    "y_test = pd.read_csv(\"data/y_test.csv\").values.ravel()"
   ]
  },
  {
   "cell_type": "markdown",
   "metadata": {},
   "source": [
    "## Stochastic Gradient Descent"
   ]
  },
  {
   "cell_type": "code",
   "execution_count": 10,
   "metadata": {},
   "outputs": [
    {
     "name": "stdout",
     "output_type": "stream",
     "text": [
      "[[50575   163]\n",
      " [ 5936    63]]\n",
      "=================================================\n",
      "Kappa Score: 0.012660811276536066\n",
      "Accuracy Score: 0.8925040097291009\n",
      "Precision: 0.27876106194690264\n",
      "Recall: 0.010501750291715286\n",
      "F1 Score: 0.020240963855421686\n",
      "AUC Score: 0.5036445840031244\n",
      "=================================================\n",
      "=================================================\n",
      "Average Accuracy Score: 0.8771091752511492\n",
      "Average Precision Score: 0.3219030695424398\n",
      "Average Recall Score: 0.1283279788706609\n",
      "Average F1 Score: 0.8771091752511492\n",
      "[0.8882141  0.89072945 0.85238397]\n",
      "Average AUC Score: 0.6986051245842556\n",
      "[0.68337767 0.68546549 0.72697221]\n",
      "=================================================\n"
     ]
    }
   ],
   "source": [
    "from sklearn.linear_model import SGDClassifier\n",
    "\n",
    "sgd = SGDClassifier(loss=\"log_loss\")\n",
    "sgd.fit(X_train, y_train)\n",
    "y_pred = sgd.predict(X_test)\n",
    "ms.metrics_summary(y_test, y_pred)\n",
    "ms.crossval_summary(sgd, X_train, y_train)"
   ]
  },
  {
   "cell_type": "markdown",
   "metadata": {},
   "source": [
    "## Stochastic Gradient Descent Using Cost-Sensitive Learning"
   ]
  },
  {
   "cell_type": "code",
   "execution_count": 11,
   "metadata": {},
   "outputs": [
    {
     "name": "stdout",
     "output_type": "stream",
     "text": [
      "[[32055 18683]\n",
      " [ 1597  4402]]\n",
      "=================================================\n",
      "Kappa Score: 0.16206261109124986\n",
      "Accuracy Score: 0.6425612915734\n",
      "Precision: 0.19068659302577431\n",
      "Recall: 0.7337889648274712\n",
      "F1 Score: 0.30270939348095177\n",
      "AUC Score: 0.682781982906463\n",
      "=================================================\n",
      "=================================================\n",
      "Average Accuracy Score: 0.6175390021486055\n",
      "Average Precision Score: 0.20948580162019273\n",
      "Average Recall Score: 0.433579854540543\n",
      "Average F1 Score: 0.6175390021486055\n",
      "[0.88646922 0.83027034 0.13587745]\n",
      "Average AUC Score: 0.6373792488488573\n",
      "[0.67037732 0.68021944 0.56154099]\n",
      "=================================================\n"
     ]
    }
   ],
   "source": [
    "sgd_cs = SGDClassifier(loss=\"log_loss\", class_weight=\"balanced\")\n",
    "sgd_cs.fit(X_train, y_train)\n",
    "y_pred = sgd_cs.predict(X_test)\n",
    "ms.metrics_summary(y_test, y_pred)\n",
    "ms.crossval_summary(sgd_cs, X_train, y_train)"
   ]
  },
  {
   "cell_type": "markdown",
   "metadata": {},
   "source": [
    "#### Stochastic Gradient Descent Using SMOTE"
   ]
  },
  {
   "cell_type": "code",
   "execution_count": 12,
   "metadata": {},
   "outputs": [
    {
     "name": "stdout",
     "output_type": "stream",
     "text": [
      "[[48612  2126]\n",
      " [ 5008   991]]\n",
      "=================================================\n",
      "Kappa Score: 0.15642424270136834\n",
      "Accuracy Score: 0.8742619454676842\n",
      "Precision: 0.3179339108116779\n",
      "Recall: 0.1651941990331722\n",
      "F1 Score: 0.21741992101799035\n",
      "AUC Score: 0.5616463328328382\n",
      "=================================================\n",
      "=================================================\n",
      "Average Accuracy Score: 0.5089333018505479\n",
      "Average Precision Score: 0.18580770082566342\n",
      "Average Recall Score: 0.7535974133190364\n",
      "Average F1 Score: 0.5089333018505479\n",
      "[0.82351741 0.5502504  0.15303209]\n",
      "Average AUC Score: 0.7168307936281119\n",
      "[0.74739133 0.76648203 0.63661902]\n",
      "=================================================\n"
     ]
    }
   ],
   "source": [
    "# implement SMOTE to oversample the minority class\n",
    "from imblearn.over_sampling import SMOTE\n",
    "from imblearn.pipeline import Pipeline\n",
    "pipeline = Pipeline(steps=[('over', SMOTE()), ('model', SGDClassifier(loss=\"log_loss\"))])\n",
    "pipeline.fit(X_train, y_train)\n",
    "y_pred = pipeline.predict(X_test)\n",
    "ms.metrics_summary(y_test, y_pred)\n",
    "ms.crossval_summary(pipeline, X_train, y_train)"
   ]
  }
 ],
 "metadata": {
  "interpreter": {
   "hash": "40d3a090f54c6569ab1632332b64b2c03c39dcf918b08424e98f38b5ae0af88f"
  },
  "kernelspec": {
   "display_name": "Python 3.8.5",
   "language": "python",
   "name": "python3"
  },
  "language_info": {
   "codemirror_mode": {
    "name": "ipython",
    "version": 3
   },
   "file_extension": ".py",
   "mimetype": "text/x-python",
   "name": "python",
   "nbconvert_exporter": "python",
   "pygments_lexer": "ipython3",
   "version": "3.8.5"
  },
  "orig_nbformat": 4
 },
 "nbformat": 4,
 "nbformat_minor": 2
}
