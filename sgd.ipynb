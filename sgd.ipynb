{
 "cells": [
  {
   "cell_type": "code",
   "execution_count": 37,
   "metadata": {},
   "outputs": [],
   "source": [
    "import pandas as pd\n",
    "import numpy as np\n",
    "import matplotlib.pyplot as plt\n",
    "import seaborn as sns"
   ]
  },
  {
   "cell_type": "code",
   "execution_count": 38,
   "metadata": {},
   "outputs": [],
   "source": [
    "X_train = pd.read_csv(\"data/X_train.csv\")\n",
    "X_test = pd.read_csv(\"data/X_test.csv\")\n",
    "y_train = pd.read_csv(\"data/y_train.csv\").values.ravel()\n",
    "y_test = pd.read_csv(\"data/y_test.csv\").values.ravel()"
   ]
  },
  {
   "cell_type": "markdown",
   "metadata": {},
   "source": [
    "## SMOTE"
   ]
  },
  {
   "cell_type": "code",
   "execution_count": 39,
   "metadata": {},
   "outputs": [
    {
     "name": "stdout",
     "output_type": "stream",
     "text": [
      "(236866, 52) (236866,)\n"
     ]
    }
   ],
   "source": [
    "# implement SMOTE to oversample the minority class\n",
    "from imblearn.over_sampling import SMOTE\n",
    "os = SMOTE(random_state=0)\n",
    "os_X, os_y = os.fit_resample(X_train, y_train)\n",
    "print(os_X.shape, os_y.shape)"
   ]
  },
  {
   "cell_type": "code",
   "execution_count": 40,
   "metadata": {},
   "outputs": [],
   "source": [
    "from sklearn.metrics import confusion_matrix, accuracy_score, precision_score, recall_score, f1_score\n",
    "from sklearn.model_selection import cross_validate\n",
    "\n",
    "# Custom function to print the metrics of the model\n",
    "def display_metrics(y_test, y_pred):\n",
    "    print(confusion_matrix(y_test, y_pred))\n",
    "    print(f'Accuracy Score: {accuracy_score(y_test, y_pred)}')\n",
    "    print(f'Precision: {precision_score(y_test, y_pred)}')\n",
    "    print(f'Recall: {recall_score(y_test, y_pred)}')\n",
    "    print(f'F1 Score: {f1_score(y_test, y_pred)}')\n",
    "\n",
    "def display_crossval_scores(model, X_train, y_train):\n",
    "    scoring = ['accuracy', 'precision', 'recall', 'f1_micro']\n",
    "\n",
    "    results = cross_validate(model, X_train, y_train, scoring=scoring, cv=5)\n",
    "    print(f\"Average Accuracy Score: {np.mean(results['test_accuracy'])}\")\n",
    "    print(f\"Average Precision Score: {np.mean(results['test_precision'])}\")\n",
    "    print(f\"Average Recall Score: {np.mean(results['test_recall'])}\")\n",
    "    print(f\"Average F1 Score: {np.mean(results['test_f1_micro'])}\")"
   ]
  },
  {
   "cell_type": "markdown",
   "metadata": {},
   "source": [
    "## Stochastic Gradient Descent"
   ]
  },
  {
   "cell_type": "code",
   "execution_count": 41,
   "metadata": {},
   "outputs": [
    {
     "name": "stdout",
     "output_type": "stream",
     "text": [
      "[[50400   295]\n",
      " [ 3183  2859]]\n",
      "Accuracy Score: 0.9386996140084953\n",
      "Precision: 0.9064679771718452\n",
      "Recall: 0.47318768619662366\n",
      "F1 Score: 0.6217920835145716\n",
      "Average Accuracy Score: 0.9526913611767526\n",
      "Average Precision Score: 0.8778177944954283\n",
      "Average Recall Score: 0.6445123020872261\n",
      "Average F1 Score: 0.9526913611767526\n"
     ]
    }
   ],
   "source": [
    "from sklearn.linear_model import SGDClassifier\n",
    "\n",
    "sgd = SGDClassifier(random_state=0)\n",
    "sgd.fit(X_train, y_train)\n",
    "y_pred = sgd.predict(X_test)\n",
    "display_metrics(y_test, y_pred)\n",
    "display_crossval_scores(sgd, X_train, y_train)"
   ]
  },
  {
   "cell_type": "markdown",
   "metadata": {},
   "source": [
    "#### Stochastic Gradient Descent Using SMOTE"
   ]
  },
  {
   "cell_type": "code",
   "execution_count": 42,
   "metadata": {},
   "outputs": [
    {
     "name": "stdout",
     "output_type": "stream",
     "text": [
      "[[47871  2824]\n",
      " [   24  6018]]\n",
      "Accuracy Score: 0.9498034792110969\n",
      "Precision: 0.6806152454195883\n",
      "Recall: 0.9960278053624627\n",
      "F1 Score: 0.8086535877452298\n",
      "Average Accuracy Score: 0.9308088147717968\n",
      "Average Precision Score: 0.9176799370518255\n",
      "Average Recall Score: 0.9710893042559775\n",
      "Average F1 Score: 0.9308088147717968\n"
     ]
    }
   ],
   "source": [
    "sgd_os = SGDClassifier(random_state=0)\n",
    "sgd_os.fit(os_X, os_y)\n",
    "y_pred = sgd_os.predict(X_test)\n",
    "display_metrics(y_test, y_pred)\n",
    "display_crossval_scores(sgd_os, os_X, os_y)\n"
   ]
  }
 ],
 "metadata": {
  "interpreter": {
   "hash": "ae5651488652e961febbac79b6ac121d2261f82ccebdbef63236855c9fe5b051"
  },
  "kernelspec": {
   "display_name": "Python 3.9.7 ('base')",
   "language": "python",
   "name": "python3"
  },
  "language_info": {
   "codemirror_mode": {
    "name": "ipython",
    "version": 3
   },
   "file_extension": ".py",
   "mimetype": "text/x-python",
   "name": "python",
   "nbconvert_exporter": "python",
   "pygments_lexer": "ipython3",
   "version": "3.9.7"
  },
  "orig_nbformat": 4
 },
 "nbformat": 4,
 "nbformat_minor": 2
}
