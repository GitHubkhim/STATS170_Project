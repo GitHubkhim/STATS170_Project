{
 "cells": [
  {
   "cell_type": "code",
   "execution_count": 119,
   "metadata": {},
   "outputs": [],
   "source": [
    "import pandas as pd\n",
    "import numpy as np\n",
    "import matplotlib.pyplot as plt"
   ]
  },
  {
   "cell_type": "code",
   "execution_count": 120,
   "metadata": {},
   "outputs": [],
   "source": [
    "combinedchis = pd.read_csv(\"data/combined_chis.csv\")"
   ]
  },
  {
   "cell_type": "markdown",
   "metadata": {},
   "source": [
    "## Separate input and output variables"
   ]
  },
  {
   "cell_type": "code",
   "execution_count": 121,
   "metadata": {},
   "outputs": [
    {
     "data": {
      "text/html": [
       "<div>\n",
       "<style scoped>\n",
       "    .dataframe tbody tr th:only-of-type {\n",
       "        vertical-align: middle;\n",
       "    }\n",
       "\n",
       "    .dataframe tbody tr th {\n",
       "        vertical-align: top;\n",
       "    }\n",
       "\n",
       "    .dataframe thead th {\n",
       "        text-align: right;\n",
       "    }\n",
       "</style>\n",
       "<table border=\"1\" class=\"dataframe\">\n",
       "  <thead>\n",
       "    <tr style=\"text-align: right;\">\n",
       "      <th></th>\n",
       "      <th>AA5C</th>\n",
       "      <th>AB1</th>\n",
       "      <th>AB100</th>\n",
       "      <th>AB112</th>\n",
       "      <th>AB113</th>\n",
       "      <th>AB115</th>\n",
       "      <th>AB117</th>\n",
       "      <th>AB118</th>\n",
       "      <th>AB119</th>\n",
       "      <th>AB127</th>\n",
       "      <th>...</th>\n",
       "      <th>AH141</th>\n",
       "      <th>SREDUC</th>\n",
       "      <th>AJ153V2_13</th>\n",
       "      <th>AJ154BV2_8</th>\n",
       "      <th>AJ154BV2_9</th>\n",
       "      <th>INS64_S</th>\n",
       "      <th>AK20_P1</th>\n",
       "      <th>AJ174_8</th>\n",
       "      <th>AJ174_9</th>\n",
       "      <th>AJ194_18</th>\n",
       "    </tr>\n",
       "  </thead>\n",
       "  <tbody>\n",
       "    <tr>\n",
       "      <th>0</th>\n",
       "      <td>-1.0</td>\n",
       "      <td>1.0</td>\n",
       "      <td>-1.0</td>\n",
       "      <td>-1.0</td>\n",
       "      <td>-1.0</td>\n",
       "      <td>-1.0</td>\n",
       "      <td>-1.0</td>\n",
       "      <td>-1.0</td>\n",
       "      <td>-1.0</td>\n",
       "      <td>2.0</td>\n",
       "      <td>...</td>\n",
       "      <td>NaN</td>\n",
       "      <td>NaN</td>\n",
       "      <td>NaN</td>\n",
       "      <td>NaN</td>\n",
       "      <td>NaN</td>\n",
       "      <td>NaN</td>\n",
       "      <td>NaN</td>\n",
       "      <td>NaN</td>\n",
       "      <td>NaN</td>\n",
       "      <td>NaN</td>\n",
       "    </tr>\n",
       "    <tr>\n",
       "      <th>1</th>\n",
       "      <td>-1.0</td>\n",
       "      <td>5.0</td>\n",
       "      <td>-1.0</td>\n",
       "      <td>-1.0</td>\n",
       "      <td>-1.0</td>\n",
       "      <td>2.0</td>\n",
       "      <td>2.0</td>\n",
       "      <td>2.0</td>\n",
       "      <td>-1.0</td>\n",
       "      <td>1.0</td>\n",
       "      <td>...</td>\n",
       "      <td>NaN</td>\n",
       "      <td>NaN</td>\n",
       "      <td>NaN</td>\n",
       "      <td>NaN</td>\n",
       "      <td>NaN</td>\n",
       "      <td>NaN</td>\n",
       "      <td>NaN</td>\n",
       "      <td>NaN</td>\n",
       "      <td>NaN</td>\n",
       "      <td>NaN</td>\n",
       "    </tr>\n",
       "    <tr>\n",
       "      <th>2</th>\n",
       "      <td>-1.0</td>\n",
       "      <td>3.0</td>\n",
       "      <td>-1.0</td>\n",
       "      <td>-1.0</td>\n",
       "      <td>-1.0</td>\n",
       "      <td>-1.0</td>\n",
       "      <td>-1.0</td>\n",
       "      <td>-1.0</td>\n",
       "      <td>-1.0</td>\n",
       "      <td>2.0</td>\n",
       "      <td>...</td>\n",
       "      <td>NaN</td>\n",
       "      <td>NaN</td>\n",
       "      <td>NaN</td>\n",
       "      <td>NaN</td>\n",
       "      <td>NaN</td>\n",
       "      <td>NaN</td>\n",
       "      <td>NaN</td>\n",
       "      <td>NaN</td>\n",
       "      <td>NaN</td>\n",
       "      <td>NaN</td>\n",
       "    </tr>\n",
       "    <tr>\n",
       "      <th>3</th>\n",
       "      <td>-1.0</td>\n",
       "      <td>4.0</td>\n",
       "      <td>-1.0</td>\n",
       "      <td>-1.0</td>\n",
       "      <td>-1.0</td>\n",
       "      <td>-1.0</td>\n",
       "      <td>-1.0</td>\n",
       "      <td>-1.0</td>\n",
       "      <td>-1.0</td>\n",
       "      <td>1.0</td>\n",
       "      <td>...</td>\n",
       "      <td>NaN</td>\n",
       "      <td>NaN</td>\n",
       "      <td>NaN</td>\n",
       "      <td>NaN</td>\n",
       "      <td>NaN</td>\n",
       "      <td>NaN</td>\n",
       "      <td>NaN</td>\n",
       "      <td>NaN</td>\n",
       "      <td>NaN</td>\n",
       "      <td>NaN</td>\n",
       "    </tr>\n",
       "    <tr>\n",
       "      <th>4</th>\n",
       "      <td>-1.0</td>\n",
       "      <td>2.0</td>\n",
       "      <td>1.0</td>\n",
       "      <td>-1.0</td>\n",
       "      <td>-1.0</td>\n",
       "      <td>-1.0</td>\n",
       "      <td>-1.0</td>\n",
       "      <td>-1.0</td>\n",
       "      <td>-1.0</td>\n",
       "      <td>1.0</td>\n",
       "      <td>...</td>\n",
       "      <td>NaN</td>\n",
       "      <td>NaN</td>\n",
       "      <td>NaN</td>\n",
       "      <td>NaN</td>\n",
       "      <td>NaN</td>\n",
       "      <td>NaN</td>\n",
       "      <td>NaN</td>\n",
       "      <td>NaN</td>\n",
       "      <td>NaN</td>\n",
       "      <td>NaN</td>\n",
       "    </tr>\n",
       "    <tr>\n",
       "      <th>...</th>\n",
       "      <td>...</td>\n",
       "      <td>...</td>\n",
       "      <td>...</td>\n",
       "      <td>...</td>\n",
       "      <td>...</td>\n",
       "      <td>...</td>\n",
       "      <td>...</td>\n",
       "      <td>...</td>\n",
       "      <td>...</td>\n",
       "      <td>...</td>\n",
       "      <td>...</td>\n",
       "      <td>...</td>\n",
       "      <td>...</td>\n",
       "      <td>...</td>\n",
       "      <td>...</td>\n",
       "      <td>...</td>\n",
       "      <td>...</td>\n",
       "      <td>...</td>\n",
       "      <td>...</td>\n",
       "      <td>...</td>\n",
       "      <td>...</td>\n",
       "    </tr>\n",
       "    <tr>\n",
       "      <th>189118</th>\n",
       "      <td>-1.0</td>\n",
       "      <td>2.0</td>\n",
       "      <td>NaN</td>\n",
       "      <td>-1.0</td>\n",
       "      <td>NaN</td>\n",
       "      <td>NaN</td>\n",
       "      <td>NaN</td>\n",
       "      <td>NaN</td>\n",
       "      <td>NaN</td>\n",
       "      <td>NaN</td>\n",
       "      <td>...</td>\n",
       "      <td>-1.0</td>\n",
       "      <td>3.0</td>\n",
       "      <td>-1.0</td>\n",
       "      <td>-1.0</td>\n",
       "      <td>-1.0</td>\n",
       "      <td>5.0</td>\n",
       "      <td>4.0</td>\n",
       "      <td>-1.0</td>\n",
       "      <td>-1.0</td>\n",
       "      <td>-1.0</td>\n",
       "    </tr>\n",
       "    <tr>\n",
       "      <th>189119</th>\n",
       "      <td>-1.0</td>\n",
       "      <td>1.0</td>\n",
       "      <td>NaN</td>\n",
       "      <td>-1.0</td>\n",
       "      <td>NaN</td>\n",
       "      <td>NaN</td>\n",
       "      <td>NaN</td>\n",
       "      <td>NaN</td>\n",
       "      <td>NaN</td>\n",
       "      <td>NaN</td>\n",
       "      <td>...</td>\n",
       "      <td>-1.0</td>\n",
       "      <td>4.0</td>\n",
       "      <td>-1.0</td>\n",
       "      <td>2.0</td>\n",
       "      <td>2.0</td>\n",
       "      <td>-1.0</td>\n",
       "      <td>-1.0</td>\n",
       "      <td>-1.0</td>\n",
       "      <td>-1.0</td>\n",
       "      <td>-1.0</td>\n",
       "    </tr>\n",
       "    <tr>\n",
       "      <th>189120</th>\n",
       "      <td>-1.0</td>\n",
       "      <td>2.0</td>\n",
       "      <td>NaN</td>\n",
       "      <td>-1.0</td>\n",
       "      <td>NaN</td>\n",
       "      <td>NaN</td>\n",
       "      <td>NaN</td>\n",
       "      <td>NaN</td>\n",
       "      <td>NaN</td>\n",
       "      <td>NaN</td>\n",
       "      <td>...</td>\n",
       "      <td>-1.0</td>\n",
       "      <td>4.0</td>\n",
       "      <td>-1.0</td>\n",
       "      <td>-1.0</td>\n",
       "      <td>-1.0</td>\n",
       "      <td>-1.0</td>\n",
       "      <td>-1.0</td>\n",
       "      <td>-1.0</td>\n",
       "      <td>-1.0</td>\n",
       "      <td>-1.0</td>\n",
       "    </tr>\n",
       "    <tr>\n",
       "      <th>189121</th>\n",
       "      <td>-1.0</td>\n",
       "      <td>3.0</td>\n",
       "      <td>NaN</td>\n",
       "      <td>-1.0</td>\n",
       "      <td>NaN</td>\n",
       "      <td>NaN</td>\n",
       "      <td>NaN</td>\n",
       "      <td>NaN</td>\n",
       "      <td>NaN</td>\n",
       "      <td>NaN</td>\n",
       "      <td>...</td>\n",
       "      <td>-1.0</td>\n",
       "      <td>3.0</td>\n",
       "      <td>-1.0</td>\n",
       "      <td>-1.0</td>\n",
       "      <td>-1.0</td>\n",
       "      <td>-1.0</td>\n",
       "      <td>-1.0</td>\n",
       "      <td>-1.0</td>\n",
       "      <td>-1.0</td>\n",
       "      <td>-1.0</td>\n",
       "    </tr>\n",
       "    <tr>\n",
       "      <th>189122</th>\n",
       "      <td>-1.0</td>\n",
       "      <td>2.0</td>\n",
       "      <td>NaN</td>\n",
       "      <td>-1.0</td>\n",
       "      <td>NaN</td>\n",
       "      <td>NaN</td>\n",
       "      <td>NaN</td>\n",
       "      <td>NaN</td>\n",
       "      <td>NaN</td>\n",
       "      <td>NaN</td>\n",
       "      <td>...</td>\n",
       "      <td>-1.0</td>\n",
       "      <td>4.0</td>\n",
       "      <td>-1.0</td>\n",
       "      <td>-1.0</td>\n",
       "      <td>-1.0</td>\n",
       "      <td>-1.0</td>\n",
       "      <td>-1.0</td>\n",
       "      <td>-1.0</td>\n",
       "      <td>-1.0</td>\n",
       "      <td>-1.0</td>\n",
       "    </tr>\n",
       "  </tbody>\n",
       "</table>\n",
       "<p>189123 rows × 784 columns</p>\n",
       "</div>"
      ],
      "text/plain": [
       "        AA5C  AB1  AB100  AB112  AB113  AB115  AB117  AB118  AB119  AB127  \\\n",
       "0       -1.0  1.0   -1.0   -1.0   -1.0   -1.0   -1.0   -1.0   -1.0    2.0   \n",
       "1       -1.0  5.0   -1.0   -1.0   -1.0    2.0    2.0    2.0   -1.0    1.0   \n",
       "2       -1.0  3.0   -1.0   -1.0   -1.0   -1.0   -1.0   -1.0   -1.0    2.0   \n",
       "3       -1.0  4.0   -1.0   -1.0   -1.0   -1.0   -1.0   -1.0   -1.0    1.0   \n",
       "4       -1.0  2.0    1.0   -1.0   -1.0   -1.0   -1.0   -1.0   -1.0    1.0   \n",
       "...      ...  ...    ...    ...    ...    ...    ...    ...    ...    ...   \n",
       "189118  -1.0  2.0    NaN   -1.0    NaN    NaN    NaN    NaN    NaN    NaN   \n",
       "189119  -1.0  1.0    NaN   -1.0    NaN    NaN    NaN    NaN    NaN    NaN   \n",
       "189120  -1.0  2.0    NaN   -1.0    NaN    NaN    NaN    NaN    NaN    NaN   \n",
       "189121  -1.0  3.0    NaN   -1.0    NaN    NaN    NaN    NaN    NaN    NaN   \n",
       "189122  -1.0  2.0    NaN   -1.0    NaN    NaN    NaN    NaN    NaN    NaN   \n",
       "\n",
       "        ...  AH141  SREDUC  AJ153V2_13  AJ154BV2_8  AJ154BV2_9  INS64_S  \\\n",
       "0       ...    NaN     NaN         NaN         NaN         NaN      NaN   \n",
       "1       ...    NaN     NaN         NaN         NaN         NaN      NaN   \n",
       "2       ...    NaN     NaN         NaN         NaN         NaN      NaN   \n",
       "3       ...    NaN     NaN         NaN         NaN         NaN      NaN   \n",
       "4       ...    NaN     NaN         NaN         NaN         NaN      NaN   \n",
       "...     ...    ...     ...         ...         ...         ...      ...   \n",
       "189118  ...   -1.0     3.0        -1.0        -1.0        -1.0      5.0   \n",
       "189119  ...   -1.0     4.0        -1.0         2.0         2.0     -1.0   \n",
       "189120  ...   -1.0     4.0        -1.0        -1.0        -1.0     -1.0   \n",
       "189121  ...   -1.0     3.0        -1.0        -1.0        -1.0     -1.0   \n",
       "189122  ...   -1.0     4.0        -1.0        -1.0        -1.0     -1.0   \n",
       "\n",
       "        AK20_P1  AJ174_8  AJ174_9  AJ194_18  \n",
       "0           NaN      NaN      NaN       NaN  \n",
       "1           NaN      NaN      NaN       NaN  \n",
       "2           NaN      NaN      NaN       NaN  \n",
       "3           NaN      NaN      NaN       NaN  \n",
       "4           NaN      NaN      NaN       NaN  \n",
       "...         ...      ...      ...       ...  \n",
       "189118      4.0     -1.0     -1.0      -1.0  \n",
       "189119     -1.0     -1.0     -1.0      -1.0  \n",
       "189120     -1.0     -1.0     -1.0      -1.0  \n",
       "189121     -1.0     -1.0     -1.0      -1.0  \n",
       "189122     -1.0     -1.0     -1.0      -1.0  \n",
       "\n",
       "[189123 rows x 784 columns]"
      ]
     },
     "execution_count": 121,
     "metadata": {},
     "output_type": "execute_result"
    }
   ],
   "source": [
    "X = combinedchis.iloc[:,:-1]\n",
    "X"
   ]
  },
  {
   "cell_type": "code",
   "execution_count": 122,
   "metadata": {},
   "outputs": [
    {
     "data": {
      "text/plain": [
       "0         0.0\n",
       "1         0.0\n",
       "2         0.0\n",
       "3         0.0\n",
       "4         0.0\n",
       "         ... \n",
       "189118    0.0\n",
       "189119    0.0\n",
       "189120    0.0\n",
       "189121    0.0\n",
       "189122    0.0\n",
       "Name: T2D, Length: 189123, dtype: float64"
      ]
     },
     "execution_count": 122,
     "metadata": {},
     "output_type": "execute_result"
    }
   ],
   "source": [
    "y = combinedchis.iloc[:, -1]\n",
    "y"
   ]
  },
  {
   "cell_type": "markdown",
   "metadata": {},
   "source": [
    "## Split training and test data"
   ]
  },
  {
   "cell_type": "code",
   "execution_count": 123,
   "metadata": {},
   "outputs": [],
   "source": [
    "from sklearn.model_selection import train_test_split\n",
    "X_train, X_test, y_train, y_test = train_test_split(X, y, test_size=0.30, random_state=0)"
   ]
  },
  {
   "cell_type": "markdown",
   "metadata": {},
   "source": [
    "## Fill NaN values and remove features"
   ]
  },
  {
   "cell_type": "code",
   "execution_count": 124,
   "metadata": {},
   "outputs": [
    {
     "data": {
      "text/plain": [
       "(132386, 763)"
      ]
     },
     "execution_count": 124,
     "metadata": {},
     "output_type": "execute_result"
    }
   ],
   "source": [
    "# remove id feature and features that already imply diabetes\n",
    "diabetes_features = [\"PUF1Y_ID\", \"AB111\", \"AB23_P1\", \"AB114_P1\", \"AJ82\", \"AB22V2\", \"DIABETES\", \"AB81\", \"AB113\", \"AB112\", \"AB51_P1\", \"AB110_P\", \"AB109\", \"AB24\", \"DIAMED\", \"AB25\"]\n",
    "similar_features = [\"WEIGHK_P\", \"WGHTK_P\", \"HEIGHM_P\", \"HGHTM_P\", \"WHOBMI\"]\n",
    "remove_features = diabetes_features + similar_features\n",
    "X_train = X_train.drop(remove_features, axis=1)\n",
    "X_test = X_test.drop(remove_features, axis=1)\n",
    "X_train.shape"
   ]
  },
  {
   "cell_type": "code",
   "execution_count": 125,
   "metadata": {},
   "outputs": [
    {
     "name": "stdout",
     "output_type": "stream",
     "text": [
      "['AC11', 'AD39W', 'AD41W', 'AD42W', 'AE2', 'AE3', 'AE7', 'AE_FRIES', 'AE_FRUIT', 'AE_SODA', 'AE_VEGI', 'DSTRSYR', 'AK10_P', 'AK10A_P', 'AK22_P', 'HGHTI_P', 'WGHTP_P', 'WT18K_P', 'WT18P_P', 'BMI_P', 'POVGWD_P1', 'DSTRS_P1', 'AD38W', 'AB26_P1', 'AC46', 'DISTRESS', 'AK7_P1', 'DIABCK_P1', 'AC47', 'AC59', 'AC87', 'AC52_P1', 'AC31', 'POVLL2_P1V2', 'AC111', 'TIMEAD_P1V2', 'AH128', 'AH5', 'AE5', 'AH132', 'AH136', 'TCURPLAN', 'AH129', 'AJ93', 'AH44B', 'AJ115_P1']\n",
      "46\n"
     ]
    }
   ],
   "source": [
    "# Find the features that have continuous values\n",
    "numerical_features = []\n",
    "for column in X_train:\n",
    "    # ignores the id feature\n",
    "    if column != 'PUF1Y_ID':\n",
    "        if X_train[column].unique().size >= 21:\n",
    "            numerical_features.append(column)\n",
    "print(numerical_features)\n",
    "print(len(numerical_features))"
   ]
  },
  {
   "cell_type": "code",
   "execution_count": 126,
   "metadata": {},
   "outputs": [
    {
     "name": "stdout",
     "output_type": "stream",
     "text": [
      "['AC11', 'AD39W', 'AD41W', 'AD42W', 'AE2', 'AE3', 'AE7', 'AE_FRIES', 'AE_FRUIT', 'AE_SODA', 'AE_VEGI', 'DSTRSYR', 'AK10_P', 'AK10A_P', 'AK22_P', 'HGHTI_P', 'WGHTP_P', 'WT18K_P', 'WT18P_P', 'BMI_P', 'POVGWD_P1', 'DSTRS_P1', 'AD38W', 'AB26_P1', 'AC46', 'DISTRESS', 'AK7_P1', 'DIABCK_P1', 'AC47', 'AC59', 'AC87', 'AC52_P1', 'AC31', 'POVLL2_P1V2', 'AC111', 'AH128', 'AH5', 'AE5', 'AH132', 'AH136', 'TCURPLAN', 'AH129', 'AJ93', 'AH44B']\n",
      "44\n"
     ]
    }
   ],
   "source": [
    "# remove the categorical variables in the numerical features list\n",
    "numerical_features.remove('TIMEAD_P1V2')\n",
    "numerical_features.remove('AJ115_P1')\n",
    "print(numerical_features)\n",
    "print(len(numerical_features))"
   ]
  },
  {
   "cell_type": "code",
   "execution_count": 127,
   "metadata": {},
   "outputs": [],
   "source": [
    "categorical_features = X_train.drop(numerical_features, axis=1)\n",
    "categorical_features = categorical_features.columns"
   ]
  },
  {
   "cell_type": "code",
   "execution_count": 128,
   "metadata": {},
   "outputs": [],
   "source": [
    "# from sklearn.compose import ColumnTransformer\n",
    "# from sklearn.impute import SimpleImputer\n",
    "\n",
    "# all_features = X_train.columns\n",
    "# # create a pipeline that applies the transformations to the dataset\n",
    "# pipeline = ColumnTransformer(\n",
    "#     [\n",
    "#         (\"categorical\", SimpleImputer(strategy=\"most_frequent\"), categorical_features),\n",
    "#         (\"numerical\", SimpleImputer(strategy=\"mean\"), numerical_features)\n",
    "#     ],\n",
    "#     remainder=\"passthrough\"\n",
    "# )\n",
    "# # apply transformations to both training and test\n",
    "# # X_train = pd.DataFrame(pipeline.fit_transform(X_train), columns=pipeline.get_feature_names_out())\n",
    "# # X_test = pd.DataFrame(pipeline.transform(X_test))"
   ]
  },
  {
   "cell_type": "code",
   "execution_count": 129,
   "metadata": {},
   "outputs": [],
   "source": [
    "# fill the numerical features with the mean in the training set\n",
    "for col in numerical_features:\n",
    "    X_train[col] = X_train[col].fillna(X_train[col].mean())"
   ]
  },
  {
   "cell_type": "code",
   "execution_count": 130,
   "metadata": {},
   "outputs": [],
   "source": [
    "# fill the numerical features with the mean in the test data\n",
    "for col in numerical_features:\n",
    "    X_test[col] = X_test[col].fillna(X_train[col].mean())"
   ]
  },
  {
   "cell_type": "code",
   "execution_count": 131,
   "metadata": {},
   "outputs": [],
   "source": [
    "# fill in the categorical features with the mode\n",
    "from sklearn.impute import SimpleImputer\n",
    "imputer = SimpleImputer(strategy=\"most_frequent\")\n",
    "X_train[:] = imputer.fit_transform(X_train)\n",
    "X_test[:] = imputer.transform(X_test)"
   ]
  },
  {
   "cell_type": "markdown",
   "metadata": {},
   "source": [
    "## Feature Selection"
   ]
  },
  {
   "cell_type": "code",
   "execution_count": 132,
   "metadata": {},
   "outputs": [],
   "source": [
    "# chis = pd.concat([X_train, y_train], axis=1)\n",
    "# corrmat = chis.corr()"
   ]
  },
  {
   "cell_type": "code",
   "execution_count": 133,
   "metadata": {},
   "outputs": [],
   "source": [
    "# corrmat[\"T2D\"].nlargest(12)"
   ]
  },
  {
   "cell_type": "code",
   "execution_count": 134,
   "metadata": {},
   "outputs": [],
   "source": [
    "# features = corrmat[\"T2D\"].nlargest(12)[2:].index\n",
    "# features"
   ]
  },
  {
   "cell_type": "code",
   "execution_count": 135,
   "metadata": {},
   "outputs": [],
   "source": [
    "# # checks if there are any NaN values in any of the features\n",
    "# X_train[features].isnull().sum()"
   ]
  },
  {
   "cell_type": "code",
   "execution_count": 136,
   "metadata": {},
   "outputs": [],
   "source": [
    "# # see if number of features are the same for training and testing \n",
    "# X_train = X_train[features]\n",
    "# X_test = X_test[features]\n",
    "# print(X_train.shape)\n",
    "# print(X_test.shape)"
   ]
  },
  {
   "cell_type": "code",
   "execution_count": 137,
   "metadata": {},
   "outputs": [
    {
     "name": "stdout",
     "output_type": "stream",
     "text": [
      "52\n",
      "Index(['AB1', 'AB118', 'AB29V2', 'AB30', 'AB34', 'AB41', 'AB63', 'AB99', 'AE2',\n",
      "       'AE3', 'AE7', 'AJ80', 'AK1', 'UNINSANY', 'ACMDNUM', 'AE_FRUIT',\n",
      "       'AE_VEGI', 'AKWKLNG', 'ASTCUR', 'MARIT_45', 'DSTRSYR', 'INST_12',\n",
      "       'RBMI', 'OVRWT', 'AK10_P', 'HGHTI_P', 'WGHTP_P', 'BMI_P', 'INS64_P',\n",
      "       'INSTYPE', 'POVGWD_P1', 'DSTRS_P1', 'SRAGE_P1', 'AHEDC_P1', 'WRKST_P1',\n",
      "       'AK2_P1', 'AB27_P1', 'AB28_P1', 'YEAR', 'AB26_P1', 'AC46', 'DISTRESS',\n",
      "       'AK7_P1', 'DIABCK_P1', 'AC47', 'PREDIAB', 'POVLL2_P1V2', 'AK22_P1',\n",
      "       'AH5', 'AH132', 'TCURPLAN', 'AB27_P'],\n",
      "      dtype='object')\n"
     ]
    }
   ],
   "source": [
    "from sklearn.ensemble import RandomForestClassifier\n",
    "from sklearn.feature_selection import SelectFromModel\n",
    "sel = SelectFromModel(RandomForestClassifier(random_state=0))\n",
    "sel.fit(X_train, y_train)\n",
    "selected_feat= X_train.columns[(sel.get_support())]\n",
    "print(len(selected_feat))\n",
    "print(selected_feat)"
   ]
  },
  {
   "cell_type": "code",
   "execution_count": 138,
   "metadata": {},
   "outputs": [],
   "source": [
    "# model = RandomForestClassifier()\n",
    "# model.fit(X_train, y_train)\n",
    "# #plot graph of feature importances for better visualization\n",
    "# feat_importances = pd.Series(model.feature_importances_, index=X_train.columns)\n",
    "# feat_importances.nlargest(10).plot(kind='barh')\n",
    "# plt.show()"
   ]
  },
  {
   "cell_type": "code",
   "execution_count": 141,
   "metadata": {},
   "outputs": [
    {
     "data": {
      "text/plain": [
       "(132386, 52)"
      ]
     },
     "execution_count": 141,
     "metadata": {},
     "output_type": "execute_result"
    }
   ],
   "source": [
    "X_train = X_train[selected_feat]\n",
    "X_test = X_test[selected_feat]\n",
    "X_train.shape"
   ]
  },
  {
   "cell_type": "markdown",
   "metadata": {},
   "source": [
    "## Convert training and test data to CSV files"
   ]
  },
  {
   "cell_type": "code",
   "execution_count": 140,
   "metadata": {},
   "outputs": [],
   "source": [
    "X_train.to_csv('data\\X_train.csv', index = False)\n",
    "X_test.to_csv('data\\X_test.csv', index = False)\n",
    "y_train.to_csv('data\\y_train.csv', index = False)\n",
    "y_test.to_csv('data\\y_test.csv', index = False)"
   ]
  }
 ],
 "metadata": {
  "interpreter": {
   "hash": "ae5651488652e961febbac79b6ac121d2261f82ccebdbef63236855c9fe5b051"
  },
  "kernelspec": {
   "display_name": "Python 3.9.7 ('base')",
   "language": "python",
   "name": "python3"
  },
  "language_info": {
   "codemirror_mode": {
    "name": "ipython",
    "version": 3
   },
   "file_extension": ".py",
   "mimetype": "text/x-python",
   "name": "python",
   "nbconvert_exporter": "python",
   "pygments_lexer": "ipython3",
   "version": "3.9.7"
  },
  "orig_nbformat": 4
 },
 "nbformat": 4,
 "nbformat_minor": 2
}
