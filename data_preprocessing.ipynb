{
 "cells": [
  {
   "cell_type": "code",
   "execution_count": 22,
   "metadata": {},
   "outputs": [],
   "source": [
    "import pandas as pd\n",
    "import numpy as np\n",
    "import matplotlib.pyplot as plt\n",
    "import seaborn as sns"
   ]
  },
  {
   "cell_type": "code",
   "execution_count": 23,
   "metadata": {},
   "outputs": [],
   "source": [
    "np.random.seed(170)"
   ]
  },
  {
   "cell_type": "code",
   "execution_count": 24,
   "metadata": {},
   "outputs": [],
   "source": [
    "combinedchis = pd.read_csv(\"data/combined_chis.csv\")"
   ]
  },
  {
   "cell_type": "markdown",
   "metadata": {},
   "source": [
    "## Separate input and output variables"
   ]
  },
  {
   "cell_type": "code",
   "execution_count": 25,
   "metadata": {},
   "outputs": [
    {
     "data": {
      "text/html": [
       "<div>\n",
       "<style scoped>\n",
       "    .dataframe tbody tr th:only-of-type {\n",
       "        vertical-align: middle;\n",
       "    }\n",
       "\n",
       "    .dataframe tbody tr th {\n",
       "        vertical-align: top;\n",
       "    }\n",
       "\n",
       "    .dataframe thead th {\n",
       "        text-align: right;\n",
       "    }\n",
       "</style>\n",
       "<table border=\"1\" class=\"dataframe\">\n",
       "  <thead>\n",
       "    <tr style=\"text-align: right;\">\n",
       "      <th></th>\n",
       "      <th>AA5C</th>\n",
       "      <th>AB1</th>\n",
       "      <th>AB100</th>\n",
       "      <th>AB112</th>\n",
       "      <th>AB113</th>\n",
       "      <th>AB115</th>\n",
       "      <th>AB117</th>\n",
       "      <th>AB118</th>\n",
       "      <th>AB119</th>\n",
       "      <th>AB127</th>\n",
       "      <th>...</th>\n",
       "      <th>AH141</th>\n",
       "      <th>SREDUC</th>\n",
       "      <th>AJ153V2_13</th>\n",
       "      <th>AJ154BV2_8</th>\n",
       "      <th>AJ154BV2_9</th>\n",
       "      <th>INS64_S</th>\n",
       "      <th>AK20_P1</th>\n",
       "      <th>AJ174_8</th>\n",
       "      <th>AJ174_9</th>\n",
       "      <th>AJ194_18</th>\n",
       "    </tr>\n",
       "  </thead>\n",
       "  <tbody>\n",
       "    <tr>\n",
       "      <th>0</th>\n",
       "      <td>-1.0</td>\n",
       "      <td>1.0</td>\n",
       "      <td>-1.0</td>\n",
       "      <td>-1.0</td>\n",
       "      <td>-1.0</td>\n",
       "      <td>-1.0</td>\n",
       "      <td>-1.0</td>\n",
       "      <td>-1.0</td>\n",
       "      <td>-1.0</td>\n",
       "      <td>2.0</td>\n",
       "      <td>...</td>\n",
       "      <td>NaN</td>\n",
       "      <td>NaN</td>\n",
       "      <td>NaN</td>\n",
       "      <td>NaN</td>\n",
       "      <td>NaN</td>\n",
       "      <td>NaN</td>\n",
       "      <td>NaN</td>\n",
       "      <td>NaN</td>\n",
       "      <td>NaN</td>\n",
       "      <td>NaN</td>\n",
       "    </tr>\n",
       "    <tr>\n",
       "      <th>1</th>\n",
       "      <td>-1.0</td>\n",
       "      <td>5.0</td>\n",
       "      <td>-1.0</td>\n",
       "      <td>-1.0</td>\n",
       "      <td>-1.0</td>\n",
       "      <td>2.0</td>\n",
       "      <td>2.0</td>\n",
       "      <td>2.0</td>\n",
       "      <td>-1.0</td>\n",
       "      <td>1.0</td>\n",
       "      <td>...</td>\n",
       "      <td>NaN</td>\n",
       "      <td>NaN</td>\n",
       "      <td>NaN</td>\n",
       "      <td>NaN</td>\n",
       "      <td>NaN</td>\n",
       "      <td>NaN</td>\n",
       "      <td>NaN</td>\n",
       "      <td>NaN</td>\n",
       "      <td>NaN</td>\n",
       "      <td>NaN</td>\n",
       "    </tr>\n",
       "    <tr>\n",
       "      <th>2</th>\n",
       "      <td>-1.0</td>\n",
       "      <td>3.0</td>\n",
       "      <td>-1.0</td>\n",
       "      <td>-1.0</td>\n",
       "      <td>-1.0</td>\n",
       "      <td>-1.0</td>\n",
       "      <td>-1.0</td>\n",
       "      <td>-1.0</td>\n",
       "      <td>-1.0</td>\n",
       "      <td>2.0</td>\n",
       "      <td>...</td>\n",
       "      <td>NaN</td>\n",
       "      <td>NaN</td>\n",
       "      <td>NaN</td>\n",
       "      <td>NaN</td>\n",
       "      <td>NaN</td>\n",
       "      <td>NaN</td>\n",
       "      <td>NaN</td>\n",
       "      <td>NaN</td>\n",
       "      <td>NaN</td>\n",
       "      <td>NaN</td>\n",
       "    </tr>\n",
       "    <tr>\n",
       "      <th>3</th>\n",
       "      <td>-1.0</td>\n",
       "      <td>4.0</td>\n",
       "      <td>-1.0</td>\n",
       "      <td>-1.0</td>\n",
       "      <td>-1.0</td>\n",
       "      <td>-1.0</td>\n",
       "      <td>-1.0</td>\n",
       "      <td>-1.0</td>\n",
       "      <td>-1.0</td>\n",
       "      <td>1.0</td>\n",
       "      <td>...</td>\n",
       "      <td>NaN</td>\n",
       "      <td>NaN</td>\n",
       "      <td>NaN</td>\n",
       "      <td>NaN</td>\n",
       "      <td>NaN</td>\n",
       "      <td>NaN</td>\n",
       "      <td>NaN</td>\n",
       "      <td>NaN</td>\n",
       "      <td>NaN</td>\n",
       "      <td>NaN</td>\n",
       "    </tr>\n",
       "    <tr>\n",
       "      <th>4</th>\n",
       "      <td>-1.0</td>\n",
       "      <td>2.0</td>\n",
       "      <td>1.0</td>\n",
       "      <td>-1.0</td>\n",
       "      <td>-1.0</td>\n",
       "      <td>-1.0</td>\n",
       "      <td>-1.0</td>\n",
       "      <td>-1.0</td>\n",
       "      <td>-1.0</td>\n",
       "      <td>1.0</td>\n",
       "      <td>...</td>\n",
       "      <td>NaN</td>\n",
       "      <td>NaN</td>\n",
       "      <td>NaN</td>\n",
       "      <td>NaN</td>\n",
       "      <td>NaN</td>\n",
       "      <td>NaN</td>\n",
       "      <td>NaN</td>\n",
       "      <td>NaN</td>\n",
       "      <td>NaN</td>\n",
       "      <td>NaN</td>\n",
       "    </tr>\n",
       "    <tr>\n",
       "      <th>...</th>\n",
       "      <td>...</td>\n",
       "      <td>...</td>\n",
       "      <td>...</td>\n",
       "      <td>...</td>\n",
       "      <td>...</td>\n",
       "      <td>...</td>\n",
       "      <td>...</td>\n",
       "      <td>...</td>\n",
       "      <td>...</td>\n",
       "      <td>...</td>\n",
       "      <td>...</td>\n",
       "      <td>...</td>\n",
       "      <td>...</td>\n",
       "      <td>...</td>\n",
       "      <td>...</td>\n",
       "      <td>...</td>\n",
       "      <td>...</td>\n",
       "      <td>...</td>\n",
       "      <td>...</td>\n",
       "      <td>...</td>\n",
       "      <td>...</td>\n",
       "    </tr>\n",
       "    <tr>\n",
       "      <th>189118</th>\n",
       "      <td>-1.0</td>\n",
       "      <td>2.0</td>\n",
       "      <td>NaN</td>\n",
       "      <td>-1.0</td>\n",
       "      <td>NaN</td>\n",
       "      <td>NaN</td>\n",
       "      <td>NaN</td>\n",
       "      <td>NaN</td>\n",
       "      <td>NaN</td>\n",
       "      <td>NaN</td>\n",
       "      <td>...</td>\n",
       "      <td>-1.0</td>\n",
       "      <td>3.0</td>\n",
       "      <td>-1.0</td>\n",
       "      <td>-1.0</td>\n",
       "      <td>-1.0</td>\n",
       "      <td>5.0</td>\n",
       "      <td>4.0</td>\n",
       "      <td>-1.0</td>\n",
       "      <td>-1.0</td>\n",
       "      <td>-1.0</td>\n",
       "    </tr>\n",
       "    <tr>\n",
       "      <th>189119</th>\n",
       "      <td>-1.0</td>\n",
       "      <td>1.0</td>\n",
       "      <td>NaN</td>\n",
       "      <td>-1.0</td>\n",
       "      <td>NaN</td>\n",
       "      <td>NaN</td>\n",
       "      <td>NaN</td>\n",
       "      <td>NaN</td>\n",
       "      <td>NaN</td>\n",
       "      <td>NaN</td>\n",
       "      <td>...</td>\n",
       "      <td>-1.0</td>\n",
       "      <td>4.0</td>\n",
       "      <td>-1.0</td>\n",
       "      <td>2.0</td>\n",
       "      <td>2.0</td>\n",
       "      <td>-1.0</td>\n",
       "      <td>-1.0</td>\n",
       "      <td>-1.0</td>\n",
       "      <td>-1.0</td>\n",
       "      <td>-1.0</td>\n",
       "    </tr>\n",
       "    <tr>\n",
       "      <th>189120</th>\n",
       "      <td>-1.0</td>\n",
       "      <td>2.0</td>\n",
       "      <td>NaN</td>\n",
       "      <td>-1.0</td>\n",
       "      <td>NaN</td>\n",
       "      <td>NaN</td>\n",
       "      <td>NaN</td>\n",
       "      <td>NaN</td>\n",
       "      <td>NaN</td>\n",
       "      <td>NaN</td>\n",
       "      <td>...</td>\n",
       "      <td>-1.0</td>\n",
       "      <td>4.0</td>\n",
       "      <td>-1.0</td>\n",
       "      <td>-1.0</td>\n",
       "      <td>-1.0</td>\n",
       "      <td>-1.0</td>\n",
       "      <td>-1.0</td>\n",
       "      <td>-1.0</td>\n",
       "      <td>-1.0</td>\n",
       "      <td>-1.0</td>\n",
       "    </tr>\n",
       "    <tr>\n",
       "      <th>189121</th>\n",
       "      <td>-1.0</td>\n",
       "      <td>3.0</td>\n",
       "      <td>NaN</td>\n",
       "      <td>-1.0</td>\n",
       "      <td>NaN</td>\n",
       "      <td>NaN</td>\n",
       "      <td>NaN</td>\n",
       "      <td>NaN</td>\n",
       "      <td>NaN</td>\n",
       "      <td>NaN</td>\n",
       "      <td>...</td>\n",
       "      <td>-1.0</td>\n",
       "      <td>3.0</td>\n",
       "      <td>-1.0</td>\n",
       "      <td>-1.0</td>\n",
       "      <td>-1.0</td>\n",
       "      <td>-1.0</td>\n",
       "      <td>-1.0</td>\n",
       "      <td>-1.0</td>\n",
       "      <td>-1.0</td>\n",
       "      <td>-1.0</td>\n",
       "    </tr>\n",
       "    <tr>\n",
       "      <th>189122</th>\n",
       "      <td>-1.0</td>\n",
       "      <td>2.0</td>\n",
       "      <td>NaN</td>\n",
       "      <td>-1.0</td>\n",
       "      <td>NaN</td>\n",
       "      <td>NaN</td>\n",
       "      <td>NaN</td>\n",
       "      <td>NaN</td>\n",
       "      <td>NaN</td>\n",
       "      <td>NaN</td>\n",
       "      <td>...</td>\n",
       "      <td>-1.0</td>\n",
       "      <td>4.0</td>\n",
       "      <td>-1.0</td>\n",
       "      <td>-1.0</td>\n",
       "      <td>-1.0</td>\n",
       "      <td>-1.0</td>\n",
       "      <td>-1.0</td>\n",
       "      <td>-1.0</td>\n",
       "      <td>-1.0</td>\n",
       "      <td>-1.0</td>\n",
       "    </tr>\n",
       "  </tbody>\n",
       "</table>\n",
       "<p>189123 rows × 784 columns</p>\n",
       "</div>"
      ],
      "text/plain": [
       "        AA5C  AB1  AB100  AB112  AB113  AB115  AB117  AB118  AB119  AB127  \\\n",
       "0       -1.0  1.0   -1.0   -1.0   -1.0   -1.0   -1.0   -1.0   -1.0    2.0   \n",
       "1       -1.0  5.0   -1.0   -1.0   -1.0    2.0    2.0    2.0   -1.0    1.0   \n",
       "2       -1.0  3.0   -1.0   -1.0   -1.0   -1.0   -1.0   -1.0   -1.0    2.0   \n",
       "3       -1.0  4.0   -1.0   -1.0   -1.0   -1.0   -1.0   -1.0   -1.0    1.0   \n",
       "4       -1.0  2.0    1.0   -1.0   -1.0   -1.0   -1.0   -1.0   -1.0    1.0   \n",
       "...      ...  ...    ...    ...    ...    ...    ...    ...    ...    ...   \n",
       "189118  -1.0  2.0    NaN   -1.0    NaN    NaN    NaN    NaN    NaN    NaN   \n",
       "189119  -1.0  1.0    NaN   -1.0    NaN    NaN    NaN    NaN    NaN    NaN   \n",
       "189120  -1.0  2.0    NaN   -1.0    NaN    NaN    NaN    NaN    NaN    NaN   \n",
       "189121  -1.0  3.0    NaN   -1.0    NaN    NaN    NaN    NaN    NaN    NaN   \n",
       "189122  -1.0  2.0    NaN   -1.0    NaN    NaN    NaN    NaN    NaN    NaN   \n",
       "\n",
       "        ...  AH141  SREDUC  AJ153V2_13  AJ154BV2_8  AJ154BV2_9  INS64_S  \\\n",
       "0       ...    NaN     NaN         NaN         NaN         NaN      NaN   \n",
       "1       ...    NaN     NaN         NaN         NaN         NaN      NaN   \n",
       "2       ...    NaN     NaN         NaN         NaN         NaN      NaN   \n",
       "3       ...    NaN     NaN         NaN         NaN         NaN      NaN   \n",
       "4       ...    NaN     NaN         NaN         NaN         NaN      NaN   \n",
       "...     ...    ...     ...         ...         ...         ...      ...   \n",
       "189118  ...   -1.0     3.0        -1.0        -1.0        -1.0      5.0   \n",
       "189119  ...   -1.0     4.0        -1.0         2.0         2.0     -1.0   \n",
       "189120  ...   -1.0     4.0        -1.0        -1.0        -1.0     -1.0   \n",
       "189121  ...   -1.0     3.0        -1.0        -1.0        -1.0     -1.0   \n",
       "189122  ...   -1.0     4.0        -1.0        -1.0        -1.0     -1.0   \n",
       "\n",
       "        AK20_P1  AJ174_8  AJ174_9  AJ194_18  \n",
       "0           NaN      NaN      NaN       NaN  \n",
       "1           NaN      NaN      NaN       NaN  \n",
       "2           NaN      NaN      NaN       NaN  \n",
       "3           NaN      NaN      NaN       NaN  \n",
       "4           NaN      NaN      NaN       NaN  \n",
       "...         ...      ...      ...       ...  \n",
       "189118      4.0     -1.0     -1.0      -1.0  \n",
       "189119     -1.0     -1.0     -1.0      -1.0  \n",
       "189120     -1.0     -1.0     -1.0      -1.0  \n",
       "189121     -1.0     -1.0     -1.0      -1.0  \n",
       "189122     -1.0     -1.0     -1.0      -1.0  \n",
       "\n",
       "[189123 rows x 784 columns]"
      ]
     },
     "execution_count": 25,
     "metadata": {},
     "output_type": "execute_result"
    }
   ],
   "source": [
    "X = combinedchis.iloc[:,:-1]\n",
    "X"
   ]
  },
  {
   "cell_type": "code",
   "execution_count": 26,
   "metadata": {},
   "outputs": [
    {
     "data": {
      "text/plain": [
       "0         0.0\n",
       "1         0.0\n",
       "2         0.0\n",
       "3         0.0\n",
       "4         0.0\n",
       "         ... \n",
       "189118    0.0\n",
       "189119    0.0\n",
       "189120    0.0\n",
       "189121    0.0\n",
       "189122    0.0\n",
       "Name: T2D, Length: 189123, dtype: float64"
      ]
     },
     "execution_count": 26,
     "metadata": {},
     "output_type": "execute_result"
    }
   ],
   "source": [
    "y = combinedchis.iloc[:, -1]\n",
    "y"
   ]
  },
  {
   "cell_type": "markdown",
   "metadata": {},
   "source": [
    "## Split training and test data"
   ]
  },
  {
   "cell_type": "code",
   "execution_count": 27,
   "metadata": {},
   "outputs": [],
   "source": [
    "from sklearn.model_selection import train_test_split\n",
    "X_train, X_test, y_train, y_test = train_test_split(X, y, test_size=0.30, shuffle=True, stratify=y)"
   ]
  },
  {
   "cell_type": "markdown",
   "metadata": {},
   "source": [
    "## Fill NaN values and remove features"
   ]
  },
  {
   "cell_type": "code",
   "execution_count": 28,
   "metadata": {},
   "outputs": [
    {
     "data": {
      "text/plain": [
       "(132386, 754)"
      ]
     },
     "execution_count": 28,
     "metadata": {},
     "output_type": "execute_result"
    }
   ],
   "source": [
    "# remove id feature and features that already imply diabetes\n",
    "diabetes_features = [\n",
    "    \"PUF1Y_ID\", \"AB111\", \"AB23_P1\", \"AB114_P1\", \"AJ82\", \"AB22V2\", \"DIABETES\", \"AB81\", \"AB113\", \n",
    "    \"AB112\", \"AB51_P1\", \"AB110_P\", \"AB109\", \"AB24\", \"DIAMED\", \"AB25\", \"AB63\", \"AB27_P1\", \"AB28_P1\",\n",
    "    \"AB26_P1\", \"DIABCK_P1\", \"AB27_P\", \"AJ80\", 'AH102_P', 'AH102_P1'\n",
    "]\n",
    "similar_features = [\"WEIGHK_P\", \"WGHTK_P\", \"HEIGHM_P\", \"HGHTM_P\", \"WHOBMI\"]\n",
    "remove_features = diabetes_features + similar_features\n",
    "X_train = X_train.drop(remove_features, axis=1)\n",
    "X_test = X_test.drop(remove_features, axis=1)\n",
    "X_train.shape"
   ]
  },
  {
   "cell_type": "code",
   "execution_count": 29,
   "metadata": {},
   "outputs": [
    {
     "name": "stdout",
     "output_type": "stream",
     "text": [
      "68\n",
      "['AH132', 'AE_FRUIT', 'DIABCK_P1', 'AE_VEGI', 'AK22_P', 'WT18K_P', 'AC31_P1', 'AD38W_P1', 'AH128', 'POVLL2_P1V2', 'HHSIZE_P1', 'AC100', 'DSTRS_P1', 'POVGWD_P', 'AH44B', 'AC47', 'HGHTM_P', 'SERVED', 'AK33_P1', 'HGHTI_P', 'FAMSIZE2_P1', 'AE5', 'AJ93', 'AH102_P1', 'WT18P_P', 'HEIGHM_P', 'AC111', 'AH133', 'AB26', 'AK3_P1', 'INS12M', 'AD39W', 'AD42W', 'AC47_P1', 'AC31', 'POVLL2_P1', 'POVLL2_P', 'DISTRESS', 'AC146', 'AC148', 'AD38W', 'POVGWD_P1', 'BMI_P', 'AC52_P1', 'DSTRSYR', 'AH129', 'AC147', 'AH5', 'AE_SODA', 'AE_FRIES', 'AC46', 'TCURPLAN', 'AD41W', 'AH136', 'AB26_P1', 'AC48_P1', 'WGHTP_P', 'AK10A_P', 'WEIGHK_P', 'AK10_P', 'AC11', 'AC59', 'AE3', 'AK7_P1', 'LONELINESS', 'AE7', 'AE2', 'WGHTK_P']\n"
     ]
    }
   ],
   "source": [
    "numerical_features = list(set([\n",
    "    \"HHSIZE_P1\", \"AC46\", \"AE2\", \"AE_FRUIT\", \"AE7\", \"AE_VEGI\", \"HGHTI_P\", \"HGHTM_P\", \"HEIGHM_P\", \"WEIGHK_P\", \"WGHTK_P\", \"WGHTP_P\", \"BMI_P\", \"DISTRESS\", \"DSTRS_P1\", \"DSTRSYR\", \"LONELINESS\", \"AH44B\", \"FAMSIZE2_P1\", \"INS12M\", \"AH128\", \"AH129\", \"AH132\", \"AH133\", \"TCURPLAN\", \"AH136\", \"AH5\", \"AJ93\", \"AK10_P\", \"AK10A_P\", \"POVGWD_P1\", \"POVLL2_P1V2\",\n",
    "    \"HHSIZE_P1\", \"AC46\", \"AE2\", \"AE_FRUIT\", \"AE_VEGI\", \"HGHTI_P\", \"HGHTM_P\", \"HEIGHM_P\", \"WEIGHK_P\", \"WGHTK_P\", \"WGHTP_P\", \"BMI_P\", \"DISTRESS\", \"DSTRS_P1\", \"DSTRSYR\", \"LONELINESS\", \"AH44B\", \"FAMSIZE2_P1\", \"INS12M\", \"AH128\", \"AH129\", \"AH132\", \"AH133\", \"TCURPLAN\", \"AH136\", \"AH5\", \"AJ93\", \"AK10_P\", \"AK10A_P\", \"POVGWD_P1\", \"POVLL2_P1V2\",\n",
    "    \"HHSIZE_P1\", \"AC100\", \"AC46\", \"AC47\", \"AE2\", \"AE_FRUIT\", \"AE3\", \"AE_FRIES\", \"AE5\", \"AE7\", \"AE_VEGI\", \"HGHTI_P\", \"HGHTM_P\", \"HEIGHM_P\", \"WEIGHK_P\", \"WGHTK_P\", \"WGHTP_P\", \"BMI_P\", \"DISTRESS\", \"DSTRS_P1\", \"DSTRSYR\", \"FAMSIZE2_P1\", \"INS12M\", \"AH128\", \"AH129\", \"AH132\", \"AH133\", \"TCURPLAN\", \"AH136\", \"AH5\", \"AK10_P\", \"AK10A_P\", \"POVGWD_P1\", \"POVLL2_P1V2\", \"AC146\", \"AC147\", \"AC148\",\n",
    "    \"HHSIZE_P1\", \"AD38W\", \"AD39W\", \"AD41W\", \"AD42W\", \"AC100\", \"AC11\", \"AE_SODA\", \"AC46\", \"AC47\", \"AE2\", \"AE_FRUIT\", \"AE3\", \"AE_FRIES\", \"AE5\", \"AE7\", \"AE_VEGI\", \"HGHTI_P\", \"HGHTM_P\", \"HEIGHM_P\", \"WEIGHK_P\", \"WGHTK_P\", \"WGHTP_P\", \"BMI_P\", \"DISTRESS\", \"DSTRS_P1\", \"DSTRSYR\", \"FAMSIZE2_P1\", \"INS12M\", \"AH128\", \"AH132\", \"AH133\", \"TCURPLAN\", \"AH136\", \"AH5\", \"AK10_P\", \"AK10A_P\", \"POVGWD_P1\", \"POVLL2_P1V2\",\n",
    "    \"HHSIZE_P1\", \"DIABCK_P1\", \"AB26_P1\", \"AD38W\", \"AD39W\", \"AD41W\", \"AD42W\", \"AC11\", \"AE_SODA\", \"AC31\", \"AC31_P1\", \"AC111\", \"HGHTI_P\", \"HGHTM_P\", \"HEIGHM_P\", \"WEIGHK_P\", \"WGHTK_P\", \"WGHTP_P\", \"BMI_P\", \"DISTRESS\", \"DSTRS_P1\", \"DSTRSYR\", \"FAMSIZE2_P1\", \"INS12M\", \"AK3_P1\", \"AK7_P1\", \"AK10_P\", \"AK10A_P\", \"POVGWD_P\", \"POVLL2_P1\",\n",
    "    \"HHSIZE_P1\", \"DIABCK_P1\", \"AB26_P1\", \"AD38W\", \"AD39W\", \"AD41W\", \"AD42W\", \"AC11\", \"AE_SODA\", \"AC31\", \"AC31_P1\", \"AC46\", \"AC47\", \"HGHTI_P\", \"HGHTM_P\", \"HEIGHM_P\", \"WEIGHK_P\", \"WGHTK_P\", \"WGHTP_P\", \"BMI_P\", \"DISTRESS\", \"DSTRS_P1\", \"DSTRSYR\", \"FAMSIZE2_P1\", \"INS12M\", \"AK3_P1\", \"AK7_P1\", \"AK10_P\", \"AK10A_P\", \"AK22_P\", \"POVGWD_P\", \"POVLL2_P\",\n",
    "    \"HHSIZE_P1\", \"DIABCK_P1\", \"AB26\", \"AD41W\", \"AD42W\", \"AC11\", \"AE_SODA\", \"AC31_P1\", \"AC46\", \"AC47_P1\", \"AC48_P1\", \"AC52_P1\", \"AC59\", \"HGHTI_P\", \"HGHTM_P\", \"HEIGHM_P\", \"WEIGHK_P\", \"WGHTK_P\", \"WGHTP_P\", \"BMI_P\", \"DISTRESS\", \"DSTRS_P1\", \"DSTRSYR\", \"FAMSIZE2_P1\", \"INS12M\", \"AH102_P1\", \"AK7_P1\", \"AK10_P\", \"AK10A_P\", \"AK22_P\", \"POVGWD_P\",\n",
    "    \"HHSIZE_P1\", \"DIABCK_P1\", \"AB26\", \"AD41W\", \"AD42W\", \"AC11\", \"AE_SODA\", \"AC31_P1\", \"AC46\", \"AC47_P1\", \"AC48_P1\", \"HGHTI_P\", \"HGHTM_P\", \"HEIGHM_P\", \"WEIGHK_P\", \"WGHTK_P\", \"WGHTP_P\", \"BMI_P\", \"DISTRESS\", \"DSTRS_P1\", \"DSTRSYR\", \"FAMSIZE2_P1\", \"SERVED\", \"INS12M\", \"AH102_P1\", \"AK7_P1\", \"AK10_P\", \"AK10A_P\", \"AK22_P\", \"AK33_P1\", \"POVGWD_P\",\n",
    "    \"HHSIZE_P1\", \"AD38W_P1\", \"AD39W\", \"AD41W\", \"AD42W\", \"AE2\", \"AE3\", \"AE7\", \"AE_FRIES\", \"AE_FRUIT\", \"AC11\", \"AE_SODA\", \"AE_VEGI\", \"AC31_P1\", \"HGHTI_P\", \"HGHTM_P\", \"HEIGHM_P\", \"WEIGHK_P\", \"WGHTK_P\", \"WGHTP_P\", \"WT18K_P\", \"WT18P_P\", \"BMI_P\", \"DSTRS_P1\", \"DSTRSYR\", \"INS12M\", \"AH102_P1\", \"AK10_P\", \"AK10A_P\", \"AK22_P\", \"POVGWD_P\"\n",
    "]))\n",
    "print(len(numerical_features))\n",
    "print(numerical_features)"
   ]
  },
  {
   "cell_type": "code",
   "execution_count": 30,
   "metadata": {},
   "outputs": [
    {
     "data": {
      "text/plain": [
       "53"
      ]
     },
     "execution_count": 30,
     "metadata": {},
     "output_type": "execute_result"
    }
   ],
   "source": [
    "features = ['AK3_P1', 'HGHTM_P', 'POVLL2_P1', 'AD38W_P1', 'DIABCK_P1', 'POVLL2_P', 'AB26', 'WEIGHK_P', 'AK33_P1', 'HEIGHM_P', 'WGHTK_P', 'AC47_P1', 'AB26_P1', 'POVGWD_P', 'AH102_P1']\n",
    "\n",
    "for i in features:\n",
    "    if i in numerical_features:\n",
    "        numerical_features.remove(i)\n",
    "len(numerical_features)"
   ]
  },
  {
   "cell_type": "code",
   "execution_count": 31,
   "metadata": {},
   "outputs": [],
   "source": [
    "categorical_features = X_train.drop(numerical_features, axis=1)\n",
    "categorical_features = categorical_features.columns"
   ]
  },
  {
   "cell_type": "code",
   "execution_count": 32,
   "metadata": {},
   "outputs": [],
   "source": [
    "# from sklearn.compose import ColumnTransformer\n",
    "# from sklearn.impute import SimpleImputer\n",
    "\n",
    "# all_features = X_train.columns\n",
    "# # create a pipeline that applies the transformations to the dataset\n",
    "# pipeline = ColumnTransformer(\n",
    "#     [\n",
    "#         (\"categorical\", SimpleImputer(strategy=\"most_frequent\"), categorical_features),\n",
    "#         (\"numerical\", SimpleImputer(strategy=\"mean\"), numerical_features)\n",
    "#     ],\n",
    "#     remainder=\"passthrough\"\n",
    "# )\n",
    "# apply transformations to both training and test\n",
    "# X_train = pd.DataFrame(pipeline.fit_transform(X_train), columns=pipeline.get_feature_names_out())\n",
    "# X_test = pd.DataFrame(pipeline.transform(X_test))"
   ]
  },
  {
   "cell_type": "code",
   "execution_count": 33,
   "metadata": {},
   "outputs": [],
   "source": [
    "# fill the numerical features with the median in the training set\n",
    "for col in numerical_features:\n",
    "    X_train[col] = X_train[col].fillna(X_train[col].median())"
   ]
  },
  {
   "cell_type": "code",
   "execution_count": 34,
   "metadata": {},
   "outputs": [],
   "source": [
    "# fill the numerical features with the median in the test data\n",
    "for col in numerical_features:\n",
    "    X_test[col] = X_test[col].fillna(X_train[col].median())"
   ]
  },
  {
   "cell_type": "code",
   "execution_count": 35,
   "metadata": {},
   "outputs": [],
   "source": [
    "# fill in the categorical features with the mode\n",
    "from sklearn.impute import SimpleImputer\n",
    "imputer = SimpleImputer(strategy=\"most_frequent\")\n",
    "X_train[:] = imputer.fit_transform(X_train)\n",
    "X_test[:] = imputer.transform(X_test)"
   ]
  },
  {
   "cell_type": "markdown",
   "metadata": {},
   "source": [
    "## Feature Selection"
   ]
  },
  {
   "cell_type": "code",
   "execution_count": 36,
   "metadata": {},
   "outputs": [
    {
     "name": "stdout",
     "output_type": "stream",
     "text": [
      "245\n",
      "Index(['AB1', 'AB117', 'AB118', 'AB18', 'AB29V2', 'AB30', 'AB34', 'AB40',\n",
      "       'AB41', 'AB43',\n",
      "       ...\n",
      "       'AC116_P1', 'AH129', 'AC146', 'AC147', 'AC148', 'AC160', 'AC161',\n",
      "       'AG44', 'AM44', 'AM45'],\n",
      "      dtype='object', length=245)\n"
     ]
    }
   ],
   "source": [
    "from sklearn.ensemble import RandomForestClassifier\n",
    "from sklearn.feature_selection import SelectFromModel\n",
    "model = RandomForestClassifier()\n",
    "sel = SelectFromModel(model)\n",
    "sel.fit(X_train, y_train)\n",
    "selected_feat= X_train.columns[(sel.get_support())]\n",
    "print(len(selected_feat))\n",
    "print(selected_feat)"
   ]
  },
  {
   "cell_type": "code",
   "execution_count": 37,
   "metadata": {},
   "outputs": [
    {
     "data": {
      "image/png": "[encoded data removed]",
      "text/plain": [
       "<Figure size 432x288 with 1 Axes>"
      ]
     },
     "metadata": {
      "needs_background": "light"
     },
     "output_type": "display_data"
    }
   ],
   "source": [
    "model.fit(X_train, y_train)\n",
    "#plot graph of feature importances for better visualization\n",
    "feat_importances = pd.Series(model.feature_importances_, index=X_train.columns)\n",
    "feat_importances.nlargest(20).plot(kind='barh')\n",
    "plt.show()"
   ]
  },
  {
   "cell_type": "code",
   "execution_count": 38,
   "metadata": {},
   "outputs": [
    {
     "data": {
      "text/plain": [
       "(132386, 245)"
      ]
     },
     "execution_count": 38,
     "metadata": {},
     "output_type": "execute_result"
    }
   ],
   "source": [
    "X_train = X_train[selected_feat]\n",
    "X_test = X_test[selected_feat]\n",
    "X_train.shape"
   ]
  },
  {
   "cell_type": "code",
   "execution_count": 39,
   "metadata": {},
   "outputs": [
    {
     "name": "stdout",
     "output_type": "stream",
     "text": [
      "Index(['AB1', 'AB118', 'AB29V2', 'AB30', 'AB34', 'AB40', 'AB99', 'AC11',\n",
      "       'AC32', 'AG22', 'AH12V2', 'AH14', 'AH6', 'AJ1', 'AJ102', 'AJ108',\n",
      "       'AJ113', 'AJ29', 'AK1', 'AM36', 'SRSEX', 'INSMC', 'INS65', 'ACMDNUM',\n",
      "       'DISABLE', 'MARIT_45', 'SERVED', 'INST_12', 'RBMI', 'LATIN2TP',\n",
      "       'WGHTP_P', 'AJ50V2_P', 'BMI_P', 'INS64_P', 'ELDER_IDX', 'AC31_P1',\n",
      "       'SRAGE_P1', 'RACEHP2_P1', 'RACEDF_P1', 'AK2_P1', 'YRUS_P1', 'YEAR',\n",
      "       'AC46', 'AJ114', 'AJ138', 'CARE_PV', 'AJ168', 'AJ172V2', 'AM44'],\n",
      "      dtype='object')\n"
     ]
    }
   ],
   "source": [
    "from xgboost import XGBClassifier\n",
    "xgb_model = XGBClassifier()\n",
    "sel2 = SelectFromModel(xgb_model)\n",
    "sel2.fit(X_train, y_train)\n",
    "selected_feat2 = X_train.columns[(sel2.get_support())]\n",
    "print(selected_feat2)"
   ]
  },
  {
   "cell_type": "markdown",
   "metadata": {},
   "source": [
    "## Convert training and test data to CSV files"
   ]
  },
  {
   "cell_type": "code",
   "execution_count": 40,
   "metadata": {},
   "outputs": [],
   "source": [
    "X_train.to_csv(r'data/X_train.csv', index = False)\n",
    "X_test.to_csv(r'data/X_test.csv', index = False)\n",
    "y_train.to_csv(r'data/y_train.csv', index = False)\n",
    "y_test.to_csv(r'data/y_test.csv', index = False)"
   ]
  }
 ],
 "metadata": {
  "interpreter": {
   "hash": "ae5651488652e961febbac79b6ac121d2261f82ccebdbef63236855c9fe5b051"
  },
  "kernelspec": {
   "display_name": "Python 3.9.12 ('base')",
   "language": "python",
   "name": "python3"
  },
  "language_info": {
   "codemirror_mode": {
    "name": "ipython",
    "version": 3
   },
   "file_extension": ".py",
   "mimetype": "text/x-python",
   "name": "python",
   "nbconvert_exporter": "python",
   "pygments_lexer": "ipython3",
   "version": "3.9.12"
  },
  "orig_nbformat": 4
 },
 "nbformat": 4,
 "nbformat_minor": 2
}
