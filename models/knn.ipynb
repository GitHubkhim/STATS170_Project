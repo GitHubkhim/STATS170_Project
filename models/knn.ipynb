{
    "cells": [
        {
            "cell_type": "code",
            "execution_count": 2,
            "metadata": {},
            "outputs": [],
            "source": [
                "import pandas as pd\n",
                "import numpy as np\n",
                "import joblib\n",
                "\n",
                "import metrics_summary as ms"
            ]
        },
        {
            "cell_type": "code",
            "execution_count": 3,
            "metadata": {},
            "outputs": [],
            "source": [
                "np.random.seed(170)"
            ]
        },
        {
            "cell_type": "code",
            "execution_count": 4,
            "metadata": {},
            "outputs": [],
            "source": [
                "X_train = pd.read_csv(\"../data/X_train.csv\")\n",
                "X_test = pd.read_csv(\"../data/X_test.csv\")\n",
                "y_train = pd.read_csv(\"../data/y_train.csv\").values.ravel()\n",
                "y_test = pd.read_csv(\"../data/y_test.csv\").values.ravel()"
            ]
        },
        {
            "cell_type": "markdown",
            "metadata": {},
            "source": [
                "## KNN"
            ]
        },
        {
            "cell_type": "code",
            "execution_count": 5,
            "metadata": {},
            "outputs": [
                {
                    "name": "stdout",
                    "output_type": "stream",
                    "text": [
                        "[[49750   988]\n",
                        " [ 5602   397]]\n",
                        "=================================================\n",
                        "Kappa Score: 0.07066844221618163\n",
                        "Accuracy Score: 0.8838500449442163\n",
                        "Precision: 0.28664259927797836\n",
                        "Recall: 0.06617769628271379\n",
                        "F1 Score: 0.10752979414951247\n",
                        "AUC Score: 0.6074571595298731\n",
                        "=================================================\n",
                        "=================================================\n",
                        "Average Accuracy Score: 0.8841040608557004\n",
                        "Average Precision Score: 0.28324331271643965\n",
                        "Average Recall Score: 0.06287472566733017\n",
                        "Average F1 Score: 0.8841040608557004\n",
                        "[0.88390362 0.88269064 0.88412585 0.88473014 0.88507006]\n",
                        "Average AUC Score: 0.6040671415717143\n",
                        "[0.60142812 0.59739794 0.60941099 0.609951   0.60214766]\n",
                        "=================================================\n"
                    ]
                },
                {
                    "data": {
                        "text/plain": [
                            "['knn.pkl']"
                        ]
                    },
                    "execution_count": 5,
                    "metadata": {},
                    "output_type": "execute_result"
                }
            ],
            "source": [
                "from sklearn.neighbors import KNeighborsClassifier\n",
                "knn = KNeighborsClassifier()\n",
                "knn.fit(X_train, y_train)\n",
                "y_pred = knn.predict(X_test)\n",
                "y_prob = knn.predict_proba(X_test)[:,1]\n",
                "ms.metrics_summary(y_test, y_pred, y_prob)\n",
                "ms.crossval_summary(knn, X_train, y_train)\n",
                "joblib.dump(knn, \"knn.pkl\")"
            ]
        },
        {
            "cell_type": "markdown",
            "metadata": {},
            "source": [
                "#### KNN Using SMOTE"
            ]
        },
        {
            "cell_type": "code",
            "execution_count": 6,
            "metadata": {},
            "outputs": [
                {
                    "name": "stdout",
                    "output_type": "stream",
                    "text": [
                        "[[34990 15748]\n",
                        " [ 2982  3017]]\n",
                        "=================================================\n",
                        "Kappa Score: 0.09933835350664688\n",
                        "Accuracy Score: 0.6698803250083719\n",
                        "Precision: 0.16077804423128164\n",
                        "Recall: 0.5029171528588098\n",
                        "F1 Score: 0.24366015183330644\n",
                        "AUC Score: 0.6236659129945127\n",
                        "=================================================\n",
                        "=================================================\n",
                        "Average Accuracy Score: 0.6704409466511392\n",
                        "Average Precision Score: 0.15972077457782424\n",
                        "Average Recall Score: 0.49685548410146474\n",
                        "Average F1 Score: 0.6704409466511392\n",
                        "[0.67527759 0.67163954 0.6721683  0.66582317 0.66729614]\n",
                        "Average AUC Score: 0.6220795196658842\n",
                        "[0.62479353 0.61970448 0.62904944 0.6120562  0.62479395]\n",
                        "=================================================\n"
                    ]
                },
                {
                    "data": {
                        "text/plain": [
                            "['knn_os.pkl']"
                        ]
                    },
                    "execution_count": 6,
                    "metadata": {},
                    "output_type": "execute_result"
                }
            ],
            "source": [
                "# implement SMOTE to oversample the minority class\n",
                "from imblearn.over_sampling import SMOTE\n",
                "from imblearn.pipeline import Pipeline\n",
                "knn_os = Pipeline(steps=[('over', SMOTE()), ('model', KNeighborsClassifier())])\n",
                "knn_os.fit(X_train, y_train)\n",
                "y_pred = knn_os.predict(X_test)\n",
                "y_prob = knn_os.predict_proba(X_test)[:,1]\n",
                "ms.metrics_summary(y_test, y_pred, y_prob)\n",
                "ms.crossval_summary(knn_os, X_train, y_train)\n",
                "joblib.dump(knn_os, \"knn_os.pkl\")"
            ]
        }
    ],
    "metadata": {
        "interpreter": {
            "hash": "ae5651488652e961febbac79b6ac121d2261f82ccebdbef63236855c9fe5b051"
        },
        "kernelspec": {
            "display_name": "Python 3.9.7 ('base')",
            "language": "python",
            "name": "python3"
        },
        "language_info": {
            "codemirror_mode": {
                "name": "ipython",
                "version": 3
            },
            "file_extension": ".py",
            "mimetype": "text/x-python",
            "name": "python",
            "nbconvert_exporter": "python",
            "pygments_lexer": "ipython3",
            "version": "3.9.12"
        },
        "orig_nbformat": 4
    },
    "nbformat": 4,
    "nbformat_minor": 2
}
