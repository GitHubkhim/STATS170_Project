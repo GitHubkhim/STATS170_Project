{
    "cells": [
        {
            "cell_type": "code",
            "execution_count": 1,
            "metadata": {},
            "outputs": [],
            "source": [
                "import pandas as pd\n",
                "import numpy as np\n",
                "import joblib\n",
                "\n",
                "import metrics_summary as ms"
            ]
        },
        {
            "cell_type": "code",
            "execution_count": 2,
            "metadata": {},
            "outputs": [],
            "source": [
                "np.random.seed(170)"
            ]
        },
        {
            "cell_type": "code",
            "execution_count": 3,
            "metadata": {},
            "outputs": [],
            "source": [
                "X_train = pd.read_csv(\"../data/X_train.csv\")\n",
                "X_test = pd.read_csv(\"../data/X_test.csv\")\n",
                "y_train = pd.read_csv(\"../data/y_train.csv\").values.ravel()\n",
                "y_test = pd.read_csv(\"../data/y_test.csv\").values.ravel()"
            ]
        },
        {
            "cell_type": "markdown",
            "metadata": {},
            "source": [
                "## Random Forest"
            ]
        },
        {
            "cell_type": "code",
            "execution_count": 4,
            "metadata": {},
            "outputs": [
                {
                    "name": "stdout",
                    "output_type": "stream",
                    "text": [
                        "[[50555   183]\n",
                        " [ 5690   309]]\n",
                        "=================================================\n",
                        "Kappa Score: 0.08046995805479862\n",
                        "Accuracy Score: 0.8964873010557485\n",
                        "Precision: 0.6280487804878049\n",
                        "Recall: 0.051508584764127355\n",
                        "F1 Score: 0.095208750577723\n",
                        "AUC Score: 0.8558698464801883\n",
                        "=================================================\n",
                        "=================================================\n",
                        "Average Accuracy Score: 0.8961295005880012\n",
                        "Average Precision Score: 0.6104944773085565\n",
                        "Average Recall Score: 0.04837135711733783\n",
                        "Average F1 Score: 0.8961295005880012\n",
                        "[0.89606466 0.89541867 0.89572081 0.89643842 0.89700495]\n",
                        "Average AUC Score: 0.8533453633600843\n",
                        "[0.85283244 0.85256834 0.85314364 0.85414836 0.85403403]\n",
                        "=================================================\n"
                    ]
                },
                {
                    "data": {
                        "text/plain": [
                            "['rf.pkl']"
                        ]
                    },
                    "execution_count": 4,
                    "metadata": {},
                    "output_type": "execute_result"
                }
            ],
            "source": [
                "from sklearn.ensemble import RandomForestClassifier\n",
                "from sklearn.metrics import roc_auc_score\n",
                "rf = RandomForestClassifier()\n",
                "rf.fit(X_train, y_train)\n",
                "y_pred = rf.predict(X_test)\n",
                "y_prob = rf.predict_proba(X_test)[:,1]\n",
                "ms.metrics_summary(y_test, y_pred, y_prob)\n",
                "ms.crossval_summary(rf, X_train, y_train)\n",
                "joblib.dump(rf, \"rf.pkl\")"
            ]
        },
        {
            "cell_type": "markdown",
            "metadata": {},
            "source": [
                "#### Random Forest Using Cost-Sensitive Learning"
            ]
        },
        {
            "cell_type": "code",
            "execution_count": 5,
            "metadata": {},
            "outputs": [
                {
                    "name": "stdout",
                    "output_type": "stream",
                    "text": [
                        "[[50551   187]\n",
                        " [ 5703   296]]\n",
                        "=================================================\n",
                        "Kappa Score: 0.07678246129144006\n",
                        "Accuracy Score: 0.8961876729471068\n",
                        "Precision: 0.6128364389233955\n",
                        "Recall: 0.049341556926154356\n",
                        "F1 Score: 0.09132983647022523\n",
                        "AUC Score: 0.8601272719247998\n",
                        "=================================================\n",
                        "=================================================\n",
                        "Average Accuracy Score: 0.8956989436334887\n",
                        "Average Precision Score: 0.5859920936010483\n",
                        "Average Recall Score: 0.04615605063032716\n",
                        "Average F1 Score: 0.8956989436334887\n",
                        "[0.89534708 0.89526759 0.8960985  0.8960985  0.89568305]\n",
                        "Average AUC Score: 0.8582239371386144\n",
                        "[0.85629115 0.85791747 0.85577059 0.86244753 0.85869294]\n",
                        "=================================================\n"
                    ]
                },
                {
                    "data": {
                        "text/plain": [
                            "['rf_cs.pkl']"
                        ]
                    },
                    "execution_count": 5,
                    "metadata": {},
                    "output_type": "execute_result"
                }
            ],
            "source": [
                "rf_cs = RandomForestClassifier(class_weight=\"balanced\")\n",
                "rf_cs.fit(X_train, y_train)\n",
                "y_pred = rf_cs.predict(X_test)\n",
                "y_prob = rf_cs.predict_proba(X_test)[:,1]\n",
                "ms.metrics_summary(y_test, y_pred, y_prob)\n",
                "ms.crossval_summary(rf_cs, X_train, y_train)\n",
                "joblib.dump(rf_cs, \"rf_cs.pkl\")"
            ]
        },
        {
            "cell_type": "markdown",
            "metadata": {},
            "source": [
                "## Random Forest Using SMOTE"
            ]
        },
        {
            "cell_type": "code",
            "execution_count": 6,
            "metadata": {},
            "outputs": [
                {
                    "name": "stdout",
                    "output_type": "stream",
                    "text": [
                        "[[50409   329]\n",
                        " [ 5493   506]]\n",
                        "=================================================\n",
                        "Kappa Score: 0.12548772070471836\n",
                        "Accuracy Score: 0.8973861853816734\n",
                        "Precision: 0.6059880239520958\n",
                        "Recall: 0.08434739123187197\n",
                        "F1 Score: 0.14808311384255196\n",
                        "AUC Score: 0.854351983427724\n",
                        "=================================================\n",
                        "=================================================\n",
                        "Average Accuracy Score: 0.895955762895888\n",
                        "Average Precision Score: 0.560069603683577\n",
                        "Average Recall Score: 0.07387819629459501\n",
                        "Average F1 Score: 0.895955762895888\n",
                        "[0.89632903 0.89541867 0.89632511 0.89572081 0.89598519]\n",
                        "Average AUC Score: 0.8523724617972961\n",
                        "[0.8547922  0.85323972 0.84853538 0.85439883 0.85089618]\n",
                        "=================================================\n"
                    ]
                },
                {
                    "data": {
                        "text/plain": [
                            "['rf_os.pkl']"
                        ]
                    },
                    "execution_count": 6,
                    "metadata": {},
                    "output_type": "execute_result"
                }
            ],
            "source": [
                "# implement SMOTE to oversample the minority class\n",
                "from imblearn.over_sampling import SMOTE\n",
                "from imblearn.pipeline import Pipeline\n",
                "rf_os = Pipeline(steps=[('over', SMOTE()), ('model', RandomForestClassifier())])\n",
                "rf_os.fit(X_train, y_train)\n",
                "y_pred = rf_os.predict(X_test)\n",
                "y_prob = rf_os.predict_proba(X_test)[:,1]\n",
                "ms.metrics_summary(y_test, y_pred, y_prob)\n",
                "ms.crossval_summary(rf_os, X_train, y_train)\n",
                "joblib.dump(rf_os, \"rf_os.pkl\")"
            ]
        },
        {
            "cell_type": "code",
            "execution_count": 7,
            "metadata": {},
            "outputs": [],
            "source": [
                "# from sklearn.model_selection import RepeatedStratifiedKFold\n",
                "# from sklearn.model_selection import GridSearchCV\n",
                "\n",
                "# n_estimators = [10, 100, 1000, 10000]\n",
                "# max_features = ['sqrt', 'log2']\n",
                "# # define grid search\n",
                "# grid = dict(n_estimators=n_estimators,max_features=max_features)\n",
                "# cv = RepeatedStratifiedKFold(n_splits=10, n_repeats=1)\n",
                "# grid_search = GridSearchCV(estimator=rf_os, param_grid=grid, n_jobs=-1, cv=cv, scoring='roc_auc',error_score=0)\n",
                "# grid_result = grid_search.fit(X_train, y_train)\n",
                "# # summarize results\n",
                "# print(\"Best: %f using %s\" % (grid_result.best_score_, grid_result.best_params_))\n",
                "# means = grid_result.cv_results_['mean_test_score']\n",
                "# stds = grid_result.cv_results_['std_test_score']\n",
                "# params = grid_result.cv_results_['params']\n",
                "# for mean, stdev, param in zip(means, stds, params):\n",
                "#     print(\"%f (%f) with: %r\" % (mean, stdev, param))"
            ]
        }
    ],
    "metadata": {
        "interpreter": {
            "hash": "ae5651488652e961febbac79b6ac121d2261f82ccebdbef63236855c9fe5b051"
        },
        "kernelspec": {
            "display_name": "Python 3.9.7 ('base')",
            "language": "python",
            "name": "python3"
        },
        "language_info": {
            "codemirror_mode": {
                "name": "ipython",
                "version": 3
            },
            "file_extension": ".py",
            "mimetype": "text/x-python",
            "name": "python",
            "nbconvert_exporter": "python",
            "pygments_lexer": "ipython3",
            "version": "3.9.12"
        },
        "orig_nbformat": 4
    },
    "nbformat": 4,
    "nbformat_minor": 2
}
