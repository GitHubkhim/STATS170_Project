{
    "cells": [
        {
            "cell_type": "code",
            "execution_count": 1,
            "metadata": {},
            "outputs": [],
            "source": [
                "import pandas as pd\n",
                "import numpy as np\n",
                "import joblib\n",
                "\n",
                "import metrics_summary as ms"
            ]
        },
        {
            "cell_type": "code",
            "execution_count": 2,
            "metadata": {},
            "outputs": [],
            "source": [
                "np.random.seed(170)"
            ]
        },
        {
            "cell_type": "code",
            "execution_count": 3,
            "metadata": {},
            "outputs": [],
            "source": [
                "X_train = pd.read_csv(\"../data/X_train.csv\")\n",
                "X_test = pd.read_csv(\"../data/X_test.csv\")\n",
                "y_train = pd.read_csv(\"../data/y_train.csv\").values.ravel()\n",
                "y_test = pd.read_csv(\"../data/y_test.csv\").values.ravel()"
            ]
        },
        {
            "cell_type": "markdown",
            "metadata": {},
            "source": [
                "## Decision Trees"
            ]
        },
        {
            "cell_type": "code",
            "execution_count": 4,
            "metadata": {},
            "outputs": [
                {
                    "name": "stdout",
                    "output_type": "stream",
                    "text": [
                        "[[46235  4503]\n",
                        " [ 4076  1923]]\n",
                        "=================================================\n",
                        "Kappa Score: 0.22475040008125913\n",
                        "Accuracy Score: 0.8487935562331459\n",
                        "Precision: 0.2992530345471522\n",
                        "Recall: 0.3205534255709285\n",
                        "F1 Score: 0.30953722334004025\n",
                        "AUC Score: 0.6159016881490971\n",
                        "=================================================\n",
                        "=================================================\n",
                        "Average Accuracy Score: 0.8468116151860906\n",
                        "Average Precision Score: 0.29340572583814084\n",
                        "Average Recall Score: 0.3187337824733323\n",
                        "Average F1 Score: 0.8468116151860906\n",
                        "[0.84432359 0.84511085 0.84896325 0.84631945 0.84934094]\n",
                        "Average AUC Score: 0.6139872138990532\n",
                        "[0.61347818 0.61017736 0.61894704 0.60880535 0.61852813]\n",
                        "=================================================\n"
                    ]
                },
                {
                    "data": {
                        "text/plain": [
                            "['dt.pkl']"
                        ]
                    },
                    "execution_count": 4,
                    "metadata": {},
                    "output_type": "execute_result"
                }
            ],
            "source": [
                "from sklearn.tree import DecisionTreeClassifier\n",
                "dt = DecisionTreeClassifier()\n",
                "dt.fit(X_train, y_train)\n",
                "y_pred = dt.predict(X_test)\n",
                "y_prob = dt.predict_proba(X_test)[:,1]\n",
                "ms.metrics_summary(y_test, y_pred, y_prob)\n",
                "ms.crossval_summary(dt, X_train, y_train)\n",
                "joblib.dump(dt, \"dt.pkl\")"
            ]
        },
        {
            "cell_type": "markdown",
            "metadata": {},
            "source": [
                "#### Decision Trees Using Cost-Sensitive Learning"
            ]
        },
        {
            "cell_type": "code",
            "execution_count": 5,
            "metadata": {},
            "outputs": [
                {
                    "name": "stdout",
                    "output_type": "stream",
                    "text": [
                        "[[46549  4189]\n",
                        " [ 4179  1820]]\n",
                        "=================================================\n",
                        "Kappa Score: 0.22066033430091947\n",
                        "Accuracy Score: 0.8525124698168743\n",
                        "Precision: 0.3028790148111167\n",
                        "Recall: 0.3033838973162194\n",
                        "F1 Score: 0.3031312458361093\n",
                        "AUC Score: 0.6104112517445537\n",
                        "=================================================\n",
                        "=================================================\n",
                        "Average Accuracy Score: 0.8509585690402914\n",
                        "Average Precision Score: 0.2967047595220204\n",
                        "Average Recall Score: 0.2990855662736692\n",
                        "Average F1 Score: 0.8509585690402914\n",
                        "[0.8498376  0.85221135 0.84862333 0.85292896 0.8511916 ]\n",
                        "Average AUC Score: 0.6076431294498679\n",
                        "[0.60632665 0.60926422 0.59906717 0.60998047 0.61357714]\n",
                        "=================================================\n"
                    ]
                },
                {
                    "data": {
                        "text/plain": [
                            "['dt_cs.pkl']"
                        ]
                    },
                    "execution_count": 5,
                    "metadata": {},
                    "output_type": "execute_result"
                }
            ],
            "source": [
                "dt_cs = DecisionTreeClassifier(class_weight=\"balanced\")\n",
                "dt_cs.fit(X_train, y_train)\n",
                "y_pred = dt_cs.predict(X_test)\n",
                "y_prob = dt_cs.predict_proba(X_test)[:,1]\n",
                "ms.metrics_summary(y_test, y_pred, y_prob)\n",
                "ms.crossval_summary(dt_cs, X_train, y_train)\n",
                "joblib.dump(dt_cs, \"dt_cs.pkl\")"
            ]
        },
        {
            "cell_type": "markdown",
            "metadata": {},
            "source": [
                "#### Decision Trees Using SMOTE"
            ]
        },
        {
            "cell_type": "code",
            "execution_count": 6,
            "metadata": {},
            "outputs": [
                {
                    "name": "stdout",
                    "output_type": "stream",
                    "text": [
                        "[[45951  4787]\n",
                        " [ 4040  1959]]\n",
                        "=================================================\n",
                        "Kappa Score: 0.22012248299024406\n",
                        "Accuracy Score: 0.8444225108835505\n",
                        "Precision: 0.29039430773791874\n",
                        "Recall: 0.32655442573762294\n",
                        "F1 Score: 0.30741467242055703\n",
                        "AUC Score: 0.616103496916271\n",
                        "=================================================\n",
                        "=================================================\n",
                        "Average Accuracy Score: 0.8460109276606707\n",
                        "Average Precision Score: 0.29427626802469564\n",
                        "Average Recall Score: 0.32637903843209315\n",
                        "Average F1 Score: 0.8460109276606707\n",
                        "[0.84334164 0.84798127 0.84813234 0.84597953 0.84461986]\n",
                        "Average AUC Score: 0.6169102726580604\n",
                        "[0.61497606 0.61540515 0.61895503 0.61507356 0.62014155]\n",
                        "=================================================\n"
                    ]
                },
                {
                    "data": {
                        "text/plain": [
                            "['dt_os.pkl']"
                        ]
                    },
                    "execution_count": 6,
                    "metadata": {},
                    "output_type": "execute_result"
                }
            ],
            "source": [
                "# implement SMOTE to oversample the minority class\n",
                "from imblearn.over_sampling import SMOTE\n",
                "from imblearn.pipeline import Pipeline\n",
                "dt_os = Pipeline(steps=[('over', SMOTE()), ('model', DecisionTreeClassifier())])\n",
                "dt_os.fit(X_train, y_train)\n",
                "y_pred = dt_os.predict(X_test)\n",
                "y_prob = dt_os.predict_proba(X_test)[:,1]\n",
                "ms.metrics_summary(y_test, y_pred, y_prob)\n",
                "ms.crossval_summary(dt_os, X_train, y_train)\n",
                "joblib.dump(dt_os, \"dt_os.pkl\")"
            ]
        },
        {
            "cell_type": "code",
            "execution_count": null,
            "metadata": {},
            "outputs": [],
            "source": []
        }
    ],
    "metadata": {
        "interpreter": {
            "hash": "ae5651488652e961febbac79b6ac121d2261f82ccebdbef63236855c9fe5b051"
        },
        "kernelspec": {
            "display_name": "Python 3.9.7 ('base')",
            "language": "python",
            "name": "python3"
        },
        "language_info": {
            "codemirror_mode": {
                "name": "ipython",
                "version": 3
            },
            "file_extension": ".py",
            "mimetype": "text/x-python",
            "name": "python",
            "nbconvert_exporter": "python",
            "pygments_lexer": "ipython3",
            "version": "3.9.12"
        },
        "orig_nbformat": 4
    },
    "nbformat": 4,
    "nbformat_minor": 2
}
