{
    "cells": [
        {
            "cell_type": "code",
            "execution_count": 2,
            "metadata": {},
            "outputs": [],
            "source": [
                "import pandas as pd\n",
                "import numpy as np\n",
                "import joblib\n",
                "\n",
                "import metrics_summary as ms"
            ]
        },
        {
            "cell_type": "code",
            "execution_count": 3,
            "metadata": {},
            "outputs": [],
            "source": [
                "np.random.seed(170)"
            ]
        },
        {
            "cell_type": "code",
            "execution_count": 4,
            "metadata": {},
            "outputs": [],
            "source": [
                "X_train = pd.read_csv(\"../data/X_train.csv\")\n",
                "X_test = pd.read_csv(\"../data/X_test.csv\")\n",
                "y_train = pd.read_csv(\"../data/y_train.csv\").values.ravel()\n",
                "y_test = pd.read_csv(\"../data/y_test.csv\").values.ravel()"
            ]
        },
        {
            "cell_type": "markdown",
            "metadata": {},
            "source": [
                "## Stochastic Gradient Descent"
            ]
        },
        {
            "cell_type": "code",
            "execution_count": 5,
            "metadata": {},
            "outputs": [
                {
                    "name": "stdout",
                    "output_type": "stream",
                    "text": [
                        "[[15421 35317]\n",
                        " [  444  5555]]\n",
                        "=================================================\n",
                        "Kappa Score: 0.0645319669031651\n",
                        "Accuracy Score: 0.3697058356980454\n",
                        "Precision: 0.13591211587394794\n",
                        "Recall: 0.9259876646107684\n",
                        "F1 Score: 0.2370335601971368\n",
                        "AUC Score: 0.6151003339401877\n",
                        "=================================================\n",
                        "=================================================\n",
                        "Average Accuracy Score: 0.717843886087794\n",
                        "Average Precision Score: 0.2718740291352759\n",
                        "Average Recall Score: 0.35091407645587713\n",
                        "Average F1 Score: 0.717843886087794\n",
                        "[0.23714027 0.88873362 0.88922461 0.68055293 0.893568  ]\n",
                        "Average AUC Score: 0.6872090965358665\n",
                        "[0.65727072 0.67955938 0.68491631 0.75161797 0.6626811 ]\n",
                        "=================================================\n"
                    ]
                },
                {
                    "data": {
                        "text/plain": [
                            "['sgd.pkl']"
                        ]
                    },
                    "execution_count": 5,
                    "metadata": {},
                    "output_type": "execute_result"
                }
            ],
            "source": [
                "from sklearn.linear_model import SGDClassifier\n",
                "\n",
                "sgd = SGDClassifier(loss=\"log_loss\")\n",
                "sgd.fit(X_train, y_train)\n",
                "y_pred = sgd.predict(X_test)\n",
                "y_prob = sgd.predict_proba(X_test)[:,1]\n",
                "ms.metrics_summary(y_test, y_pred, y_prob)\n",
                "ms.crossval_summary(sgd, X_train, y_train)\n",
                "joblib.dump(sgd, \"sgd.pkl\")"
            ]
        },
        {
            "cell_type": "markdown",
            "metadata": {},
            "source": [
                "## Stochastic Gradient Descent Using Cost-Sensitive Learning"
            ]
        },
        {
            "cell_type": "code",
            "execution_count": 6,
            "metadata": {},
            "outputs": [
                {
                    "name": "stdout",
                    "output_type": "stream",
                    "text": [
                        "[[49591  1147]\n",
                        " [ 5590   409]]\n",
                        "=================================================\n",
                        "Kappa Score: 0.06766680257520519\n",
                        "Accuracy Score: 0.8812591430636093\n",
                        "Precision: 0.262853470437018\n",
                        "Recall: 0.06817802967161193\n",
                        "F1 Score: 0.10827266710787559\n",
                        "AUC Score: 0.5227766668720477\n",
                        "=================================================\n",
                        "=================================================\n",
                        "Average Accuracy Score: 0.7664636172773412\n",
                        "Average Precision Score: 0.24731552162090042\n",
                        "Average Recall Score: 0.42260618588271315\n",
                        "Average F1 Score: 0.7664636172773412\n",
                        "[0.71402674 0.82611323 0.87812063 0.86376855 0.55028893]\n",
                        "Average AUC Score: 0.7139384068020469\n",
                        "[0.73265564 0.71950075 0.69695045 0.69584877 0.72473642]\n",
                        "=================================================\n"
                    ]
                },
                {
                    "data": {
                        "text/plain": [
                            "['sgd_cs.pkl']"
                        ]
                    },
                    "execution_count": 6,
                    "metadata": {},
                    "output_type": "execute_result"
                }
            ],
            "source": [
                "sgd_cs = SGDClassifier(class_weight=\"balanced\", loss=\"log_loss\")\n",
                "sgd_cs.fit(X_train, y_train)\n",
                "y_pred = sgd_cs.predict(X_test)\n",
                "y_prob = sgd_cs.predict_proba(X_test)[:,1]\n",
                "ms.metrics_summary(y_test, y_pred, y_prob)\n",
                "ms.crossval_summary(sgd_cs, X_train, y_train)\n",
                "joblib.dump(sgd_cs, \"sgd_cs.pkl\")"
            ]
        },
        {
            "cell_type": "markdown",
            "metadata": {},
            "source": [
                "#### Stochastic Gradient Descent Using SMOTE"
            ]
        },
        {
            "cell_type": "code",
            "execution_count": 7,
            "metadata": {},
            "outputs": [
                {
                    "name": "stdout",
                    "output_type": "stream",
                    "text": [
                        "[[20158 30580]\n",
                        " [  474  5525]]\n",
                        "=================================================\n",
                        "Kappa Score: 0.09907416450169249\n",
                        "Accuracy Score: 0.45266757142605357\n",
                        "Precision: 0.1530258966902091\n",
                        "Recall: 0.9209868311385231\n",
                        "F1 Score: 0.26244537336120083\n",
                        "AUC Score: 0.659175378875706\n",
                        "=================================================\n",
                        "=================================================\n",
                        "Average Accuracy Score: 0.8180777991143859\n",
                        "Average Precision Score: 0.28232377091797367\n",
                        "Average Recall Score: 0.3077122696881539\n",
                        "Average F1 Score: 0.8180777991143859\n",
                        "[0.77056424 0.67073309 0.88314386 0.89149073 0.87445708]\n",
                        "Average AUC Score: 0.7283249199036355\n",
                        "[0.76362187 0.76047119 0.7114792  0.68717826 0.71887408]\n",
                        "=================================================\n"
                    ]
                },
                {
                    "data": {
                        "text/plain": [
                            "['sgd_os.pkl']"
                        ]
                    },
                    "execution_count": 7,
                    "metadata": {},
                    "output_type": "execute_result"
                }
            ],
            "source": [
                "# implement SMOTE to oversample the minority class\n",
                "from imblearn.over_sampling import SMOTE\n",
                "from imblearn.pipeline import Pipeline\n",
                "sgd_os = Pipeline(steps=[('over', SMOTE()), ('model', SGDClassifier(loss=\"log_loss\"))])\n",
                "sgd_os.fit(X_train, y_train)\n",
                "y_pred = sgd_os.predict(X_test)\n",
                "y_prob = sgd_os.predict_proba(X_test)[:,1]\n",
                "ms.metrics_summary(y_test, y_pred, y_prob)\n",
                "ms.crossval_summary(sgd_os, X_train, y_train)\n",
                "joblib.dump(sgd_os, \"sgd_os.pkl\")"
            ]
        },
        {
            "cell_type": "code",
            "execution_count": null,
            "metadata": {},
            "outputs": [],
            "source": []
        }
    ],
    "metadata": {
        "interpreter": {
            "hash": "ae5651488652e961febbac79b6ac121d2261f82ccebdbef63236855c9fe5b051"
        },
        "kernelspec": {
            "display_name": "Python 3.9.7 ('base')",
            "language": "python",
            "name": "python3"
        },
        "language_info": {
            "codemirror_mode": {
                "name": "ipython",
                "version": 3
            },
            "file_extension": ".py",
            "mimetype": "text/x-python",
            "name": "python",
            "nbconvert_exporter": "python",
            "pygments_lexer": "ipython3",
            "version": "3.9.12"
        },
        "orig_nbformat": 4
    },
    "nbformat": 4,
    "nbformat_minor": 2
}
