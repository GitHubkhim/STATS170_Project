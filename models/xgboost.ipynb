{
    "cells": [
        {
            "cell_type": "code",
            "execution_count": 7,
            "metadata": {},
            "outputs": [],
            "source": [
                "import pandas as pd\n",
                "import numpy as np\n",
                "import joblib\n",
                "\n",
                "import metrics_summary as ms"
            ]
        },
        {
            "cell_type": "code",
            "execution_count": 8,
            "metadata": {},
            "outputs": [],
            "source": [
                "np.random.seed(170)"
            ]
        },
        {
            "cell_type": "code",
            "execution_count": 9,
            "metadata": {},
            "outputs": [],
            "source": [
                "X_train = pd.read_csv(\"../data/X_train.csv\")\n",
                "X_test = pd.read_csv(\"../data/X_test.csv\")\n",
                "y_train = pd.read_csv(\"../data/y_train.csv\").values.ravel()\n",
                "y_test = pd.read_csv(\"../data/y_test.csv\").values.ravel()"
            ]
        },
        {
            "cell_type": "markdown",
            "metadata": {},
            "source": [
                "## XGBoost"
            ]
        },
        {
            "cell_type": "code",
            "execution_count": 10,
            "metadata": {},
            "outputs": [
                {
                    "name": "stdout",
                    "output_type": "stream",
                    "text": [
                        "[[49556  1182]\n",
                        " [ 4464  1535]]\n",
                        "=================================================\n",
                        "Kappa Score: 0.3065112549106489\n",
                        "Accuracy Score: 0.9004882175652572\n",
                        "Precision: 0.5649613544350387\n",
                        "Recall: 0.2558759793298883\n",
                        "F1 Score: 0.35222579164754475\n",
                        "AUC Score: 0.878215014300247\n",
                        "=================================================\n",
                        "=================================================\n",
                        "Average Accuracy Score: 0.89815388086446\n",
                        "Average Precision Score: 0.5408838034473414\n",
                        "Average Recall Score: 0.2422112744347471\n",
                        "Average F1 Score: 0.89815388086446\n",
                        "[0.89848176 0.89787363 0.89881784 0.89734487 0.89825131]\n",
                        "Average AUC Score: 0.8743988236333692\n",
                        "[0.87548496 0.87513395 0.8734569  0.87091087 0.87700744]\n",
                        "=================================================\n"
                    ]
                },
                {
                    "data": {
                        "text/plain": [
                            "['xgb.pkl']"
                        ]
                    },
                    "execution_count": 10,
                    "metadata": {},
                    "output_type": "execute_result"
                }
            ],
            "source": [
                "from xgboost import XGBClassifier\n",
                "xgb = XGBClassifier()\n",
                "xgb.fit(X_train, y_train)\n",
                "y_pred = xgb.predict(X_test)\n",
                "y_prob = xgb.predict_proba(X_test)[:,1]\n",
                "ms.metrics_summary(y_test, y_pred, y_prob)\n",
                "ms.crossval_summary(xgb, X_train, y_train)\n",
                "joblib.dump(xgb, \"xgb.pkl\")"
            ]
        },
        {
            "cell_type": "code",
            "execution_count": 11,
            "metadata": {},
            "outputs": [],
            "source": [
                "# from sklearn.model_selection import RepeatedStratifiedKFold\n",
                "# from sklearn.model_selection import GridSearchCV\n",
                "\n",
                "# max_depth = [3, 5, 7, 10]\n",
                "# n_estimators = [100, 500, 1000]\n",
                "# # learning_rate = [0.01, 0.1, 0.3]\n",
                "# # colsample_bytree = [0.5, 1]\n",
                "# # subsample = [0.6, 1]\n",
                "# # define grid search\n",
                "# grid = dict(max_depth=max_depth, n_estimators=n_estimators)\n",
                "# cv = RepeatedStratifiedKFold(n_splits=5, n_repeats=1)\n",
                "# grid_search = GridSearchCV(estimator=xgb, param_grid=grid, n_jobs=-1, cv=cv, scoring='roc_auc',error_score=0)\n",
                "# grid_result = grid_search.fit(X_train, y_train)\n",
                "# # summarize results\n",
                "# print(\"Best: %f using %s\" % (grid_result.best_score_, grid_result.best_params_))\n",
                "# means = grid_result.cv_results_['mean_test_score']\n",
                "# stds = grid_result.cv_results_['std_test_score']\n",
                "# params = grid_result.cv_results_['params']\n",
                "# for mean, stdev, param in zip(means, stds, params):\n",
                "#     print(\"%f (%f) with: %r\" % (mean, stdev, param))"
            ]
        },
        {
            "cell_type": "markdown",
            "metadata": {},
            "source": [
                "#### XGBoost Using SMOTE"
            ]
        },
        {
            "cell_type": "code",
            "execution_count": 12,
            "metadata": {},
            "outputs": [
                {
                    "name": "stdout",
                    "output_type": "stream",
                    "text": [
                        "[[49511  1227]\n",
                        " [ 4410  1589]]\n",
                        "=================================================\n",
                        "Kappa Score: 0.31419261890579686\n",
                        "Accuracy Score: 0.9006468442110087\n",
                        "Precision: 0.5642755681818182\n",
                        "Recall: 0.26487747957992996\n",
                        "F1 Score: 0.3605218377765173\n",
                        "AUC Score: 0.8789450113392505\n",
                        "=================================================\n",
                        "=================================================\n",
                        "Average Accuracy Score: 0.8980556832839307\n",
                        "Average Precision Score: 0.5390597878922299\n",
                        "Average Recall Score: 0.24685579033328228\n",
                        "Average F1 Score: 0.8980556832839307\n",
                        "[0.89836846 0.89776032 0.89711825 0.89927107 0.89776032]\n",
                        "Average AUC Score: 0.8748783349366598\n",
                        "[0.87800242 0.87524566 0.87368466 0.87294507 0.87451386]\n",
                        "=================================================\n"
                    ]
                },
                {
                    "data": {
                        "text/plain": [
                            "['xgb_os.pkl']"
                        ]
                    },
                    "execution_count": 12,
                    "metadata": {},
                    "output_type": "execute_result"
                }
            ],
            "source": [
                "# implement SMOTE to oversample the minority class\n",
                "from xgboost import XGBClassifier\n",
                "from imblearn.over_sampling import SMOTE\n",
                "from imblearn.pipeline import Pipeline\n",
                "xgb_os = Pipeline(steps=[('over', SMOTE()), ('model', XGBClassifier())])\n",
                "xgb_os.fit(X_train, y_train)\n",
                "y_pred = xgb_os.predict(X_test)\n",
                "y_prob = xgb_os.predict_proba(X_test)[:,1]\n",
                "ms.metrics_summary(y_test, y_pred, y_prob)\n",
                "ms.crossval_summary(xgb_os, X_train, y_train)\n",
                "joblib.dump(xgb_os, \"xgb_os.pkl\")"
            ]
        }
    ],
    "metadata": {
        "interpreter": {
            "hash": "ae5651488652e961febbac79b6ac121d2261f82ccebdbef63236855c9fe5b051"
        },
        "kernelspec": {
            "display_name": "Python 3.9.7 ('base')",
            "language": "python",
            "name": "python3"
        },
        "language_info": {
            "codemirror_mode": {
                "name": "ipython",
                "version": 3
            },
            "file_extension": ".py",
            "mimetype": "text/x-python",
            "name": "python",
            "nbconvert_exporter": "python",
            "pygments_lexer": "ipython3",
            "version": "3.9.12"
        },
        "orig_nbformat": 4
    },
    "nbformat": 4,
    "nbformat_minor": 2
}
