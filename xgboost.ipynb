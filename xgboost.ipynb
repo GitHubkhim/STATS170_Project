{
 "cells": [
  {
   "cell_type": "code",
   "execution_count": 1,
   "metadata": {},
   "outputs": [],
   "source": [
    "import pandas as pd\n",
    "import numpy as np\n",
    "\n",
    "import metrics_summary as ms"
   ]
  },
  {
   "cell_type": "code",
   "execution_count": 2,
   "metadata": {},
   "outputs": [],
   "source": [
    "np.random.seed(170)"
   ]
  },
  {
   "cell_type": "code",
   "execution_count": 3,
   "metadata": {},
   "outputs": [],
   "source": [
    "X_train = pd.read_csv(\"data/X_train.csv\")\n",
    "X_test = pd.read_csv(\"data/X_test.csv\")\n",
    "y_train = pd.read_csv(\"data/y_train.csv\").values.ravel()\n",
    "y_test = pd.read_csv(\"data/y_test.csv\").values.ravel()"
   ]
  },
  {
   "cell_type": "markdown",
   "metadata": {},
   "source": [
    "## XGBoost"
   ]
  },
  {
   "cell_type": "code",
   "execution_count": 4,
   "metadata": {},
   "outputs": [
    {
     "name": "stdout",
     "output_type": "stream",
     "text": [
      "[[49546  1192]\n",
      " [ 4475  1524]]\n",
      "=================================================\n",
      "Kappa Score: 0.30386443635188465\n",
      "Accuracy Score: 0.9001180887251705\n",
      "Precision: 0.561119293078056\n",
      "Recall: 0.254042340390065\n",
      "F1 Score: 0.34974182444061963\n",
      "AUC Score: 0.6152745503046151\n",
      "=================================================\n",
      "=================================================\n",
      "Average Accuracy Score: 0.8980330249137233\n",
      "Average Precision Score: 0.5390561645976746\n",
      "Average Recall Score: 0.24478447158352282\n",
      "Average F1 Score: 0.8980330249137233\n",
      "[0.89718779 0.89884203 0.89806925]\n",
      "Average AUC Score: 0.8740520969035818\n",
      "[0.87346255 0.87321228 0.87548146]\n",
      "=================================================\n"
     ]
    }
   ],
   "source": [
    "from xgboost import XGBClassifier\n",
    "xgb = XGBClassifier()\n",
    "xgb.fit(X_train, y_train)\n",
    "y_pred = xgb.predict(X_test)\n",
    "ms.metrics_summary(y_test, y_pred)\n",
    "ms.crossval_summary(xgb, X_train, y_train)"
   ]
  },
  {
   "cell_type": "markdown",
   "metadata": {},
   "source": [
    "## XGBoost Using SMOTE"
   ]
  },
  {
   "cell_type": "markdown",
   "metadata": {},
   "source": [
    "#### SMOTE"
   ]
  },
  {
   "cell_type": "code",
   "execution_count": 5,
   "metadata": {},
   "outputs": [
    {
     "name": "stdout",
     "output_type": "stream",
     "text": [
      "[[49559  1179]\n",
      " [ 4493  1506]]\n",
      "=================================================\n",
      "Kappa Score: 0.30115175400381233\n",
      "Accuracy Score: 0.9000299628108641\n",
      "Precision: 0.5608938547486033\n",
      "Recall: 0.2510418403067178\n",
      "F1 Score: 0.34684477199447256\n",
      "AUC Score: 0.6139024093724846\n",
      "=================================================\n",
      "=================================================\n",
      "Average Accuracy Score: 0.8976628979375096\n",
      "Average Precision Score: 0.5348625362583661\n",
      "Average Recall Score: 0.24535610430949636\n",
      "Average F1 Score: 0.8976628979375096\n",
      "[0.89718779 0.89773165 0.89806925]\n",
      "Average AUC Score: 0.8748020995625966\n",
      "[0.8755567  0.87425761 0.87459199]\n",
      "=================================================\n"
     ]
    }
   ],
   "source": [
    "# implement SMOTE to oversample the minority class\n",
    "from xgboost import XGBClassifier\n",
    "from imblearn.over_sampling import SMOTE\n",
    "from imblearn.pipeline import Pipeline\n",
    "pipeline = Pipeline(steps=[('over', SMOTE()), ('model', XGBClassifier())])\n",
    "pipeline.fit(X_train, y_train)\n",
    "y_pred = pipeline.predict(X_test)\n",
    "ms.metrics_summary(y_test, y_pred)\n",
    "ms.crossval_summary(pipeline, X_train, y_train)"
   ]
  }
 ],
 "metadata": {
  "interpreter": {
   "hash": "40d3a090f54c6569ab1632332b64b2c03c39dcf918b08424e98f38b5ae0af88f"
  },
  "kernelspec": {
   "display_name": "Python 3.8.5",
   "language": "python",
   "name": "python3"
  },
  "language_info": {
   "codemirror_mode": {
    "name": "ipython",
    "version": 3
   },
   "file_extension": ".py",
   "mimetype": "text/x-python",
   "name": "python",
   "nbconvert_exporter": "python",
   "pygments_lexer": "ipython3",
   "version": "3.8.5"
  },
  "orig_nbformat": 4
 },
 "nbformat": 4,
 "nbformat_minor": 2
}
