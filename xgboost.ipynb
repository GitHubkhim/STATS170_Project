{
 "cells": [
  {
   "cell_type": "code",
   "execution_count": 1,
   "metadata": {},
   "outputs": [],
   "source": [
    "import pandas as pd\n",
    "import numpy as np\n",
    "import matplotlib.pyplot as plt\n",
    "import seaborn as sns\n",
    "\n",
    "import metrics_summary as ms"
   ]
  },
  {
   "cell_type": "code",
   "execution_count": 2,
   "metadata": {},
   "outputs": [],
   "source": [
    "np.random.seed(170)"
   ]
  },
  {
   "cell_type": "code",
   "execution_count": 3,
   "metadata": {},
   "outputs": [],
   "source": [
    "X_train = pd.read_csv(\"data/X_train.csv\")\n",
    "X_test = pd.read_csv(\"data/X_test.csv\")\n",
    "y_train = pd.read_csv(\"data/y_train.csv\").values.ravel()\n",
    "y_test = pd.read_csv(\"data/y_test.csv\").values.ravel()"
   ]
  },
  {
   "cell_type": "markdown",
   "metadata": {},
   "source": [
    "## SMOTE"
   ]
  },
  {
   "cell_type": "code",
   "execution_count": 4,
   "metadata": {},
   "outputs": [
    {
     "name": "stdout",
     "output_type": "stream",
     "text": [
      "(236780, 246) (236780,)\n"
     ]
    }
   ],
   "source": [
    "# implement SMOTE to oversample the minority class\n",
    "from imblearn.over_sampling import SMOTE\n",
    "os = SMOTE()\n",
    "X_os, y_os = os.fit_resample(X_train, y_train)\n",
    "print(X_os.shape, y_os.shape)"
   ]
  },
  {
   "cell_type": "markdown",
   "metadata": {},
   "source": [
    "## XGBoost"
   ]
  },
  {
   "cell_type": "code",
   "execution_count": 5,
   "metadata": {},
   "outputs": [
    {
     "name": "stdout",
     "output_type": "stream",
     "text": [
      "[[49552  1186]\n",
      " [ 4481  1518]]\n",
      "=================================================\n",
      "Kappa Score: 0.3030543325294446\n",
      "Accuracy Score: 0.9001180887251705\n",
      "Precision: 0.5613905325443787\n",
      "Recall: 0.25304217369561594\n",
      "F1 Score: 0.34884522578421234\n",
      "AUC Score: 0.6148335942387181\n",
      "=================================================\n",
      "=================================================\n",
      "Average Accuracy Score: 0.8981085585092086\n",
      "Average Precision Score: 0.540363405677103\n",
      "Average Recall Score: 0.24342683611493898\n",
      "Average F1 Score: 0.8981085585092086\n",
      "[0.89848176 0.89541867 0.89723156 0.89998867 0.89942214]\n",
      "Average AUC Score: 0.8750014761952313\n",
      "[0.87057935 0.8736725  0.87646556 0.87626524 0.87802472]\n",
      "=================================================\n"
     ]
    }
   ],
   "source": [
    "from xgboost import XGBClassifier\n",
    "xgb = XGBClassifier()\n",
    "xgb.fit(X_train, y_train)\n",
    "y_pred = xgb.predict(X_test)\n",
    "ms.metrics_summary(y_test, y_pred)\n",
    "ms.crossval_summary(xgb, X_train, y_train)"
   ]
  },
  {
   "cell_type": "markdown",
   "metadata": {},
   "source": [
    "#### XGBoost Using SMOTE"
   ]
  },
  {
   "cell_type": "code",
   "execution_count": 6,
   "metadata": {},
   "outputs": [
    {
     "name": "stdout",
     "output_type": "stream",
     "text": [
      "[[49521  1217]\n",
      " [ 4493  1506]]\n",
      "=================================================\n",
      "Kappa Score: 0.2990575771551396\n",
      "Accuracy Score: 0.8993602058621358\n",
      "Precision: 0.55306647080426\n",
      "Recall: 0.2510418403067178\n",
      "F1 Score: 0.345333639073607\n",
      "AUC Score: 0.6135279365907431\n",
      "=================================================\n",
      "=================================================\n",
      "Average Accuracy Score: 0.926940619984796\n",
      "Average Precision Score: 0.9730412476271164\n",
      "Average Recall Score: 0.8817805557901849\n",
      "Average F1 Score: 0.926940619984796\n",
      "[0.70445139 0.98213532 0.9827477  0.98306445 0.98230425]\n",
      "Average AUC Score: 0.9782497362461235\n",
      "[0.89125785 0.99999866 0.99999768 0.9999969  0.99999759]\n",
      "=================================================\n"
     ]
    }
   ],
   "source": [
    "xgb_os = XGBClassifier()\n",
    "xgb_os.fit(X_os, y_os)\n",
    "y_pred = xgb_os.predict(X_test)\n",
    "ms.metrics_summary(y_test, y_pred)\n",
    "ms.crossval_summary(xgb_os, X_os, y_os)\n"
   ]
  }
 ],
 "metadata": {
  "interpreter": {
   "hash": "ae5651488652e961febbac79b6ac121d2261f82ccebdbef63236855c9fe5b051"
  },
  "kernelspec": {
   "display_name": "Python 3.9.7 ('base')",
   "language": "python",
   "name": "python3"
  },
  "language_info": {
   "codemirror_mode": {
    "name": "ipython",
    "version": 3
   },
   "file_extension": ".py",
   "mimetype": "text/x-python",
   "name": "python",
   "nbconvert_exporter": "python",
   "pygments_lexer": "ipython3",
   "version": "3.9.7"
  },
  "orig_nbformat": 4
 },
 "nbformat": 4,
 "nbformat_minor": 2
}
