{
 "cells": [
  {
   "cell_type": "code",
   "execution_count": 14,
   "metadata": {},
   "outputs": [],
   "source": [
    "import pandas as pd\n",
    "import numpy as np\n",
    "import matplotlib.pyplot as plt\n",
    "import seaborn as sns\n",
    "\n",
    "import metrics_summary as ms"
   ]
  },
  {
   "cell_type": "code",
   "execution_count": 15,
   "metadata": {},
   "outputs": [],
   "source": [
    "np.random.seed(170)"
   ]
  },
  {
   "cell_type": "code",
   "execution_count": 16,
   "metadata": {},
   "outputs": [],
   "source": [
    "X_train = pd.read_csv(\"data/X_train.csv\")\n",
    "X_test = pd.read_csv(\"data/X_test.csv\")\n",
    "y_train = pd.read_csv(\"data/y_train.csv\").values.ravel()\n",
    "y_test = pd.read_csv(\"data/y_test.csv\").values.ravel()"
   ]
  },
  {
   "cell_type": "markdown",
   "metadata": {},
   "source": [
    "## SMOTE"
   ]
  },
  {
   "cell_type": "code",
   "execution_count": 17,
   "metadata": {},
   "outputs": [
    {
     "name": "stdout",
     "output_type": "stream",
     "text": [
      "(236866, 53) (236866,)\n"
     ]
    }
   ],
   "source": [
    "# implement SMOTE to oversample the minority class\n",
    "from imblearn.over_sampling import SMOTE\n",
    "os = SMOTE()\n",
    "X_os, y_os = os.fit_resample(X_train, y_train)\n",
    "print(X_os.shape, y_os.shape)"
   ]
  },
  {
   "cell_type": "markdown",
   "metadata": {},
   "source": [
    "## XGBoost"
   ]
  },
  {
   "cell_type": "code",
   "execution_count": 18,
   "metadata": {},
   "outputs": [
    {
     "name": "stdout",
     "output_type": "stream",
     "text": [
      "[[49988   707]\n",
      " [  113  5929]]\n",
      "=================================================\n",
      "Kappa Score: 0.9272058841223716\n",
      "Accuracy Score: 0.9855473500537568\n",
      "Precision: 0.8934599156118144\n",
      "Recall: 0.9812975835815955\n",
      "F1 Score: 0.9353210285533995\n",
      "AUC Score: 0.9836757175231186\n",
      "=================================================\n",
      "=================================================\n",
      "Average Accuracy Score: 0.9850361797308966\n",
      "Average Precision Score: 0.8880839930435593\n",
      "Average Recall Score: 0.9817961471139312\n",
      "Average F1 Score: 0.9850361797308966\n",
      "Average AUC Score: 0.9946919746100228\n",
      "=================================================\n"
     ]
    },
    {
     "data": {
      "text/plain": [
       "0.9946919746100228"
      ]
     },
     "execution_count": 18,
     "metadata": {},
     "output_type": "execute_result"
    }
   ],
   "source": [
    "from xgboost import XGBClassifier\n",
    "xgb = XGBClassifier()\n",
    "xgb.fit(X_train, y_train)\n",
    "y_pred = xgb.predict(X_test)\n",
    "ms.metrics_summary(y_test, y_pred)\n",
    "ms.crossval_summary(xgb, X_train, y_train)"
   ]
  },
  {
   "cell_type": "markdown",
   "metadata": {},
   "source": [
    "#### XGBoost Using SMOTE"
   ]
  },
  {
   "cell_type": "code",
   "execution_count": 19,
   "metadata": {},
   "outputs": [
    {
     "name": "stdout",
     "output_type": "stream",
     "text": [
      "[[50000   695]\n",
      " [  142  5900]]\n",
      "=================================================\n",
      "Kappa Score: 0.9254832838352876\n",
      "Accuracy Score: 0.9852477219451152\n",
      "Precision: 0.8946171341925702\n",
      "Recall: 0.9764978483945713\n",
      "F1 Score: 0.9337659254569914\n",
      "AUC Score: 0.9813942047969503\n",
      "=================================================\n",
      "=================================================\n",
      "Average Accuracy Score: 0.9351921726714378\n",
      "Average Precision Score: 0.9881547286167722\n",
      "Average Recall Score: 0.8824080719381939\n",
      "Average F1 Score: 0.9351921726714378\n",
      "Average AUC Score: 0.9993233276230644\n",
      "=================================================\n"
     ]
    },
    {
     "data": {
      "text/plain": [
       "0.9993233276230644"
      ]
     },
     "execution_count": 19,
     "metadata": {},
     "output_type": "execute_result"
    }
   ],
   "source": [
    "xgb_os = XGBClassifier()\n",
    "xgb_os.fit(X_os, y_os)\n",
    "y_pred = xgb_os.predict(X_test)\n",
    "ms.metrics_summary(y_test, y_pred)\n",
    "ms.crossval_summary(xgb_os, X_os, y_os)\n"
   ]
  }
 ],
 "metadata": {
  "interpreter": {
   "hash": "ae5651488652e961febbac79b6ac121d2261f82ccebdbef63236855c9fe5b051"
  },
  "kernelspec": {
   "display_name": "Python 3.9.7 ('base')",
   "language": "python",
   "name": "python3"
  },
  "language_info": {
   "codemirror_mode": {
    "name": "ipython",
    "version": 3
   },
   "file_extension": ".py",
   "mimetype": "text/x-python",
   "name": "python",
   "nbconvert_exporter": "python",
   "pygments_lexer": "ipython3",
   "version": "3.9.7"
  },
  "orig_nbformat": 4
 },
 "nbformat": 4,
 "nbformat_minor": 2
}
