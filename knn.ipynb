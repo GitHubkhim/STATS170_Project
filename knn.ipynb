{
 "cells": [
  {
   "cell_type": "code",
   "execution_count": 1,
   "metadata": {},
   "outputs": [],
   "source": [
    "import pandas as pd\n",
    "import numpy as np\n",
    "\n",
    "import metrics_summary as ms"
   ]
  },
  {
   "cell_type": "code",
   "execution_count": 2,
   "metadata": {},
   "outputs": [],
   "source": [
    "X_train = pd.read_csv(\"data/X_train.csv\")\n",
    "X_test = pd.read_csv(\"data/X_test.csv\")\n",
    "y_train = pd.read_csv(\"data/y_train.csv\").values.ravel()\n",
    "y_test = pd.read_csv(\"data/y_test.csv\").values.ravel()"
   ]
  },
  {
   "cell_type": "markdown",
   "metadata": {},
   "source": [
    "## KNN"
   ]
  },
  {
   "cell_type": "code",
   "execution_count": 3,
   "metadata": {},
   "outputs": [
    {
     "name": "stdout",
     "output_type": "stream",
     "text": [
      "[[49696  1042]\n",
      " [ 5596   403]]\n",
      "=================================================\n",
      "Kappa Score: 0.07010368488854712\n",
      "Accuracy Score: 0.8830040361668753\n",
      "Precision: 0.27889273356401384\n",
      "Recall: 0.06717786297716286\n",
      "F1 Score: 0.10827512090274047\n",
      "AUC Score: 0.5233204936313541\n",
      "=================================================\n",
      "=================================================\n",
      "Average Accuracy Score: 0.8833940210782906\n",
      "Average Precision Score: 0.2742325285600979\n",
      "Average Recall Score: 0.0624464802581658\n",
      "Average F1 Score: 0.8833940210782906\n",
      "[0.88286614 0.88304743 0.88426849]\n",
      "Average AUC Score: 0.607319986229447\n",
      "[0.60218056 0.6117598  0.60801959]\n",
      "=================================================\n"
     ]
    }
   ],
   "source": [
    "from sklearn.neighbors import KNeighborsClassifier\n",
    "knn = KNeighborsClassifier()\n",
    "knn.fit(X_train, y_train)\n",
    "y_pred = knn.predict(X_test)\n",
    "ms.metrics_summary(y_test, y_pred)\n",
    "ms.crossval_summary(knn, X_train, y_train)"
   ]
  },
  {
   "cell_type": "markdown",
   "metadata": {},
   "source": [
    "#### KNN Using SMOTE"
   ]
  },
  {
   "cell_type": "code",
   "execution_count": 4,
   "metadata": {},
   "outputs": [
    {
     "name": "stdout",
     "output_type": "stream",
     "text": [
      "[[35062 15676]\n",
      " [ 2924  3075]]\n",
      "=================================================\n",
      "Kappa Score: 0.10511455898086697\n",
      "Accuracy Score: 0.6721715987803374\n",
      "Precision: 0.16399125379979734\n",
      "Recall: 0.5125854309051509\n",
      "F1 Score: 0.2484848484848485\n",
      "AUC Score: 0.6018128384373206\n",
      "=================================================\n",
      "=================================================\n",
      "Average Accuracy Score: 0.6727524006709228\n",
      "Average Precision Score: 0.16112503701498396\n",
      "Average Recall Score: 0.4981423008370358\n",
      "Average F1 Score: 0.6727524006709228\n",
      "[0.67234698 0.6738426  0.67206762]\n",
      "Average AUC Score: 0.6242381306650965\n",
      "[0.62547763 0.62324047 0.62399629]\n",
      "=================================================\n"
     ]
    }
   ],
   "source": [
    "# implement SMOTE to oversample the minority class\n",
    "from imblearn.over_sampling import SMOTE\n",
    "from imblearn.pipeline import Pipeline\n",
    "pipeline = Pipeline(steps=[('over', SMOTE()), ('model', KNeighborsClassifier())])\n",
    "pipeline.fit(X_train, y_train)\n",
    "y_pred = pipeline.predict(X_test)\n",
    "ms.metrics_summary(y_test, y_pred)\n",
    "ms.crossval_summary(pipeline, X_train, y_train)"
   ]
  }
 ],
 "metadata": {
  "interpreter": {
   "hash": "40d3a090f54c6569ab1632332b64b2c03c39dcf918b08424e98f38b5ae0af88f"
  },
  "kernelspec": {
   "display_name": "Python 3.8.5",
   "language": "python",
   "name": "python3"
  },
  "language_info": {
   "codemirror_mode": {
    "name": "ipython",
    "version": 3
   },
   "file_extension": ".py",
   "mimetype": "text/x-python",
   "name": "python",
   "nbconvert_exporter": "python",
   "pygments_lexer": "ipython3",
   "version": "3.8.5"
  },
  "orig_nbformat": 4
 },
 "nbformat": 4,
 "nbformat_minor": 2
}
