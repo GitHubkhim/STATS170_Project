{
 "cells": [
  {
   "cell_type": "code",
   "execution_count": 7,
   "metadata": {},
   "outputs": [],
   "source": [
    "import pandas as pd\n",
    "import numpy as np\n",
    "import matplotlib.pyplot as plt\n",
    "import seaborn as sns"
   ]
  },
  {
   "cell_type": "code",
   "execution_count": 8,
   "metadata": {},
   "outputs": [],
   "source": [
    "X_train = pd.read_csv(\"data/X_train.csv\")\n",
    "X_test = pd.read_csv(\"data/X_test.csv\")\n",
    "y_train = pd.read_csv(\"data/y_train.csv\").values.ravel()\n",
    "y_test = pd.read_csv(\"data/y_test.csv\").values.ravel()"
   ]
  },
  {
   "cell_type": "markdown",
   "metadata": {},
   "source": [
    "## SMOTE"
   ]
  },
  {
   "cell_type": "code",
   "execution_count": 9,
   "metadata": {},
   "outputs": [
    {
     "name": "stdout",
     "output_type": "stream",
     "text": [
      "(236866, 52) (236866,)\n"
     ]
    }
   ],
   "source": [
    "# implement SMOTE to oversample the minority class\n",
    "from imblearn.over_sampling import SMOTE\n",
    "os = SMOTE(random_state=0)\n",
    "os_X, os_y = os.fit_resample(X_train, y_train)\n",
    "print(os_X.shape, os_y.shape)"
   ]
  },
  {
   "cell_type": "code",
   "execution_count": 10,
   "metadata": {},
   "outputs": [],
   "source": [
    "from sklearn.metrics import confusion_matrix, accuracy_score, precision_score, recall_score, f1_score\n",
    "from sklearn.model_selection import cross_validate\n",
    "\n",
    "# Custom function to print the metrics of the model\n",
    "def display_metrics(y_test, y_pred):\n",
    "    print(confusion_matrix(y_test, y_pred))\n",
    "    print(f'Accuracy Score: {accuracy_score(y_test, y_pred)}')\n",
    "    print(f'Precision: {precision_score(y_test, y_pred)}')\n",
    "    print(f'Recall: {recall_score(y_test, y_pred)}')\n",
    "    print(f'F1 Score: {f1_score(y_test, y_pred)}')\n",
    "\n",
    "def display_crossval_scores(model, X_train, y_train):\n",
    "    scoring = ['accuracy', 'precision', 'recall', 'f1_micro']\n",
    "\n",
    "    results = cross_validate(model, X_train, y_train, scoring=scoring, cv=5)\n",
    "    print(f\"Average Accuracy Score: {np.mean(results['test_accuracy'])}\")\n",
    "    print(f\"Average Precision Score: {np.mean(results['test_precision'])}\")\n",
    "    print(f\"Average Recall Score: {np.mean(results['test_recall'])}\")\n",
    "    print(f\"Average F1 Score: {np.mean(results['test_f1_micro'])}\")"
   ]
  },
  {
   "cell_type": "markdown",
   "metadata": {},
   "source": [
    "## KNN"
   ]
  },
  {
   "cell_type": "code",
   "execution_count": 11,
   "metadata": {},
   "outputs": [
    {
     "name": "stdout",
     "output_type": "stream",
     "text": [
      "[[50107   588]\n",
      " [ 3617  2425]]\n",
      "Accuracy Score: 0.9258861060683504\n",
      "Precision: 0.8048456687686691\n",
      "Recall: 0.40135716650115855\n",
      "F1 Score: 0.5356156819436775\n",
      "Average Accuracy Score: 0.9257776507012745\n",
      "Average Precision Score: 0.7927085663411186\n",
      "Average Recall Score: 0.40055919629017483\n",
      "Average F1 Score: 0.9257776507012745\n"
     ]
    }
   ],
   "source": [
    "from sklearn.neighbors import KNeighborsClassifier\n",
    "knn = KNeighborsClassifier()\n",
    "knn.fit(X_train, y_train)\n",
    "y_pred = knn.predict(X_test)\n",
    "display_metrics(y_test, y_pred)\n",
    "display_crossval_scores(knn, X_train, y_train)"
   ]
  },
  {
   "cell_type": "markdown",
   "metadata": {},
   "source": [
    "#### KNN Using SMOTE"
   ]
  },
  {
   "cell_type": "code",
   "execution_count": 12,
   "metadata": {},
   "outputs": [
    {
     "name": "stdout",
     "output_type": "stream",
     "text": [
      "[[42935  7760]\n",
      " [ 1912  4130]]\n",
      "Accuracy Score: 0.8295292313657754\n",
      "Precision: 0.3473507148864592\n",
      "Recall: 0.6835484938762\n",
      "F1 Score: 0.46062904305152796\n",
      "Average Accuracy Score: 0.9118657848167295\n",
      "Average Precision Score: 0.8577066805055\n",
      "Average Recall Score: 0.9875794989797366\n",
      "Average F1 Score: 0.9118657848167295\n"
     ]
    }
   ],
   "source": [
    "knn_os = KNeighborsClassifier()\n",
    "knn_os.fit(os_X, os_y)\n",
    "y_pred = knn_os.predict(X_test)\n",
    "display_metrics(y_test, y_pred)\n",
    "display_crossval_scores(knn_os, os_X, os_y)"
   ]
  }
 ],
 "metadata": {
  "interpreter": {
   "hash": "ae5651488652e961febbac79b6ac121d2261f82ccebdbef63236855c9fe5b051"
  },
  "kernelspec": {
   "display_name": "Python 3.9.7 ('base')",
   "language": "python",
   "name": "python3"
  },
  "language_info": {
   "codemirror_mode": {
    "name": "ipython",
    "version": 3
   },
   "file_extension": ".py",
   "mimetype": "text/x-python",
   "name": "python",
   "nbconvert_exporter": "python",
   "pygments_lexer": "ipython3",
   "version": "3.9.7"
  },
  "orig_nbformat": 4
 },
 "nbformat": 4,
 "nbformat_minor": 2
}
