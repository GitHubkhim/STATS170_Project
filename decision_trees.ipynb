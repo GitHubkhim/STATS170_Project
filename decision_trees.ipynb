{
 "cells": [
  {
   "cell_type": "code",
   "execution_count": 1,
   "metadata": {},
   "outputs": [],
   "source": [
    "import pandas as pd\n",
    "import numpy as np\n",
    "import matplotlib.pyplot as plt\n",
    "import seaborn as sns\n",
    "\n",
    "import metrics_summary as ms"
   ]
  },
  {
   "cell_type": "code",
   "execution_count": 2,
   "metadata": {},
   "outputs": [],
   "source": [
    "np.random.seed(170)"
   ]
  },
  {
   "cell_type": "code",
   "execution_count": 3,
   "metadata": {},
   "outputs": [],
   "source": [
    "X_train = pd.read_csv(\"data/X_train.csv\")\n",
    "X_test = pd.read_csv(\"data/X_test.csv\")\n",
    "y_train = pd.read_csv(\"data/y_train.csv\").values.ravel()\n",
    "y_test = pd.read_csv(\"data/y_test.csv\").values.ravel()"
   ]
  },
  {
   "cell_type": "markdown",
   "metadata": {},
   "source": [
    "## SMOTE"
   ]
  },
  {
   "cell_type": "code",
   "execution_count": 4,
   "metadata": {},
   "outputs": [
    {
     "name": "stdout",
     "output_type": "stream",
     "text": [
      "(236866, 251) (236866,)\n"
     ]
    }
   ],
   "source": [
    "# implement SMOTE to oversample the minority class\n",
    "from imblearn.over_sampling import SMOTE\n",
    "os = SMOTE(random_state=0)\n",
    "os_X, os_y = os.fit_resample(X_train, y_train)\n",
    "print(os_X.shape, os_y.shape)"
   ]
  },
  {
   "cell_type": "markdown",
   "metadata": {},
   "source": [
    "## Decision Trees"
   ]
  },
  {
   "cell_type": "code",
   "execution_count": 5,
   "metadata": {},
   "outputs": [
    {
     "name": "stdout",
     "output_type": "stream",
     "text": [
      "[[46026  4669]\n",
      " [ 4130  1912]]\n",
      "=================================================\n",
      "Kappa Score: 0.21587050210461334\n",
      "Accuracy Score: 0.8449160160036661\n",
      "Precision: 0.29053335359367877\n",
      "Recall: 0.3164515061238001\n",
      "F1 Score: 0.302939079458132\n",
      "AUC Score: 0.6121758467595033\n",
      "=================================================\n",
      "=================================================\n",
      "Average Accuracy Score: 0.8483298798530517\n",
      "Average Precision Score: 0.29821508906636246\n",
      "Average Recall Score: 0.32423157383756546\n",
      "Average F1 Score: 0.8483298798530517\n",
      "[0.84885565 0.85100276 0.84412887 0.84888771 0.84877441]\n",
      "Average AUC Score: 0.6171536621158582\n",
      "[0.61683026 0.62249708 0.6123312  0.62001025 0.61409952]\n",
      "=================================================\n"
     ]
    }
   ],
   "source": [
    "from sklearn.tree import DecisionTreeClassifier\n",
    "dt = DecisionTreeClassifier()\n",
    "dt.fit(X_train, y_train)\n",
    "y_pred = dt.predict(X_test)\n",
    "ms.metrics_summary(y_test, y_pred)\n",
    "ms.crossval_summary(dt, X_train, y_train)"
   ]
  },
  {
   "cell_type": "markdown",
   "metadata": {},
   "source": [
    "#### Decision Trees Using Cost-Sensitive Learning"
   ]
  },
  {
   "cell_type": "code",
   "execution_count": 6,
   "metadata": {},
   "outputs": [
    {
     "name": "stdout",
     "output_type": "stream",
     "text": [
      "[[46478  4217]\n",
      " [ 4128  1914]]\n",
      "=================================================\n",
      "Kappa Score: 0.23209311588869008\n",
      "Accuracy Score: 0.8529178490226836\n",
      "Precision: 0.31218398303702494\n",
      "Recall: 0.31678252234359483\n",
      "F1 Score: 0.31446644212601665\n",
      "AUC Score: 0.6167993882060218\n",
      "=================================================\n",
      "=================================================\n",
      "Average Accuracy Score: 0.8526354910495095\n",
      "Average Precision Score: 0.2997101585748312\n",
      "Average Recall Score: 0.29778489229974997\n",
      "Average F1 Score: 0.8526354910495095\n",
      "[0.85051741 0.85217358 0.8498697  0.85610152 0.85451524]\n",
      "Average AUC Score: 0.6078945979391864\n",
      "[0.60132303 0.60655065 0.6041563  0.6145599  0.61288311]\n",
      "=================================================\n"
     ]
    }
   ],
   "source": [
    "dt_cs = DecisionTreeClassifier(class_weight=\"balanced\")\n",
    "dt_cs.fit(X_train, y_train)\n",
    "y_pred = dt_cs.predict(X_test)\n",
    "ms.metrics_summary(y_test, y_pred)\n",
    "ms.crossval_summary(dt_cs, X_train, y_train)"
   ]
  },
  {
   "cell_type": "markdown",
   "metadata": {},
   "source": [
    "#### Decision Trees Using SMOTE"
   ]
  },
  {
   "cell_type": "code",
   "execution_count": 7,
   "metadata": {},
   "outputs": [
    {
     "name": "stdout",
     "output_type": "stream",
     "text": [
      "[[45959  4736]\n",
      " [ 4073  1969]]\n",
      "=================================================\n",
      "Kappa Score: 0.2217476643094085\n",
      "Accuracy Score: 0.8447397641750534\n",
      "Precision: 0.2936614466815809\n",
      "Recall: 0.325885468387951\n",
      "F1 Score: 0.30893543578881305\n",
      "AUC Score: 0.6162320132155753\n",
      "=================================================\n",
      "=================================================\n",
      "Average Accuracy Score: 0.899226483520674\n",
      "Average Precision Score: 0.9185622459768936\n",
      "Average Recall Score: 0.8856249436837462\n",
      "Average F1 Score: 0.899226483520674\n",
      "[0.71898088 0.94389209 0.94378655 0.94450425 0.94496865]\n",
      "Average AUC Score: 0.8992264882240983\n",
      "[0.71898088 0.94389319 0.94378761 0.94450318 0.94496759]\n",
      "=================================================\n"
     ]
    }
   ],
   "source": [
    "dt_os = DecisionTreeClassifier()\n",
    "dt_os.fit(os_X, os_y)\n",
    "y_pred = dt_os.predict(X_test)\n",
    "ms.metrics_summary(y_test, y_pred)\n",
    "ms.crossval_summary(dt_os, os_X, os_y)"
   ]
  }
 ],
 "metadata": {
  "interpreter": {
   "hash": "ae5651488652e961febbac79b6ac121d2261f82ccebdbef63236855c9fe5b051"
  },
  "kernelspec": {
   "display_name": "Python 3.9.7 ('base')",
   "language": "python",
   "name": "python3"
  },
  "language_info": {
   "codemirror_mode": {
    "name": "ipython",
    "version": 3
   },
   "file_extension": ".py",
   "mimetype": "text/x-python",
   "name": "python",
   "nbconvert_exporter": "python",
   "pygments_lexer": "ipython3",
   "version": "3.9.7"
  },
  "orig_nbformat": 4
 },
 "nbformat": 4,
 "nbformat_minor": 2
}
