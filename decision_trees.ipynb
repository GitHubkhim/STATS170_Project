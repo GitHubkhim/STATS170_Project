{
 "cells": [
  {
   "cell_type": "code",
   "execution_count": 22,
   "metadata": {},
   "outputs": [],
   "source": [
    "import pandas as pd\n",
    "import numpy as np\n",
    "import matplotlib.pyplot as plt\n",
    "import seaborn as sns"
   ]
  },
  {
   "cell_type": "code",
   "execution_count": 23,
   "metadata": {},
   "outputs": [],
   "source": [
    "X_train = pd.read_csv(\"data/X_train.csv\")\n",
    "X_test = pd.read_csv(\"data/X_test.csv\")\n",
    "y_train = pd.read_csv(\"data/y_train.csv\").values.ravel()\n",
    "y_test = pd.read_csv(\"data/y_test.csv\").values.ravel()"
   ]
  },
  {
   "cell_type": "markdown",
   "metadata": {},
   "source": [
    "## SMOTE"
   ]
  },
  {
   "cell_type": "code",
   "execution_count": 24,
   "metadata": {},
   "outputs": [
    {
     "name": "stdout",
     "output_type": "stream",
     "text": [
      "(236866, 52) (236866,)\n"
     ]
    }
   ],
   "source": [
    "# implement SMOTE to oversample the minority class\n",
    "from imblearn.over_sampling import SMOTE\n",
    "os = SMOTE(random_state=0)\n",
    "os_X, os_y = os.fit_resample(X_train, y_train)\n",
    "print(os_X.shape, os_y.shape)"
   ]
  },
  {
   "cell_type": "code",
   "execution_count": 25,
   "metadata": {},
   "outputs": [],
   "source": [
    "from sklearn.metrics import confusion_matrix, accuracy_score, precision_score, recall_score, f1_score\n",
    "from sklearn.model_selection import cross_validate\n",
    "\n",
    "# Custom function to print the metrics of the model\n",
    "def display_metrics(y_test, y_pred):\n",
    "    print(confusion_matrix(y_test, y_pred))\n",
    "    print(f'Accuracy Score: {accuracy_score(y_test, y_pred)}')\n",
    "    print(f'Precision: {precision_score(y_test, y_pred)}')\n",
    "    print(f'Recall: {recall_score(y_test, y_pred)}')\n",
    "    print(f'F1 Score: {f1_score(y_test, y_pred)}')\n",
    "\n",
    "def display_crossval_scores(model, X_train, y_train):\n",
    "    scoring = ['accuracy', 'precision', 'recall', 'f1_micro']\n",
    "\n",
    "    results = cross_validate(model, X_train, y_train, scoring=scoring, cv=5)\n",
    "    print(f\"Average Accuracy Score: {np.mean(results['test_accuracy'])}\")\n",
    "    print(f\"Average Precision Score: {np.mean(results['test_precision'])}\")\n",
    "    print(f\"Average Recall Score: {np.mean(results['test_recall'])}\")\n",
    "    print(f\"Average F1 Score: {np.mean(results['test_f1_micro'])}\")"
   ]
  },
  {
   "cell_type": "markdown",
   "metadata": {},
   "source": [
    "## Decision Trees"
   ]
  },
  {
   "cell_type": "code",
   "execution_count": 26,
   "metadata": {},
   "outputs": [
    {
     "name": "stdout",
     "output_type": "stream",
     "text": [
      "[[50073   622]\n",
      " [  811  5231]]\n",
      "Accuracy Score: 0.974743112959797\n",
      "Precision: 0.8937297112591833\n",
      "Recall: 0.8657729228732208\n",
      "F1 Score: 0.8795292139554435\n",
      "Average Accuracy Score: 0.9754430303160964\n",
      "Average Precision Score: 0.8902157048610781\n",
      "Average Recall Score: 0.8749377222485485\n",
      "Average F1 Score: 0.9754430303160964\n"
     ]
    }
   ],
   "source": [
    "from sklearn.tree import DecisionTreeClassifier\n",
    "dt = DecisionTreeClassifier()\n",
    "dt.fit(X_train, y_train)\n",
    "y_pred = dt.predict(X_test)\n",
    "display_metrics(y_test, y_pred)\n",
    "display_crossval_scores(dt, X_train, y_train)"
   ]
  },
  {
   "cell_type": "markdown",
   "metadata": {},
   "source": [
    "#### Decision Trees Using Cost-Sensitive Learning"
   ]
  },
  {
   "cell_type": "code",
   "execution_count": 27,
   "metadata": {},
   "outputs": [
    {
     "name": "stdout",
     "output_type": "stream",
     "text": [
      "[[50092   603]\n",
      " [  837  5205]]\n",
      "Accuracy Score: 0.9746197366797681\n",
      "Precision: 0.8961776859504132\n",
      "Recall: 0.8614697120158887\n",
      "F1 Score: 0.8784810126582278\n",
      "Average Accuracy Score: 0.9746952051782147\n",
      "Average Precision Score: 0.8916217233627481\n",
      "Average Recall Score: 0.8651179354016815\n",
      "Average F1 Score: 0.9746952051782147\n"
     ]
    }
   ],
   "source": [
    "dt_cs = DecisionTreeClassifier(class_weight=\"balanced\")\n",
    "dt_cs.fit(X_train, y_train)\n",
    "y_pred = dt_cs.predict(X_test)\n",
    "display_metrics(y_test, y_pred)\n",
    "display_crossval_scores(dt_cs, X_train, y_train)"
   ]
  },
  {
   "cell_type": "markdown",
   "metadata": {},
   "source": [
    "#### Decision Trees Using SMOTE"
   ]
  },
  {
   "cell_type": "code",
   "execution_count": 28,
   "metadata": {},
   "outputs": [
    {
     "name": "stdout",
     "output_type": "stream",
     "text": [
      "[[50074   621]\n",
      " [  732  5310]]\n",
      "Accuracy Score: 0.9761531275886988\n",
      "Precision: 0.8952959028831563\n",
      "Recall: 0.8788480635551142\n",
      "F1 Score: 0.8869957404159359\n",
      "Average Accuracy Score: 0.9732087910289714\n",
      "Average Precision Score: 0.9872020996209937\n",
      "Average Recall Score: 0.9589816689549405\n",
      "Average F1 Score: 0.9732087910289714\n"
     ]
    }
   ],
   "source": [
    "dt_os = DecisionTreeClassifier()\n",
    "dt_os.fit(os_X, os_y)\n",
    "y_pred = dt_os.predict(X_test)\n",
    "display_metrics(y_test, y_pred)\n",
    "display_crossval_scores(dt_os, os_X, os_y)"
   ]
  }
 ],
 "metadata": {
  "interpreter": {
   "hash": "ae5651488652e961febbac79b6ac121d2261f82ccebdbef63236855c9fe5b051"
  },
  "kernelspec": {
   "display_name": "Python 3.9.7 ('base')",
   "language": "python",
   "name": "python3"
  },
  "language_info": {
   "codemirror_mode": {
    "name": "ipython",
    "version": 3
   },
   "file_extension": ".py",
   "mimetype": "text/x-python",
   "name": "python",
   "nbconvert_exporter": "python",
   "pygments_lexer": "ipython3",
   "version": "3.9.7"
  },
  "orig_nbformat": 4
 },
 "nbformat": 4,
 "nbformat_minor": 2
}
