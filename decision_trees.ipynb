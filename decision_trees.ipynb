{
 "cells": [
  {
   "cell_type": "code",
   "execution_count": 1,
   "metadata": {},
   "outputs": [],
   "source": [
    "import pandas as pd\n",
    "import numpy as np\n",
    "\n",
    "import metrics_summary as ms"
   ]
  },
  {
   "cell_type": "code",
   "execution_count": 2,
   "metadata": {},
   "outputs": [],
   "source": [
    "np.random.seed(170)"
   ]
  },
  {
   "cell_type": "code",
   "execution_count": 3,
   "metadata": {},
   "outputs": [],
   "source": [
    "X_train = pd.read_csv(\"data/X_train.csv\")\n",
    "X_test = pd.read_csv(\"data/X_test.csv\")\n",
    "y_train = pd.read_csv(\"data/y_train.csv\").values.ravel()\n",
    "y_test = pd.read_csv(\"data/y_test.csv\").values.ravel()"
   ]
  },
  {
   "cell_type": "markdown",
   "metadata": {},
   "source": [
    "## Decision Trees"
   ]
  },
  {
   "cell_type": "code",
   "execution_count": 4,
   "metadata": {},
   "outputs": [
    {
     "name": "stdout",
     "output_type": "stream",
     "text": [
      "[[46151  4587]\n",
      " [ 4071  1928]]\n",
      "=================================================\n",
      "Kappa Score: 0.22254199769939165\n",
      "Accuracy Score: 0.8474011667871054\n",
      "Precision: 0.2959324635456638\n",
      "Recall: 0.3213868978163027\n",
      "F1 Score: 0.30813488892440466\n",
      "AUC Score: 0.6154906423331976\n",
      "=================================================\n",
      "=================================================\n",
      "Average Accuracy Score: 0.846773844577717\n",
      "Average Precision Score: 0.29587501987953524\n",
      "Average Recall Score: 0.32552183614655106\n",
      "Average F1 Score: 0.846773844577717\n",
      "[0.84450135 0.84685808 0.84896211]\n",
      "Average AUC Score: 0.6169589062635611\n",
      "[0.61409755 0.61600529 0.62077388]\n",
      "=================================================\n"
     ]
    }
   ],
   "source": [
    "from sklearn.tree import DecisionTreeClassifier\n",
    "dt = DecisionTreeClassifier()\n",
    "dt.fit(X_train, y_train)\n",
    "y_pred = dt.predict(X_test)\n",
    "ms.metrics_summary(y_test, y_pred)\n",
    "ms.crossval_summary(dt, X_train, y_train)"
   ]
  },
  {
   "cell_type": "markdown",
   "metadata": {},
   "source": [
    "#### Decision Trees Using Cost-Sensitive Learning"
   ]
  },
  {
   "cell_type": "code",
   "execution_count": 5,
   "metadata": {},
   "outputs": [
    {
     "name": "stdout",
     "output_type": "stream",
     "text": [
      "[[46598  4140]\n",
      " [ 4153  1846]]\n",
      "=================================================\n",
      "Kappa Score: 0.226338549699016\n",
      "Accuracy Score: 0.8538343585314697\n",
      "Precision: 0.308386234547277\n",
      "Recall: 0.30771795299216537\n",
      "F1 Score: 0.3080517313308302\n",
      "AUC Score: 0.6130611523800356\n",
      "=================================================\n",
      "=================================================\n",
      "Average Accuracy Score: 0.8518574432652137\n",
      "Average Precision Score: 0.29981135171558004\n",
      "Average Recall Score: 0.3004431807514379\n",
      "Average F1 Score: 0.8518574432652137\n",
      "[0.85127694 0.85295384 0.85134155]\n",
      "Average AUC Score: 0.6087442640138545\n",
      "[0.60720876 0.6089227  0.61010133]\n",
      "=================================================\n"
     ]
    }
   ],
   "source": [
    "dt_cs = DecisionTreeClassifier(class_weight=\"balanced\")\n",
    "dt_cs.fit(X_train, y_train)\n",
    "y_pred = dt_cs.predict(X_test)\n",
    "ms.metrics_summary(y_test, y_pred)\n",
    "ms.crossval_summary(dt_cs, X_train, y_train)"
   ]
  },
  {
   "cell_type": "markdown",
   "metadata": {},
   "source": [
    "#### Decision Trees Using SMOTE"
   ]
  },
  {
   "cell_type": "code",
   "execution_count": 6,
   "metadata": {},
   "outputs": [
    {
     "name": "stdout",
     "output_type": "stream",
     "text": [
      "[[45970  4768]\n",
      " [ 4061  1938]]\n",
      "=================================================\n",
      "Kappa Score: 0.21776591371330956\n",
      "Accuracy Score: 0.8443872605178279\n",
      "Precision: 0.2889949299135103\n",
      "Recall: 0.3230538423070512\n",
      "F1 Score: 0.30507674144037783\n",
      "AUC Score: 0.6145404415918558\n",
      "=================================================\n",
      "=================================================\n",
      "Average Accuracy Score: 0.8436390501649819\n",
      "Average Precision Score: 0.2866579825470721\n",
      "Average Recall Score: 0.32180659095840825\n",
      "Average F1 Score: 0.8436390501649819\n",
      "[0.84357225 0.8444107  0.84293419]\n",
      "Average AUC Score: 0.6135682131786215\n",
      "[0.61131036 0.61425891 0.61513537]\n",
      "=================================================\n"
     ]
    }
   ],
   "source": [
    "# implement SMOTE to oversample the minority class\n",
    "from imblearn.over_sampling import SMOTE\n",
    "from imblearn.pipeline import Pipeline\n",
    "pipeline = Pipeline(steps=[('over', SMOTE()), ('model', DecisionTreeClassifier())])\n",
    "pipeline.fit(X_train, y_train)\n",
    "y_pred = pipeline.predict(X_test)\n",
    "ms.metrics_summary(y_test, y_pred)\n",
    "ms.crossval_summary(pipeline, X_train, y_train)"
   ]
  }
 ],
 "metadata": {
  "interpreter": {
   "hash": "40d3a090f54c6569ab1632332b64b2c03c39dcf918b08424e98f38b5ae0af88f"
  },
  "kernelspec": {
   "display_name": "Python 3.8.5",
   "language": "python",
   "name": "python3"
  },
  "language_info": {
   "codemirror_mode": {
    "name": "ipython",
    "version": 3
   },
   "file_extension": ".py",
   "mimetype": "text/x-python",
   "name": "python",
   "nbconvert_exporter": "python",
   "pygments_lexer": "ipython3",
   "version": "3.8.5"
  },
  "orig_nbformat": 4
 },
 "nbformat": 4,
 "nbformat_minor": 2
}
