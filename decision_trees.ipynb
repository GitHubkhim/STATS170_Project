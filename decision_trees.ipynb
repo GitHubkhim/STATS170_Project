{
 "cells": [
  {
   "cell_type": "code",
   "execution_count": 9,
   "metadata": {},
   "outputs": [],
   "source": [
    "import pandas as pd\n",
    "import numpy as np\n",
    "import matplotlib.pyplot as plt\n",
    "import seaborn as sns\n",
    "\n",
    "import metrics_summary as ms"
   ]
  },
  {
   "cell_type": "code",
   "execution_count": 10,
   "metadata": {},
   "outputs": [],
   "source": [
    "np.random.seed(170)"
   ]
  },
  {
   "cell_type": "code",
   "execution_count": 11,
   "metadata": {},
   "outputs": [],
   "source": [
    "X_train = pd.read_csv(\"data/X_train.csv\")\n",
    "X_test = pd.read_csv(\"data/X_test.csv\")\n",
    "y_train = pd.read_csv(\"data/y_train.csv\").values.ravel()\n",
    "y_test = pd.read_csv(\"data/y_test.csv\").values.ravel()"
   ]
  },
  {
   "cell_type": "markdown",
   "metadata": {},
   "source": [
    "## SMOTE"
   ]
  },
  {
   "cell_type": "code",
   "execution_count": 12,
   "metadata": {},
   "outputs": [
    {
     "name": "stdout",
     "output_type": "stream",
     "text": [
      "(236866, 53) (236866,)\n"
     ]
    }
   ],
   "source": [
    "# implement SMOTE to oversample the minority class\n",
    "from imblearn.over_sampling import SMOTE\n",
    "os = SMOTE(random_state=0)\n",
    "os_X, os_y = os.fit_resample(X_train, y_train)\n",
    "print(os_X.shape, os_y.shape)"
   ]
  },
  {
   "cell_type": "markdown",
   "metadata": {},
   "source": [
    "## Decision Trees"
   ]
  },
  {
   "cell_type": "code",
   "execution_count": 13,
   "metadata": {},
   "outputs": [
    {
     "name": "stdout",
     "output_type": "stream",
     "text": [
      "[[50095   600]\n",
      " [  814  5228]]\n",
      "=================================================\n",
      "Kappa Score: 0.866964435108484\n",
      "Accuracy Score: 0.9750779914341612\n",
      "Precision: 0.8970487302676733\n",
      "Recall: 0.8652763985435287\n",
      "F1 Score: 0.8808761583824769\n",
      "AUC Score: 0.9267204559045683\n",
      "=================================================\n",
      "=================================================\n",
      "Average Accuracy Score: 0.9749973604894542\n",
      "Average Precision Score: 0.8901947017035505\n",
      "Average Recall Score: 0.8701349832860101\n",
      "Average F1 Score: 0.9749973604894542\n",
      "Average AUC Score: 0.928743237447193\n",
      "=================================================\n"
     ]
    },
    {
     "data": {
      "text/plain": [
       "0.928743237447193"
      ]
     },
     "execution_count": 13,
     "metadata": {},
     "output_type": "execute_result"
    }
   ],
   "source": [
    "from sklearn.tree import DecisionTreeClassifier\n",
    "dt = DecisionTreeClassifier()\n",
    "dt.fit(X_train, y_train)\n",
    "y_pred = dt.predict(X_test)\n",
    "ms.metrics_summary(y_test, y_pred)\n",
    "ms.crossval_summary(dt, X_train, y_train)"
   ]
  },
  {
   "cell_type": "markdown",
   "metadata": {},
   "source": [
    "#### Decision Trees Using Cost-Sensitive Learning"
   ]
  },
  {
   "cell_type": "code",
   "execution_count": 14,
   "metadata": {},
   "outputs": [
    {
     "name": "stdout",
     "output_type": "stream",
     "text": [
      "[[50106   589]\n",
      " [  829  5213]]\n",
      "=================================================\n",
      "Kappa Score: 0.8663307567803279\n",
      "Accuracy Score: 0.9750074907027161\n",
      "Precision: 0.8984832816270252\n",
      "Recall: 0.8627937768950679\n",
      "F1 Score: 0.8802769334684227\n",
      "AUC Score: 0.9255876370420698\n",
      "=================================================\n",
      "=================================================\n",
      "Average Accuracy Score: 0.9743024185647771\n",
      "Average Precision Score: 0.8909239485682144\n",
      "Average Recall Score: 0.8617498128264302\n",
      "Average F1 Score: 0.9743024185647771\n",
      "Average AUC Score: 0.9246561935599523\n",
      "=================================================\n"
     ]
    },
    {
     "data": {
      "text/plain": [
       "0.9246561935599523"
      ]
     },
     "execution_count": 14,
     "metadata": {},
     "output_type": "execute_result"
    }
   ],
   "source": [
    "dt_cs = DecisionTreeClassifier(class_weight=\"balanced\")\n",
    "dt_cs.fit(X_train, y_train)\n",
    "y_pred = dt_cs.predict(X_test)\n",
    "ms.metrics_summary(y_test, y_pred)\n",
    "ms.crossval_summary(dt_cs, X_train, y_train)"
   ]
  },
  {
   "cell_type": "markdown",
   "metadata": {},
   "source": [
    "#### Decision Trees Using SMOTE"
   ]
  },
  {
   "cell_type": "code",
   "execution_count": 15,
   "metadata": {},
   "outputs": [
    {
     "name": "stdout",
     "output_type": "stream",
     "text": [
      "[[50058   637]\n",
      " [  738  5304]]\n",
      "=================================================\n",
      "Kappa Score: 0.8717071867575602\n",
      "Accuracy Score: 0.9757653735657508\n",
      "Precision: 0.8927789934354485\n",
      "Recall: 0.8778550148957299\n",
      "F1 Score: 0.8852541099891513\n",
      "AUC Score: 0.9326448365730252\n",
      "=================================================\n",
      "=================================================\n",
      "Average Accuracy Score: 0.9701438248303218\n",
      "Average Precision Score: 0.987182346727387\n",
      "Average Recall Score: 0.9528010671243188\n",
      "Average F1 Score: 0.9701438248303218\n",
      "Average AUC Score: 0.9701438159155937\n",
      "=================================================\n"
     ]
    },
    {
     "data": {
      "text/plain": [
       "0.9701438159155937"
      ]
     },
     "execution_count": 15,
     "metadata": {},
     "output_type": "execute_result"
    }
   ],
   "source": [
    "dt_os = DecisionTreeClassifier()\n",
    "dt_os.fit(os_X, os_y)\n",
    "y_pred = dt_os.predict(X_test)\n",
    "ms.metrics_summary(y_test, y_pred)\n",
    "ms.crossval_summary(dt_os, os_X, os_y)"
   ]
  }
 ],
 "metadata": {
  "interpreter": {
   "hash": "ae5651488652e961febbac79b6ac121d2261f82ccebdbef63236855c9fe5b051"
  },
  "kernelspec": {
   "display_name": "Python 3.9.7 ('base')",
   "language": "python",
   "name": "python3"
  },
  "language_info": {
   "codemirror_mode": {
    "name": "ipython",
    "version": 3
   },
   "file_extension": ".py",
   "mimetype": "text/x-python",
   "name": "python",
   "nbconvert_exporter": "python",
   "pygments_lexer": "ipython3",
   "version": "3.9.7"
  },
  "orig_nbformat": 4
 },
 "nbformat": 4,
 "nbformat_minor": 2
}
