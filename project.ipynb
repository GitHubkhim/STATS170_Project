{
 "cells": [
  {
   "cell_type": "code",
   "execution_count": 156,
   "metadata": {},
   "outputs": [],
   "source": [
    "import pandas as pd\n",
    "import numpy as np\n",
    "import matplotlib.pyplot as plt"
   ]
  },
  {
   "cell_type": "code",
   "execution_count": 157,
   "metadata": {},
   "outputs": [],
   "source": [
    "np.random.seed(170)"
   ]
  },
  {
   "cell_type": "code",
   "execution_count": 158,
   "metadata": {},
   "outputs": [],
   "source": [
    "sample_data = pd.read_csv(\"sample_data.csv\")"
   ]
  },
  {
   "cell_type": "code",
   "execution_count": 159,
   "metadata": {},
   "outputs": [],
   "source": [
    "X = sample_data.iloc[:,:-1]\n",
    "y = sample_data.iloc[:, -1]"
   ]
  },
  {
   "cell_type": "code",
   "execution_count": 160,
   "metadata": {},
   "outputs": [],
   "source": [
    "from sklearn.model_selection import train_test_split\n",
    "X_train, X_test, y_train, y_test = train_test_split(X, y, test_size=0.30, shuffle=True, stratify=y)"
   ]
  },
  {
   "cell_type": "markdown",
   "metadata": {},
   "source": [
    "# Data Preprocessing"
   ]
  },
  {
   "cell_type": "code",
   "execution_count": 161,
   "metadata": {},
   "outputs": [],
   "source": [
    "# remove id feature and features that already imply diabetes\n",
    "diabetes_features = [\n",
    "    \"PUF1Y_ID\", \"AB111\", \"AB23_P1\", \"AB114_P1\", \"AJ82\", \"AB22V2\", \"DIABETES\", \"AB81\", \"AB113\", \n",
    "    \"AB112\", \"AB51_P1\", \"AB110_P\", \"AB109\", \"AB24\", \"DIAMED\", \"AB25\", \"AB63\", \"AB27_P1\", \"AB28_P1\",\n",
    "    \"AB26_P1\", \"DIABCK_P1\", \"AB27_P\", \"AJ80\", 'AH102_P', 'AH102_P1'\n",
    "]\n",
    "similar_features = [\"WEIGHK_P\", \"WGHTK_P\", \"HEIGHM_P\", \"HGHTM_P\", \"WHOBMI\"]\n",
    "remove_features = diabetes_features + similar_features\n",
    "X_train = X_train.drop(remove_features, axis=1)\n",
    "X_test = X_test.drop(remove_features, axis=1)"
   ]
  },
  {
   "cell_type": "code",
   "execution_count": 162,
   "metadata": {},
   "outputs": [],
   "source": [
    "numerical_features = list(set([\n",
    "    \"HHSIZE_P1\", \"AC46\", \"AE2\", \"AE_FRUIT\", \"AE7\", \"AE_VEGI\", \"HGHTI_P\", \"HGHTM_P\", \"HEIGHM_P\", \"WEIGHK_P\", \"WGHTK_P\", \"WGHTP_P\", \"BMI_P\", \"DISTRESS\", \"DSTRS_P1\", \"DSTRSYR\", \"LONELINESS\", \"AH44B\", \"FAMSIZE2_P1\", \"INS12M\", \"AH128\", \"AH129\", \"AH132\", \"AH133\", \"TCURPLAN\", \"AH136\", \"AH5\", \"AJ93\", \"AK10_P\", \"AK10A_P\", \"POVGWD_P1\", \"POVLL2_P1V2\",\n",
    "    \"HHSIZE_P1\", \"AC46\", \"AE2\", \"AE_FRUIT\", \"AE_VEGI\", \"HGHTI_P\", \"HGHTM_P\", \"HEIGHM_P\", \"WEIGHK_P\", \"WGHTK_P\", \"WGHTP_P\", \"BMI_P\", \"DISTRESS\", \"DSTRS_P1\", \"DSTRSYR\", \"LONELINESS\", \"AH44B\", \"FAMSIZE2_P1\", \"INS12M\", \"AH128\", \"AH129\", \"AH132\", \"AH133\", \"TCURPLAN\", \"AH136\", \"AH5\", \"AJ93\", \"AK10_P\", \"AK10A_P\", \"POVGWD_P1\", \"POVLL2_P1V2\",\n",
    "    \"HHSIZE_P1\", \"AC100\", \"AC46\", \"AC47\", \"AE2\", \"AE_FRUIT\", \"AE3\", \"AE_FRIES\", \"AE5\", \"AE7\", \"AE_VEGI\", \"HGHTI_P\", \"HGHTM_P\", \"HEIGHM_P\", \"WEIGHK_P\", \"WGHTK_P\", \"WGHTP_P\", \"BMI_P\", \"DISTRESS\", \"DSTRS_P1\", \"DSTRSYR\", \"FAMSIZE2_P1\", \"INS12M\", \"AH128\", \"AH129\", \"AH132\", \"AH133\", \"TCURPLAN\", \"AH136\", \"AH5\", \"AK10_P\", \"AK10A_P\", \"POVGWD_P1\", \"POVLL2_P1V2\", \"AC146\", \"AC147\", \"AC148\",\n",
    "    \"HHSIZE_P1\", \"AD38W\", \"AD39W\", \"AD41W\", \"AD42W\", \"AC100\", \"AC11\", \"AE_SODA\", \"AC46\", \"AC47\", \"AE2\", \"AE_FRUIT\", \"AE3\", \"AE_FRIES\", \"AE5\", \"AE7\", \"AE_VEGI\", \"HGHTI_P\", \"HGHTM_P\", \"HEIGHM_P\", \"WEIGHK_P\", \"WGHTK_P\", \"WGHTP_P\", \"BMI_P\", \"DISTRESS\", \"DSTRS_P1\", \"DSTRSYR\", \"FAMSIZE2_P1\", \"INS12M\", \"AH128\", \"AH132\", \"AH133\", \"TCURPLAN\", \"AH136\", \"AH5\", \"AK10_P\", \"AK10A_P\", \"POVGWD_P1\", \"POVLL2_P1V2\",\n",
    "    \"HHSIZE_P1\", \"DIABCK_P1\", \"AB26_P1\", \"AD38W\", \"AD39W\", \"AD41W\", \"AD42W\", \"AC11\", \"AE_SODA\", \"AC31\", \"AC31_P1\", \"AC111\", \"HGHTI_P\", \"HGHTM_P\", \"HEIGHM_P\", \"WEIGHK_P\", \"WGHTK_P\", \"WGHTP_P\", \"BMI_P\", \"DISTRESS\", \"DSTRS_P1\", \"DSTRSYR\", \"FAMSIZE2_P1\", \"INS12M\", \"AK3_P1\", \"AK7_P1\", \"AK10_P\", \"AK10A_P\", \"POVGWD_P\", \"POVLL2_P1\",\n",
    "    \"HHSIZE_P1\", \"DIABCK_P1\", \"AB26_P1\", \"AD38W\", \"AD39W\", \"AD41W\", \"AD42W\", \"AC11\", \"AE_SODA\", \"AC31\", \"AC31_P1\", \"AC46\", \"AC47\", \"HGHTI_P\", \"HGHTM_P\", \"HEIGHM_P\", \"WEIGHK_P\", \"WGHTK_P\", \"WGHTP_P\", \"BMI_P\", \"DISTRESS\", \"DSTRS_P1\", \"DSTRSYR\", \"FAMSIZE2_P1\", \"INS12M\", \"AK3_P1\", \"AK7_P1\", \"AK10_P\", \"AK10A_P\", \"AK22_P\", \"POVGWD_P\", \"POVLL2_P\",\n",
    "    \"HHSIZE_P1\", \"DIABCK_P1\", \"AB26\", \"AD41W\", \"AD42W\", \"AC11\", \"AE_SODA\", \"AC31_P1\", \"AC46\", \"AC47_P1\", \"AC48_P1\", \"AC52_P1\", \"AC59\", \"HGHTI_P\", \"HGHTM_P\", \"HEIGHM_P\", \"WEIGHK_P\", \"WGHTK_P\", \"WGHTP_P\", \"BMI_P\", \"DISTRESS\", \"DSTRS_P1\", \"DSTRSYR\", \"FAMSIZE2_P1\", \"INS12M\", \"AH102_P1\", \"AK7_P1\", \"AK10_P\", \"AK10A_P\", \"AK22_P\", \"POVGWD_P\",\n",
    "    \"HHSIZE_P1\", \"DIABCK_P1\", \"AB26\", \"AD41W\", \"AD42W\", \"AC11\", \"AE_SODA\", \"AC31_P1\", \"AC46\", \"AC47_P1\", \"AC48_P1\", \"HGHTI_P\", \"HGHTM_P\", \"HEIGHM_P\", \"WEIGHK_P\", \"WGHTK_P\", \"WGHTP_P\", \"BMI_P\", \"DISTRESS\", \"DSTRS_P1\", \"DSTRSYR\", \"FAMSIZE2_P1\", \"SERVED\", \"INS12M\", \"AH102_P1\", \"AK7_P1\", \"AK10_P\", \"AK10A_P\", \"AK22_P\", \"AK33_P1\", \"POVGWD_P\",\n",
    "    \"HHSIZE_P1\", \"AD38W_P1\", \"AD39W\", \"AD41W\", \"AD42W\", \"AE2\", \"AE3\", \"AE7\", \"AE_FRIES\", \"AE_FRUIT\", \"AC11\", \"AE_SODA\", \"AE_VEGI\", \"AC31_P1\", \"HGHTI_P\", \"HGHTM_P\", \"HEIGHM_P\", \"WEIGHK_P\", \"WGHTK_P\", \"WGHTP_P\", \"WT18K_P\", \"WT18P_P\", \"BMI_P\", \"DSTRS_P1\", \"DSTRSYR\", \"INS12M\", \"AH102_P1\", \"AK10_P\", \"AK10A_P\", \"AK22_P\", \"POVGWD_P\"\n",
    "]))"
   ]
  },
  {
   "cell_type": "code",
   "execution_count": 163,
   "metadata": {},
   "outputs": [],
   "source": [
    "features = ['AK3_P1', 'HGHTM_P', 'POVLL2_P1', 'AD38W_P1', 'DIABCK_P1', 'POVLL2_P', 'AB26', 'WEIGHK_P', 'AK33_P1', 'HEIGHM_P', 'WGHTK_P', 'AC47_P1', 'AB26_P1', 'POVGWD_P', 'AH102_P1']\n",
    "\n",
    "for i in features:\n",
    "    if i in numerical_features:\n",
    "        numerical_features.remove(i)"
   ]
  },
  {
   "cell_type": "code",
   "execution_count": 164,
   "metadata": {},
   "outputs": [],
   "source": [
    "categorical_features = X_train.drop(numerical_features, axis=1)\n",
    "categorical_features = categorical_features.columns"
   ]
  },
  {
   "cell_type": "code",
   "execution_count": 165,
   "metadata": {},
   "outputs": [],
   "source": [
    "# fill the numerical features with the median in the training set\n",
    "for col in numerical_features:\n",
    "    X_train[col] = X_train[col].fillna(X_train[col].median())"
   ]
  },
  {
   "cell_type": "code",
   "execution_count": 166,
   "metadata": {},
   "outputs": [],
   "source": [
    "# fill the numerical features with the median in the test data\n",
    "for col in numerical_features:\n",
    "    X_test[col] = X_test[col].fillna(X_train[col].median())"
   ]
  },
  {
   "cell_type": "code",
   "execution_count": 167,
   "metadata": {},
   "outputs": [],
   "source": [
    "# fill in the categorical features with the mode\n",
    "from sklearn.impute import SimpleImputer\n",
    "imputer = SimpleImputer(strategy=\"most_frequent\")\n",
    "X_train[:] = imputer.fit_transform(X_train)\n",
    "X_test[:] = imputer.transform(X_test)"
   ]
  },
  {
   "cell_type": "markdown",
   "metadata": {},
   "source": [
    "# Feature Selection"
   ]
  },
  {
   "cell_type": "code",
   "execution_count": 168,
   "metadata": {},
   "outputs": [
    {
     "name": "stdout",
     "output_type": "stream",
     "text": [
      "257\n",
      "Index(['AA5C', 'AB1', 'AB117', 'AB118', 'AB16', 'AB29V2', 'AB30', 'AB34',\n",
      "       'AB43', 'AB52',\n",
      "       ...\n",
      "       'AJ175_P1', 'AK7_P1V2', 'AC116_P1', 'AH129', 'AC146', 'AC160', 'AC161',\n",
      "       'AG44', 'AM44', 'AM45'],\n",
      "      dtype='object', length=257)\n"
     ]
    }
   ],
   "source": [
    "from sklearn.ensemble import RandomForestClassifier\n",
    "from sklearn.feature_selection import SelectFromModel\n",
    "model = RandomForestClassifier()\n",
    "sel = SelectFromModel(model)\n",
    "sel.fit(X_train, y_train)\n",
    "selected_feat= X_train.columns[(sel.get_support())]\n",
    "print(len(selected_feat))\n",
    "print(selected_feat)"
   ]
  },
  {
   "cell_type": "code",
   "execution_count": 169,
   "metadata": {},
   "outputs": [
    {
     "data": {
      "image/png": "[encoded data removed]",
      "text/plain": [
       "<Figure size 432x288 with 1 Axes>"
      ]
     },
     "metadata": {
      "needs_background": "light"
     },
     "output_type": "display_data"
    }
   ],
   "source": [
    "model.fit(X_train, y_train)\n",
    "feat_importances = pd.Series(model.feature_importances_, index=X_train.columns)\n",
    "feat_importances.nlargest(20).plot(kind='barh')\n",
    "plt.show()"
   ]
  },
  {
   "cell_type": "markdown",
   "metadata": {},
   "source": [
    "# Hypothesis Testing"
   ]
  },
  {
   "cell_type": "code",
   "execution_count": 170,
   "metadata": {},
   "outputs": [
    {
     "name": "stdout",
     "output_type": "stream",
     "text": [
      "Index(['AA5C', 'AB1', 'AB115', 'AB119', 'AB16', 'AB17', 'AB18', 'AB19',\n",
      "       'AB29V2', 'AB30',\n",
      "       ...\n",
      "       'VOTE_RSNNO', 'AJ115_P1', 'INTV_MODE2', 'AJ153V2_12', 'AJ194_6',\n",
      "       'AJ194_7', 'AJ200_9', 'AL91_1', 'AH53', 'AI37'],\n",
      "      dtype='object', length=320)\n"
     ]
    }
   ],
   "source": [
    "from xgboost import XGBClassifier\n",
    "xgb_model = XGBClassifier()\n",
    "sel2 = SelectFromModel(xgb_model)\n",
    "sel2.fit(X_train, y_train)\n",
    "selected_feat2 = X_train.columns[(sel2.get_support())]\n",
    "print(selected_feat2)"
   ]
  },
  {
   "cell_type": "markdown",
   "metadata": {},
   "source": [
    "# XGBoost"
   ]
  },
  {
   "cell_type": "code",
   "execution_count": 171,
   "metadata": {},
   "outputs": [],
   "source": [
    "from xgboost import XGBClassifier\n",
    "xgb = XGBClassifier()\n",
    "xgb.fit(X_train, y_train)\n",
    "y_pred = xgb.predict(X_test)\n",
    "y_prob = xgb.predict_proba(X_test)[:,1]"
   ]
  },
  {
   "cell_type": "code",
   "execution_count": 172,
   "metadata": {},
   "outputs": [
    {
     "name": "stdout",
     "output_type": "stream",
     "text": [
      "[[2340   45]\n",
      " [ 238   44]]\n",
      "=================================================\n",
      "Kappa Score: 0.19643102396458478\n",
      "Accuracy Score: 0.8938882639670042\n",
      "Precision: 0.4943820224719101\n",
      "Recall: 0.15602836879432624\n",
      "F1 Score: 0.23719676549865232\n",
      "AUC Score: 0.861150512214342\n",
      "=================================================\n"
     ]
    }
   ],
   "source": [
    "from sklearn.metrics import confusion_matrix, accuracy_score, precision_score, recall_score, f1_score, roc_auc_score, cohen_kappa_score, roc_curve, auc\n",
    "from sklearn.model_selection import cross_validate, RepeatedStratifiedKFold\n",
    "print(confusion_matrix(y_test, y_pred))\n",
    "print('=================================================')\n",
    "print(f'Kappa Score: {cohen_kappa_score(y_test, y_pred)}')\n",
    "print(f'Accuracy Score: {accuracy_score(y_test, y_pred)}')\n",
    "print(f'Precision: {precision_score(y_test, y_pred)}')\n",
    "print(f'Recall: {recall_score(y_test, y_pred)}')\n",
    "print(f'F1 Score: {f1_score(y_test, y_pred)}')\n",
    "print(f'AUC Score: {roc_auc_score(y_test, y_prob)}')\n",
    "print('=================================================')"
   ]
  },
  {
   "cell_type": "code",
   "execution_count": 173,
   "metadata": {},
   "outputs": [
    {
     "name": "stdout",
     "output_type": "stream",
     "text": [
      "=================================================\n",
      "Average Accuracy Score: 0.8906935781712058\n",
      "Average Precision Score: 0.451473354231975\n",
      "Average Recall Score: 0.16856349757113115\n",
      "Average F1 Score: 0.8906935781712058\n",
      "Average AUC Score: 0.8469835791900963\n",
      "=================================================\n"
     ]
    }
   ],
   "source": [
    "scoring = ['accuracy', 'precision', 'recall', 'f1_micro', 'roc_auc']\n",
    "cv = RepeatedStratifiedKFold(n_splits=5, n_repeats=1)\n",
    "\n",
    "results = cross_validate(xgb, X_train, y_train, scoring=scoring, cv=cv)\n",
    "print('=================================================')\n",
    "print(f\"Average Accuracy Score: {np.mean(results['test_accuracy'])}\")\n",
    "print(f\"Average Precision Score: {np.mean(results['test_precision'])}\")\n",
    "print(f\"Average Recall Score: {np.mean(results['test_recall'])}\")\n",
    "print(f\"Average F1 Score: {np.mean(results['test_f1_micro'])}\")\n",
    "print(f\"Average AUC Score: {np.mean(results['test_roc_auc'])}\")\n",
    "print('=================================================')"
   ]
  }
 ],
 "metadata": {
  "interpreter": {
   "hash": "ae5651488652e961febbac79b6ac121d2261f82ccebdbef63236855c9fe5b051"
  },
  "kernelspec": {
   "display_name": "Python 3.9.12 ('base')",
   "language": "python",
   "name": "python3"
  },
  "language_info": {
   "codemirror_mode": {
    "name": "ipython",
    "version": 3
   },
   "file_extension": ".py",
   "mimetype": "text/x-python",
   "name": "python",
   "nbconvert_exporter": "python",
   "pygments_lexer": "ipython3",
   "version": "3.9.12"
  },
  "orig_nbformat": 4
 },
 "nbformat": 4,
 "nbformat_minor": 2
}
