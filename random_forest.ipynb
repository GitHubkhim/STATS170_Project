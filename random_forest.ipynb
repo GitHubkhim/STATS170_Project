{
 "cells": [
  {
   "cell_type": "code",
   "execution_count": 7,
   "metadata": {},
   "outputs": [],
   "source": [
    "import pandas as pd\n",
    "import numpy as np\n",
    "import matplotlib.pyplot as plt\n",
    "import seaborn as sns\n",
    "\n",
    "import metrics_summary as ms"
   ]
  },
  {
   "cell_type": "code",
   "execution_count": 8,
   "metadata": {},
   "outputs": [],
   "source": [
    "np.random.seed(170)"
   ]
  },
  {
   "cell_type": "code",
   "execution_count": 9,
   "metadata": {},
   "outputs": [],
   "source": [
    "X_train = pd.read_csv(\"data/X_train.csv\")\n",
    "X_test = pd.read_csv(\"data/X_test.csv\")\n",
    "y_train = pd.read_csv(\"data/y_train.csv\").values.ravel()\n",
    "y_test = pd.read_csv(\"data/y_test.csv\").values.ravel()"
   ]
  },
  {
   "cell_type": "markdown",
   "metadata": {},
   "source": [
    "## SMOTE"
   ]
  },
  {
   "cell_type": "code",
   "execution_count": 10,
   "metadata": {},
   "outputs": [
    {
     "name": "stdout",
     "output_type": "stream",
     "text": [
      "(236866, 53) (236866,)\n"
     ]
    }
   ],
   "source": [
    "# implement SMOTE to oversample the minority class\n",
    "from imblearn.over_sampling import SMOTE\n",
    "os = SMOTE()\n",
    "X_os, y_os = os.fit_resample(X_train, y_train)\n",
    "print(X_os.shape, y_os.shape)"
   ]
  },
  {
   "cell_type": "markdown",
   "metadata": {},
   "source": [
    "## Random Forest"
   ]
  },
  {
   "cell_type": "code",
   "execution_count": 11,
   "metadata": {},
   "outputs": [
    {
     "name": "stdout",
     "output_type": "stream",
     "text": [
      "[[49945   750]\n",
      " [   34  6008]]\n",
      "=================================================\n",
      "Kappa Score: 0.9309899421804859\n",
      "Accuracy Score: 0.9861818566367626\n",
      "Precision: 0.8890204202426754\n",
      "Recall: 0.9943727242634889\n",
      "F1 Score: 0.93875\n",
      "AUC Score: 0.9897891829227495\n",
      "=================================================\n",
      "=================================================\n",
      "Average Accuracy Score: 0.9857386688199379\n",
      "Average Precision Score: 0.8833676481929059\n",
      "Average Recall Score: 0.9962733003805113\n",
      "Average F1 Score: 0.9857386688199379\n",
      "Average AUC Score: 0.994945558474105\n",
      "=================================================\n"
     ]
    },
    {
     "data": {
      "text/plain": [
       "0.994945558474105"
      ]
     },
     "execution_count": 11,
     "metadata": {},
     "output_type": "execute_result"
    }
   ],
   "source": [
    "from sklearn.ensemble import RandomForestClassifier\n",
    "rf = RandomForestClassifier()\n",
    "rf.fit(X_train, y_train)\n",
    "y_pred = rf.predict(X_test)\n",
    "ms.metrics_summary(y_test, y_pred)\n",
    "ms.crossval_summary(rf, X_train, y_train)"
   ]
  },
  {
   "cell_type": "code",
   "execution_count": 12,
   "metadata": {},
   "outputs": [
    {
     "ename": "NameError",
     "evalue": "name 'roc_curve' is not defined",
     "output_type": "error",
     "traceback": [
      "\u001b[1;31m---------------------------------------------------------------------------\u001b[0m",
      "\u001b[1;31mNameError\u001b[0m                                 Traceback (most recent call last)",
      "\u001b[1;32m~\\AppData\\Local\\Temp/ipykernel_19764/2256809256.py\u001b[0m in \u001b[0;36m<module>\u001b[1;34m\u001b[0m\n\u001b[0;32m      1\u001b[0m \u001b[0mprobs\u001b[0m \u001b[1;33m=\u001b[0m \u001b[0mrf\u001b[0m\u001b[1;33m.\u001b[0m\u001b[0mpredict_proba\u001b[0m\u001b[1;33m(\u001b[0m\u001b[0mX_test\u001b[0m\u001b[1;33m)\u001b[0m\u001b[1;33m\u001b[0m\u001b[1;33m\u001b[0m\u001b[0m\n\u001b[0;32m      2\u001b[0m \u001b[0mpreds\u001b[0m \u001b[1;33m=\u001b[0m \u001b[0mprobs\u001b[0m\u001b[1;33m[\u001b[0m\u001b[1;33m:\u001b[0m\u001b[1;33m,\u001b[0m\u001b[1;36m1\u001b[0m\u001b[1;33m]\u001b[0m\u001b[1;33m\u001b[0m\u001b[1;33m\u001b[0m\u001b[0m\n\u001b[1;32m----> 3\u001b[1;33m \u001b[0mfpr\u001b[0m\u001b[1;33m,\u001b[0m \u001b[0mtpr\u001b[0m\u001b[1;33m,\u001b[0m \u001b[0mthreshold\u001b[0m \u001b[1;33m=\u001b[0m \u001b[0mroc_curve\u001b[0m\u001b[1;33m(\u001b[0m\u001b[0my_test\u001b[0m\u001b[1;33m,\u001b[0m \u001b[0mpreds\u001b[0m\u001b[1;33m)\u001b[0m\u001b[1;33m\u001b[0m\u001b[1;33m\u001b[0m\u001b[0m\n\u001b[0m\u001b[0;32m      4\u001b[0m \u001b[0mroc_auc\u001b[0m \u001b[1;33m=\u001b[0m \u001b[0mauc\u001b[0m\u001b[1;33m(\u001b[0m\u001b[0mfpr\u001b[0m\u001b[1;33m,\u001b[0m \u001b[0mtpr\u001b[0m\u001b[1;33m)\u001b[0m\u001b[1;33m\u001b[0m\u001b[1;33m\u001b[0m\u001b[0m\n\u001b[0;32m      5\u001b[0m \u001b[1;33m\u001b[0m\u001b[0m\n",
      "\u001b[1;31mNameError\u001b[0m: name 'roc_curve' is not defined"
     ]
    }
   ],
   "source": [
    "# probs = rf.predict_proba(X_test)\n",
    "# preds = probs[:,1]\n",
    "# fpr, tpr, threshold = roc_curve(y_test, preds)\n",
    "# roc_auc = auc(fpr, tpr)\n",
    "\n",
    "# # method I: plt\n",
    "# import matplotlib.pyplot as plt\n",
    "# plt.title('Receiver Operating Characteristic')\n",
    "# plt.plot(fpr, tpr, 'b', label = 'Random Forest = %0.4f' % roc_auc)\n",
    "# plt.legend(loc = 'lower right')\n",
    "# plt.plot([0, 1], [0, 1],'r--')\n",
    "# plt.xlim([0, 1])\n",
    "# plt.ylim([0, 1])\n",
    "# plt.ylabel('True Positive Rate')\n",
    "# plt.xlabel('False Positive Rate')\n",
    "# plt.show()"
   ]
  },
  {
   "cell_type": "markdown",
   "metadata": {},
   "source": [
    "#### Random Forest Using Cost-Sensitive Learning"
   ]
  },
  {
   "cell_type": "code",
   "execution_count": 14,
   "metadata": {},
   "outputs": [
    {
     "name": "stdout",
     "output_type": "stream",
     "text": [
      "[[49963   732]\n",
      " [   71  5971]]\n",
      "=================================================\n",
      "Kappa Score: 0.9290471628439605\n",
      "Accuracy Score: 0.9858469781623984\n",
      "Precision: 0.8907951663434284\n",
      "Recall: 0.9882489241972857\n",
      "F1 Score: 0.936994899960769\n",
      "AUC Score: 0.9869048151906638\n",
      "=================================================\n",
      "=================================================\n",
      "Average Accuracy Score: 0.9853836468419134\n",
      "Average Precision Score: 0.8862227068171522\n",
      "Average Recall Score: 0.9882460648602972\n",
      "Average F1 Score: 0.9853836468419134\n",
      "Average AUC Score: 0.9948373232815797\n",
      "=================================================\n"
     ]
    },
    {
     "data": {
      "text/plain": [
       "0.9948373232815797"
      ]
     },
     "execution_count": 14,
     "metadata": {},
     "output_type": "execute_result"
    }
   ],
   "source": [
    "rf_cs = RandomForestClassifier(class_weight=\"balanced\")\n",
    "rf_cs.fit(X_train, y_train)\n",
    "y_pred = rf_cs.predict(X_test)\n",
    "ms.metrics_summary(y_test, y_pred)\n",
    "ms.crossval_summary(rf_cs, X_train, y_train)"
   ]
  },
  {
   "cell_type": "markdown",
   "metadata": {},
   "source": [
    "#### Random Forest Using SMOTE"
   ]
  },
  {
   "cell_type": "code",
   "execution_count": 15,
   "metadata": {},
   "outputs": [
    {
     "name": "stdout",
     "output_type": "stream",
     "text": [
      "[[49928   767]\n",
      " [   15  6027]]\n",
      "=================================================\n",
      "Kappa Score: 0.931337227937498\n",
      "Accuracy Score: 0.9862171070024851\n",
      "Precision: 0.8871062702384457\n",
      "Recall: 0.9975173783515392\n",
      "F1 Score: 0.9390775942661266\n",
      "AUC Score: 0.9911938405713707\n",
      "=================================================\n",
      "=================================================\n",
      "Average Accuracy Score: 0.9843625949761243\n",
      "Average Precision Score: 0.9851960033644727\n",
      "Average Recall Score: 0.983577489762317\n",
      "Average F1 Score: 0.9843625949761243\n",
      "Average AUC Score: 0.9990900923481923\n",
      "=================================================\n"
     ]
    },
    {
     "data": {
      "text/plain": [
       "0.9990900923481923"
      ]
     },
     "execution_count": 15,
     "metadata": {},
     "output_type": "execute_result"
    }
   ],
   "source": [
    "rf_os = RandomForestClassifier()\n",
    "rf_os.fit(X_os, y_os)\n",
    "y_pred = rf_os.predict(X_test)\n",
    "ms.metrics_summary(y_test, y_pred)\n",
    "ms.crossval_summary(rf_os, X_os, y_os)"
   ]
  },
  {
   "cell_type": "code",
   "execution_count": 16,
   "metadata": {},
   "outputs": [],
   "source": [
    "from sklearn.model_selection import RepeatedStratifiedKFold\n",
    "from sklearn.model_selection import GridSearchCV\n",
    "\n",
    "n_estimators = [10, 100, 1000, 10000]\n",
    "max_features = ['sqrt', 'log2']\n",
    "# define grid search\n",
    "grid = dict(n_estimators=n_estimators,max_features=max_features)\n",
    "cv = RepeatedStratifiedKFold(n_splits=10, n_repeats=3)\n",
    "grid_search = GridSearchCV(estimator=rf_os, param_grid=grid, n_jobs=-1, cv=cv, scoring='roc_auc',error_score=0)\n",
    "grid_result = grid_search.fit(X_train, y_train)\n",
    "# summarize results\n",
    "print(\"Best: %f using %s\" % (grid_result.best_score_, grid_result.best_params_))\n",
    "means = grid_result.cv_results_['mean_test_score']\n",
    "stds = grid_result.cv_results_['std_test_score']\n",
    "params = grid_result.cv_results_['params']\n",
    "for mean, stdev, param in zip(means, stds, params):\n",
    "    print(\"%f (%f) with: %r\" % (mean, stdev, param))"
   ]
  },
  {
   "cell_type": "code",
   "execution_count": 78,
   "metadata": {},
   "outputs": [
    {
     "data": {
      "image/png": "[encoded data removed]",
      "text/plain": [
       "<Figure size 1080x648 with 1 Axes>"
      ]
     },
     "metadata": {
      "needs_background": "light"
     },
     "output_type": "display_data"
    }
   ],
   "source": [
    "from sklearn.metrics import roc_curve, auc\n",
    "probs = rf.predict_proba(X_test)\n",
    "preds = probs[:, 1]\n",
    "fpr, tpr, threshold = roc_curve(y_test, preds)\n",
    "roc_auc = auc(fpr, tpr)\n",
    "\n",
    "plt.figure(figsize=(15, 9))\n",
    "plt.title('ROC Curve')\n",
    "plt.plot(fpr, tpr, 'b', label=f'Random Forest = {roc_auc:0.4f}')\n",
    "plt.legend(loc='lower right')\n",
    "plt.plot([0, 1], [0, 1], 'r--')\n",
    "plt.xlim([0, 1])\n",
    "plt.ylim([0, 1])\n",
    "plt.ylabel('True Positive Rate')\n",
    "plt.xlabel('False Positive Rate')\n",
    "plt.show()"
   ]
  }
 ],
 "metadata": {
  "interpreter": {
   "hash": "ae5651488652e961febbac79b6ac121d2261f82ccebdbef63236855c9fe5b051"
  },
  "kernelspec": {
   "display_name": "Python 3.9.7 ('base')",
   "language": "python",
   "name": "python3"
  },
  "language_info": {
   "codemirror_mode": {
    "name": "ipython",
    "version": 3
   },
   "file_extension": ".py",
   "mimetype": "text/x-python",
   "name": "python",
   "nbconvert_exporter": "python",
   "pygments_lexer": "ipython3",
   "version": "3.9.7"
  },
  "orig_nbformat": 4
 },
 "nbformat": 4,
 "nbformat_minor": 2
}
