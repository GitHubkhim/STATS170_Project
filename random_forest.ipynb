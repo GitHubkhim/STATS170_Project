{
 "cells": [
  {
   "cell_type": "code",
   "execution_count": 73,
   "metadata": {},
   "outputs": [],
   "source": [
    "import pandas as pd\n",
    "import numpy as np\n",
    "import matplotlib.pyplot as plt\n",
    "import seaborn as sns"
   ]
  },
  {
   "cell_type": "code",
   "execution_count": 74,
   "metadata": {},
   "outputs": [],
   "source": [
    "X_train = pd.read_csv(\"data/X_train.csv\")\n",
    "X_test = pd.read_csv(\"data/X_test.csv\")\n",
    "y_train = pd.read_csv(\"data/y_train.csv\").values.ravel()\n",
    "y_test = pd.read_csv(\"data/y_test.csv\").values.ravel()"
   ]
  },
  {
   "cell_type": "markdown",
   "metadata": {},
   "source": [
    "## SMOTE"
   ]
  },
  {
   "cell_type": "code",
   "execution_count": 75,
   "metadata": {},
   "outputs": [
    {
     "name": "stdout",
     "output_type": "stream",
     "text": [
      "(236866, 52) (236866,)\n"
     ]
    }
   ],
   "source": [
    "# implement SMOTE to oversample the minority class\n",
    "from imblearn.over_sampling import SMOTE\n",
    "os = SMOTE(random_state=0)\n",
    "os_X, os_y = os.fit_resample(X_train, y_train)\n",
    "print(os_X.shape, os_y.shape)"
   ]
  },
  {
   "cell_type": "code",
   "execution_count": 76,
   "metadata": {},
   "outputs": [],
   "source": [
    "from sklearn.metrics import confusion_matrix, accuracy_score, precision_score, recall_score, f1_score\n",
    "from sklearn.model_selection import cross_validate\n",
    "\n",
    "# Custom function to print the metrics of the model\n",
    "def display_metrics(y_test, y_pred):\n",
    "    print(confusion_matrix(y_test, y_pred))\n",
    "    print(f'Accuracy Score: {accuracy_score(y_test, y_pred)}')\n",
    "    print(f'Precision: {precision_score(y_test, y_pred)}')\n",
    "    print(f'Recall: {recall_score(y_test, y_pred)}')\n",
    "    print(f'F1 Score: {f1_score(y_test, y_pred)}')\n",
    "\n",
    "def display_crossval_scores(model, X_train, y_train):\n",
    "    scoring = ['accuracy', 'precision', 'recall', 'f1_micro']\n",
    "\n",
    "    results = cross_validate(model, X_train, y_train, scoring=scoring, cv=5)\n",
    "    print(f\"Average Accuracy Score: {np.mean(results['test_accuracy'])}\")\n",
    "    print(f\"Average Precision Score: {np.mean(results['test_precision'])}\")\n",
    "    print(f\"Average Recall Score: {np.mean(results['test_recall'])}\")\n",
    "    print(f\"Average F1 Score: {np.mean(results['test_f1_micro'])}\")"
   ]
  },
  {
   "cell_type": "markdown",
   "metadata": {},
   "source": [
    "## Random Forest"
   ]
  },
  {
   "cell_type": "code",
   "execution_count": 77,
   "metadata": {},
   "outputs": [
    {
     "name": "stdout",
     "output_type": "stream",
     "text": [
      "[[49937   758]\n",
      " [   25  6017]]\n",
      "Accuracy Score: 0.9861994818196239\n",
      "Precision: 0.8881180811808118\n",
      "Recall: 0.9958622972525654\n",
      "F1 Score: 0.9389092611375517\n",
      "Average Accuracy Score: 0.9857009010464107\n",
      "Average Precision Score: 0.883425799958198\n",
      "Average Recall Score: 0.9957715339500108\n",
      "Average F1 Score: 0.9857009010464107\n"
     ]
    }
   ],
   "source": [
    "from sklearn.ensemble import RandomForestClassifier\n",
    "rf = RandomForestClassifier(random_state=0)\n",
    "rf.fit(X_train, y_train)\n",
    "y_pred = rf.predict(X_test)\n",
    "display_metrics(y_test, y_pred)\n",
    "display_crossval_scores(rf, X_train, y_train)"
   ]
  },
  {
   "cell_type": "code",
   "execution_count": 78,
   "metadata": {},
   "outputs": [],
   "source": [
    "# from sklearn.model_selection import RepeatedStratifiedKFold\n",
    "# from sklearn.model_selection import GridSearchCV\n",
    "# from sklearn.ensemble import RandomForestClassifier\n",
    "# model = RandomForestClassifier()\n",
    "# n_estimators = [10, 100, 1000]\n",
    "# max_features = ['sqrt', 'log2']\n",
    "# # define grid search\n",
    "# grid = dict(n_estimators=n_estimators,max_features=max_features)\n",
    "# cv = RepeatedStratifiedKFold(n_splits=10, n_repeats=3, random_state=1)\n",
    "# grid_search = GridSearchCV(estimator=model, param_grid=grid, n_jobs=-1, cv=cv, scoring='f1_micro',error_score=0)\n",
    "# grid_result = grid_search.fit(X_train, y_train)\n",
    "# # summarize results\n",
    "# print(\"Best: %f using %s\" % (grid_result.best_score_, grid_result.best_params_))\n",
    "# means = grid_result.cv_results_['mean_test_score']\n",
    "# stds = grid_result.cv_results_['std_test_score']\n",
    "# params = grid_result.cv_results_['params']\n",
    "# for mean, stdev, param in zip(means, stds, params):\n",
    "#     print(\"%f (%f) with: %r\" % (mean, stdev, param))"
   ]
  },
  {
   "cell_type": "markdown",
   "metadata": {},
   "source": [
    "#### Random Forest Using Cost-Sensitive Learning"
   ]
  },
  {
   "cell_type": "code",
   "execution_count": 79,
   "metadata": {},
   "outputs": [
    {
     "name": "stdout",
     "output_type": "stream",
     "text": [
      "[[49969   726]\n",
      " [   68  5974]]\n",
      "Accuracy Score: 0.9860056048081499\n",
      "Precision: 0.8916417910447761\n",
      "Recall: 0.9887454485269779\n",
      "F1 Score: 0.937686391461309\n",
      "Average Accuracy Score: 0.9854289703382975\n",
      "Average Precision Score: 0.8867210570559202\n",
      "Average Recall Score: 0.988031216570415\n",
      "Average F1 Score: 0.9854289703382975\n"
     ]
    }
   ],
   "source": [
    "rf_cs = RandomForestClassifier(random_state=0, class_weight=\"balanced\")\n",
    "rf_cs.fit(X_train, y_train)\n",
    "y_pred = rf_cs.predict(X_test)\n",
    "display_metrics(y_test, y_pred)\n",
    "display_crossval_scores(rf_cs, X_train, y_train)"
   ]
  },
  {
   "cell_type": "markdown",
   "metadata": {},
   "source": [
    "#### Random Forest Using SMOTE"
   ]
  },
  {
   "cell_type": "code",
   "execution_count": 80,
   "metadata": {},
   "outputs": [
    {
     "name": "stdout",
     "output_type": "stream",
     "text": [
      "[[49927   768]\n",
      " [   16  6026]]\n",
      "Accuracy Score: 0.9861818566367626\n",
      "Precision: 0.8869590815425376\n",
      "Recall: 0.9973518702416418\n",
      "F1 Score: 0.9389217824867561\n",
      "Average Accuracy Score: 0.9864270184104594\n",
      "Average Precision Score: 0.98510447054596\n",
      "Average Recall Score: 0.9878414320091189\n",
      "Average F1 Score: 0.9864270184104594\n"
     ]
    }
   ],
   "source": [
    "rf_os = RandomForestClassifier(random_state=0)\n",
    "rf_os.fit(os_X, os_y)\n",
    "y_pred = rf_os.predict(X_test)\n",
    "display_metrics(y_test, y_pred)\n",
    "display_crossval_scores(rf_os, os_X, os_y)"
   ]
  }
 ],
 "metadata": {
  "interpreter": {
   "hash": "ae5651488652e961febbac79b6ac121d2261f82ccebdbef63236855c9fe5b051"
  },
  "kernelspec": {
   "display_name": "Python 3.9.7 ('base')",
   "language": "python",
   "name": "python3"
  },
  "language_info": {
   "codemirror_mode": {
    "name": "ipython",
    "version": 3
   },
   "file_extension": ".py",
   "mimetype": "text/x-python",
   "name": "python",
   "nbconvert_exporter": "python",
   "pygments_lexer": "ipython3",
   "version": "3.9.7"
  },
  "orig_nbformat": 4
 },
 "nbformat": 4,
 "nbformat_minor": 2
}
